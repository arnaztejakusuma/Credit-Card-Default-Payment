{
 "cells": [
  {
   "cell_type": "markdown",
   "metadata": {},
   "source": [
    "# Milestone 1"
   ]
  },
  {
   "cell_type": "markdown",
   "metadata": {},
   "source": [
    "# Introduction\n",
    "\n",
    "Nama    : Arnaz Tejakusuma\n",
    "\n",
    "Batch   : 012"
   ]
  },
  {
   "cell_type": "markdown",
   "metadata": {},
   "source": [
    "# Data description\n",
    "\n",
    "Dataset yang digunakan untuk project ini merupakan record penggunaan kartu kredit di Taiwan pada bulan April - September 2005. Dataset ini memuat berbagai informasi mulai dari yang sifatnya umum seperti credit limit, sex, age, education level, and marital status. Sampai informasi yang sifatnya lebih terperinci seperti repayment status, amount of bill, dan,amount of previous payment. Data-data ini dapat digunakan oleh analis kartu kredit bank untuk memperkirakan kemungkinan nasabah mengalami gagal bayar. Dataset ini diperoleh dari Google Cloud Platform dengan link sebagai berikut: https://console.cloud.google.com/bigquery?p=bigquery-public-data&d=ml_datasets&t=credit_card_default&page=table.\n",
    "\n",
    "Nama-nama kolom yang digunakan dalam dataset ini mungkin tidak umum bagi sebagian besar orang. Untuk itu saya mencari sumber yang memuat interpretasi dari setiap kolom.\n",
    "\n",
    "- limit_balance      : Amount of given credit in New Taiwan dollars\n",
    "\n",
    "- sex                : Gender (1 = male, 2 = female)\n",
    "\n",
    "- education_level    : (1 = graduate school, 2 = university, 3 = high school, 4 = others)\n",
    "\n",
    "- marital_status     : Marital status (1 = married, 2 = single, 3 = others)\n",
    "\n",
    "- age                : Age in years\n",
    "\n",
    "- pay_0              : Repayment status in September 2005 (-1 = pay duly, 1 = payment delay for one month, 2 = payment delay for two months, ..... 8 = payment delay for eight months, 9 = payment delay for none months and above).\n",
    "\n",
    "- pay_2, pay_3, pay_4, pay_5, pay_6: Repayment status in August, July, June, May, April 2005 (same scale as above).\n",
    "\n",
    "- bill_amt_1: Amount of bill statement in September 2005 in New Taiwan dollars.\n",
    "\n",
    "- bill_amt_2, bill_amt_3, bill_amt_4, bill_amt_5, bill_amt_6: Amount of bill statement in August, July, June, May, April 2005 in New Taiwan dollars.\n",
    "\n",
    "- pay_amt_1: Amount of previous payment in September 2005 in New Taiwan dollars.\n",
    "\n",
    "- pay_amt_2, pay_amt_3, pay_amt_4, pay_amt_5, pay_amt_6: Amount of previous payment in August, July, June, May, April 2005 in New Taiwan dollards.\n",
    "\n",
    "- default_payment_next_month: Default payment/gagal bayar (1 = yes, 0 = no).\n",
    "\n",
    "Sumber: https://towardsdatascience.com/catching-a-welcher-classifying-a-credit-card-defaulter-f4b21547a618"
   ]
  },
  {
   "cell_type": "markdown",
   "metadata": {},
   "source": [
    "# Objectives\n",
    "\n",
    "Project ini merupakan Milestone 1 di Fase 1 Program FTDS untuk mengevaluasi pemahaman mengenai supervised learning. Dalam project ini, tujuan utamanya adalah memprediksi 'default_payment_next_month' atau kemungkinan nasabah mengalami gagal bayar. Prediksi akan dilakukan dengan membandingkan beberapa model sekaligus yakni:\n",
    "\n",
    "- Logistic Regression\n",
    "- SVM\n",
    "- Decision Tree\n",
    "- Random Forest\n",
    "- KNN\n",
    "- Naive Bayes\n",
    "- Ada Boost"
   ]
  },
  {
   "cell_type": "markdown",
   "metadata": {},
   "source": [
    "# Memperoleh data dari Google Cloud Platform\n",
    "\n",
    "Berikut adalah query yang digunakan untuk memperoleh data dari Google Cloud Platform:\n",
    "\n",
    "SELECT limit_balance, sex, education_level, marital_status, age, pay_0, pay_2, pay_3, pay_4, pay_5, pay_6, bill_amt_1, bill_amt_2, bill_amt_3, bill_amt_4, bill_amt_5, bill_amt_6, pay_amt_1, pay_amt_2, pay_amt_3, pay_amt_4, pay_amt_5, pay_amt_6, default_payment_next_month\n",
    "\n",
    "FROM `bigquery-public-data.ml_datasets.credit_card_default` AS cc\n",
    "\n",
    "LIMIT 23916;"
   ]
  },
  {
   "cell_type": "markdown",
   "metadata": {},
   "source": [
    "# Import libraries"
   ]
  },
  {
   "cell_type": "code",
   "execution_count": 1,
   "metadata": {},
   "outputs": [],
   "source": [
    "import pandas as pd\n",
    "import numpy as np\n",
    "import matplotlib.pyplot as plt\n",
    "import seaborn as sns\n",
    "from sklearn.model_selection import train_test_split, cross_val_score\n",
    "from sklearn.preprocessing import MinMaxScaler\n",
    "from sklearn.model_selection import GridSearchCV\n",
    "from sklearn.linear_model import LogisticRegression\n",
    "from sklearn.svm import SVC\n",
    "from sklearn.tree import DecisionTreeClassifier \n",
    "from sklearn.ensemble import RandomForestClassifier, AdaBoostClassifier\n",
    "from sklearn.neighbors import KNeighborsClassifier\n",
    "from sklearn.naive_bayes import BernoulliNB\n",
    "from sklearn.metrics import classification_report, roc_auc_score, accuracy_score\n",
    "import warnings\n",
    "warnings.filterwarnings('ignore')"
   ]
  },
  {
   "cell_type": "markdown",
   "metadata": {},
   "source": [
    "# Data loading"
   ]
  },
  {
   "cell_type": "code",
   "execution_count": 2,
   "metadata": {},
   "outputs": [],
   "source": [
    "# Loading dataset\n",
    "df_ori = pd.read_csv('h8dsft_P1M1_Arnaz_Tejakusuma.csv')"
   ]
  },
  {
   "cell_type": "code",
   "execution_count": 3,
   "metadata": {},
   "outputs": [],
   "source": [
    "# Membuat copy dari dataset agar dataset asli tetap utuh dan dapat dicek sewaktu-waktu\n",
    "df_copy = df_ori.copy()"
   ]
  },
  {
   "cell_type": "markdown",
   "metadata": {},
   "source": [
    "# Menampilkan dataset"
   ]
  },
  {
   "cell_type": "code",
   "execution_count": 4,
   "metadata": {},
   "outputs": [],
   "source": [
    "# Mengganti display setting dari dataset agar tidak ada kolom yang terpotong\n",
    "pd.set_option('display.max.columns', None)"
   ]
  },
  {
   "cell_type": "code",
   "execution_count": 5,
   "metadata": {},
   "outputs": [
    {
     "data": {
      "text/html": [
       "<div>\n",
       "<style scoped>\n",
       "    .dataframe tbody tr th:only-of-type {\n",
       "        vertical-align: middle;\n",
       "    }\n",
       "\n",
       "    .dataframe tbody tr th {\n",
       "        vertical-align: top;\n",
       "    }\n",
       "\n",
       "    .dataframe thead th {\n",
       "        text-align: right;\n",
       "    }\n",
       "</style>\n",
       "<table border=\"1\" class=\"dataframe\">\n",
       "  <thead>\n",
       "    <tr style=\"text-align: right;\">\n",
       "      <th></th>\n",
       "      <th>limit_balance</th>\n",
       "      <th>sex</th>\n",
       "      <th>education_level</th>\n",
       "      <th>marital_status</th>\n",
       "      <th>age</th>\n",
       "      <th>pay_0</th>\n",
       "      <th>pay_2</th>\n",
       "      <th>pay_3</th>\n",
       "      <th>pay_4</th>\n",
       "      <th>pay_5</th>\n",
       "      <th>pay_6</th>\n",
       "      <th>bill_amt_1</th>\n",
       "      <th>bill_amt_2</th>\n",
       "      <th>bill_amt_3</th>\n",
       "      <th>bill_amt_4</th>\n",
       "      <th>bill_amt_5</th>\n",
       "      <th>bill_amt_6</th>\n",
       "      <th>pay_amt_1</th>\n",
       "      <th>pay_amt_2</th>\n",
       "      <th>pay_amt_3</th>\n",
       "      <th>pay_amt_4</th>\n",
       "      <th>pay_amt_5</th>\n",
       "      <th>pay_amt_6</th>\n",
       "      <th>default_payment_next_month</th>\n",
       "    </tr>\n",
       "  </thead>\n",
       "  <tbody>\n",
       "    <tr>\n",
       "      <th>0</th>\n",
       "      <td>50000</td>\n",
       "      <td>1</td>\n",
       "      <td>1</td>\n",
       "      <td>2</td>\n",
       "      <td>39</td>\n",
       "      <td>0</td>\n",
       "      <td>0</td>\n",
       "      <td>0</td>\n",
       "      <td>0</td>\n",
       "      <td>0</td>\n",
       "      <td>0</td>\n",
       "      <td>47174</td>\n",
       "      <td>47974</td>\n",
       "      <td>48630</td>\n",
       "      <td>50803</td>\n",
       "      <td>30789</td>\n",
       "      <td>15874</td>\n",
       "      <td>1800</td>\n",
       "      <td>2000</td>\n",
       "      <td>3000</td>\n",
       "      <td>2000</td>\n",
       "      <td>2000</td>\n",
       "      <td>2000</td>\n",
       "      <td>0</td>\n",
       "    </tr>\n",
       "    <tr>\n",
       "      <th>1</th>\n",
       "      <td>110000</td>\n",
       "      <td>2</td>\n",
       "      <td>1</td>\n",
       "      <td>2</td>\n",
       "      <td>29</td>\n",
       "      <td>0</td>\n",
       "      <td>0</td>\n",
       "      <td>0</td>\n",
       "      <td>0</td>\n",
       "      <td>0</td>\n",
       "      <td>0</td>\n",
       "      <td>48088</td>\n",
       "      <td>45980</td>\n",
       "      <td>44231</td>\n",
       "      <td>32489</td>\n",
       "      <td>26354</td>\n",
       "      <td>20221</td>\n",
       "      <td>2000</td>\n",
       "      <td>2010</td>\n",
       "      <td>3000</td>\n",
       "      <td>3000</td>\n",
       "      <td>3000</td>\n",
       "      <td>1000</td>\n",
       "      <td>0</td>\n",
       "    </tr>\n",
       "    <tr>\n",
       "      <th>2</th>\n",
       "      <td>270000</td>\n",
       "      <td>1</td>\n",
       "      <td>1</td>\n",
       "      <td>2</td>\n",
       "      <td>36</td>\n",
       "      <td>0</td>\n",
       "      <td>0</td>\n",
       "      <td>0</td>\n",
       "      <td>2</td>\n",
       "      <td>0</td>\n",
       "      <td>0</td>\n",
       "      <td>78630</td>\n",
       "      <td>68921</td>\n",
       "      <td>46512</td>\n",
       "      <td>40335</td>\n",
       "      <td>37165</td>\n",
       "      <td>22156</td>\n",
       "      <td>10076</td>\n",
       "      <td>4018</td>\n",
       "      <td>14</td>\n",
       "      <td>2051</td>\n",
       "      <td>2000</td>\n",
       "      <td>0</td>\n",
       "      <td>0</td>\n",
       "    </tr>\n",
       "    <tr>\n",
       "      <th>3</th>\n",
       "      <td>130000</td>\n",
       "      <td>1</td>\n",
       "      <td>1</td>\n",
       "      <td>1</td>\n",
       "      <td>45</td>\n",
       "      <td>0</td>\n",
       "      <td>0</td>\n",
       "      <td>0</td>\n",
       "      <td>0</td>\n",
       "      <td>0</td>\n",
       "      <td>0</td>\n",
       "      <td>58180</td>\n",
       "      <td>59134</td>\n",
       "      <td>61156</td>\n",
       "      <td>62377</td>\n",
       "      <td>63832</td>\n",
       "      <td>65099</td>\n",
       "      <td>2886</td>\n",
       "      <td>2908</td>\n",
       "      <td>2129</td>\n",
       "      <td>2354</td>\n",
       "      <td>2366</td>\n",
       "      <td>2291</td>\n",
       "      <td>0</td>\n",
       "    </tr>\n",
       "    <tr>\n",
       "      <th>4</th>\n",
       "      <td>50000</td>\n",
       "      <td>1</td>\n",
       "      <td>1</td>\n",
       "      <td>2</td>\n",
       "      <td>24</td>\n",
       "      <td>0</td>\n",
       "      <td>0</td>\n",
       "      <td>0</td>\n",
       "      <td>0</td>\n",
       "      <td>0</td>\n",
       "      <td>0</td>\n",
       "      <td>42058</td>\n",
       "      <td>35340</td>\n",
       "      <td>22110</td>\n",
       "      <td>19837</td>\n",
       "      <td>19855</td>\n",
       "      <td>20151</td>\n",
       "      <td>1367</td>\n",
       "      <td>1606</td>\n",
       "      <td>692</td>\n",
       "      <td>709</td>\n",
       "      <td>721</td>\n",
       "      <td>692</td>\n",
       "      <td>0</td>\n",
       "    </tr>\n",
       "  </tbody>\n",
       "</table>\n",
       "</div>"
      ],
      "text/plain": [
       "   limit_balance  sex  education_level  marital_status  age  pay_0  pay_2  \\\n",
       "0          50000    1                1               2   39      0      0   \n",
       "1         110000    2                1               2   29      0      0   \n",
       "2         270000    1                1               2   36      0      0   \n",
       "3         130000    1                1               1   45      0      0   \n",
       "4          50000    1                1               2   24      0      0   \n",
       "\n",
       "   pay_3  pay_4  pay_5  pay_6  bill_amt_1  bill_amt_2  bill_amt_3  bill_amt_4  \\\n",
       "0      0      0      0      0       47174       47974       48630       50803   \n",
       "1      0      0      0      0       48088       45980       44231       32489   \n",
       "2      0      2      0      0       78630       68921       46512       40335   \n",
       "3      0      0      0      0       58180       59134       61156       62377   \n",
       "4      0      0      0      0       42058       35340       22110       19837   \n",
       "\n",
       "   bill_amt_5  bill_amt_6  pay_amt_1  pay_amt_2  pay_amt_3  pay_amt_4  \\\n",
       "0       30789       15874       1800       2000       3000       2000   \n",
       "1       26354       20221       2000       2010       3000       3000   \n",
       "2       37165       22156      10076       4018         14       2051   \n",
       "3       63832       65099       2886       2908       2129       2354   \n",
       "4       19855       20151       1367       1606        692        709   \n",
       "\n",
       "   pay_amt_5  pay_amt_6  default_payment_next_month  \n",
       "0       2000       2000                           0  \n",
       "1       3000       1000                           0  \n",
       "2       2000          0                           0  \n",
       "3       2366       2291                           0  \n",
       "4        721        692                           0  "
      ]
     },
     "execution_count": 5,
     "metadata": {},
     "output_type": "execute_result"
    }
   ],
   "source": [
    "# Memastikan dataset berhasil diload dengan baik, menampilkan 5 baris awal dari dataset\n",
    "df_copy.head(5)"
   ]
  },
  {
   "cell_type": "code",
   "execution_count": 6,
   "metadata": {},
   "outputs": [
    {
     "data": {
      "text/html": [
       "<div>\n",
       "<style scoped>\n",
       "    .dataframe tbody tr th:only-of-type {\n",
       "        vertical-align: middle;\n",
       "    }\n",
       "\n",
       "    .dataframe tbody tr th {\n",
       "        vertical-align: top;\n",
       "    }\n",
       "\n",
       "    .dataframe thead th {\n",
       "        text-align: right;\n",
       "    }\n",
       "</style>\n",
       "<table border=\"1\" class=\"dataframe\">\n",
       "  <thead>\n",
       "    <tr style=\"text-align: right;\">\n",
       "      <th></th>\n",
       "      <th>limit_balance</th>\n",
       "      <th>sex</th>\n",
       "      <th>education_level</th>\n",
       "      <th>marital_status</th>\n",
       "      <th>age</th>\n",
       "      <th>pay_0</th>\n",
       "      <th>pay_2</th>\n",
       "      <th>pay_3</th>\n",
       "      <th>pay_4</th>\n",
       "      <th>pay_5</th>\n",
       "      <th>pay_6</th>\n",
       "      <th>bill_amt_1</th>\n",
       "      <th>bill_amt_2</th>\n",
       "      <th>bill_amt_3</th>\n",
       "      <th>bill_amt_4</th>\n",
       "      <th>bill_amt_5</th>\n",
       "      <th>bill_amt_6</th>\n",
       "      <th>pay_amt_1</th>\n",
       "      <th>pay_amt_2</th>\n",
       "      <th>pay_amt_3</th>\n",
       "      <th>pay_amt_4</th>\n",
       "      <th>pay_amt_5</th>\n",
       "      <th>pay_amt_6</th>\n",
       "      <th>default_payment_next_month</th>\n",
       "    </tr>\n",
       "  </thead>\n",
       "  <tbody>\n",
       "    <tr>\n",
       "      <th>2960</th>\n",
       "      <td>210000</td>\n",
       "      <td>2</td>\n",
       "      <td>2</td>\n",
       "      <td>1</td>\n",
       "      <td>39</td>\n",
       "      <td>-1</td>\n",
       "      <td>-1</td>\n",
       "      <td>-1</td>\n",
       "      <td>-1</td>\n",
       "      <td>-2</td>\n",
       "      <td>-1</td>\n",
       "      <td>44100</td>\n",
       "      <td>0</td>\n",
       "      <td>28428</td>\n",
       "      <td>0</td>\n",
       "      <td>0</td>\n",
       "      <td>12000</td>\n",
       "      <td>0</td>\n",
       "      <td>28428</td>\n",
       "      <td>0</td>\n",
       "      <td>0</td>\n",
       "      <td>12000</td>\n",
       "      <td>33664</td>\n",
       "      <td>0</td>\n",
       "    </tr>\n",
       "    <tr>\n",
       "      <th>2961</th>\n",
       "      <td>280000</td>\n",
       "      <td>2</td>\n",
       "      <td>1</td>\n",
       "      <td>1</td>\n",
       "      <td>41</td>\n",
       "      <td>2</td>\n",
       "      <td>-1</td>\n",
       "      <td>-1</td>\n",
       "      <td>-1</td>\n",
       "      <td>-2</td>\n",
       "      <td>-1</td>\n",
       "      <td>280</td>\n",
       "      <td>6852</td>\n",
       "      <td>486</td>\n",
       "      <td>0</td>\n",
       "      <td>0</td>\n",
       "      <td>244</td>\n",
       "      <td>6859</td>\n",
       "      <td>486</td>\n",
       "      <td>0</td>\n",
       "      <td>0</td>\n",
       "      <td>244</td>\n",
       "      <td>0</td>\n",
       "      <td>0</td>\n",
       "    </tr>\n",
       "    <tr>\n",
       "      <th>2962</th>\n",
       "      <td>80000</td>\n",
       "      <td>1</td>\n",
       "      <td>1</td>\n",
       "      <td>2</td>\n",
       "      <td>28</td>\n",
       "      <td>1</td>\n",
       "      <td>-1</td>\n",
       "      <td>-1</td>\n",
       "      <td>-1</td>\n",
       "      <td>-2</td>\n",
       "      <td>-2</td>\n",
       "      <td>0</td>\n",
       "      <td>47</td>\n",
       "      <td>207</td>\n",
       "      <td>0</td>\n",
       "      <td>0</td>\n",
       "      <td>0</td>\n",
       "      <td>47</td>\n",
       "      <td>207</td>\n",
       "      <td>0</td>\n",
       "      <td>0</td>\n",
       "      <td>0</td>\n",
       "      <td>0</td>\n",
       "      <td>0</td>\n",
       "    </tr>\n",
       "    <tr>\n",
       "      <th>2963</th>\n",
       "      <td>200000</td>\n",
       "      <td>1</td>\n",
       "      <td>2</td>\n",
       "      <td>1</td>\n",
       "      <td>53</td>\n",
       "      <td>1</td>\n",
       "      <td>-1</td>\n",
       "      <td>-1</td>\n",
       "      <td>-2</td>\n",
       "      <td>-2</td>\n",
       "      <td>-1</td>\n",
       "      <td>0</td>\n",
       "      <td>2920</td>\n",
       "      <td>0</td>\n",
       "      <td>0</td>\n",
       "      <td>0</td>\n",
       "      <td>6753</td>\n",
       "      <td>2920</td>\n",
       "      <td>0</td>\n",
       "      <td>0</td>\n",
       "      <td>0</td>\n",
       "      <td>6753</td>\n",
       "      <td>0</td>\n",
       "      <td>1</td>\n",
       "    </tr>\n",
       "    <tr>\n",
       "      <th>2964</th>\n",
       "      <td>20000</td>\n",
       "      <td>2</td>\n",
       "      <td>1</td>\n",
       "      <td>2</td>\n",
       "      <td>24</td>\n",
       "      <td>-1</td>\n",
       "      <td>-1</td>\n",
       "      <td>-2</td>\n",
       "      <td>-2</td>\n",
       "      <td>-2</td>\n",
       "      <td>-2</td>\n",
       "      <td>379</td>\n",
       "      <td>0</td>\n",
       "      <td>0</td>\n",
       "      <td>0</td>\n",
       "      <td>0</td>\n",
       "      <td>0</td>\n",
       "      <td>0</td>\n",
       "      <td>0</td>\n",
       "      <td>0</td>\n",
       "      <td>0</td>\n",
       "      <td>0</td>\n",
       "      <td>0</td>\n",
       "      <td>0</td>\n",
       "    </tr>\n",
       "  </tbody>\n",
       "</table>\n",
       "</div>"
      ],
      "text/plain": [
       "      limit_balance  sex  education_level  marital_status  age  pay_0  pay_2  \\\n",
       "2960         210000    2                2               1   39     -1     -1   \n",
       "2961         280000    2                1               1   41      2     -1   \n",
       "2962          80000    1                1               2   28      1     -1   \n",
       "2963         200000    1                2               1   53      1     -1   \n",
       "2964          20000    2                1               2   24     -1     -1   \n",
       "\n",
       "      pay_3  pay_4  pay_5  pay_6  bill_amt_1  bill_amt_2  bill_amt_3  \\\n",
       "2960     -1     -1     -2     -1       44100           0       28428   \n",
       "2961     -1     -1     -2     -1         280        6852         486   \n",
       "2962     -1     -1     -2     -2           0          47         207   \n",
       "2963     -1     -2     -2     -1           0        2920           0   \n",
       "2964     -2     -2     -2     -2         379           0           0   \n",
       "\n",
       "      bill_amt_4  bill_amt_5  bill_amt_6  pay_amt_1  pay_amt_2  pay_amt_3  \\\n",
       "2960           0           0       12000          0      28428          0   \n",
       "2961           0           0         244       6859        486          0   \n",
       "2962           0           0           0         47        207          0   \n",
       "2963           0           0        6753       2920          0          0   \n",
       "2964           0           0           0          0          0          0   \n",
       "\n",
       "      pay_amt_4  pay_amt_5  pay_amt_6  default_payment_next_month  \n",
       "2960          0      12000      33664                           0  \n",
       "2961          0        244          0                           0  \n",
       "2962          0          0          0                           0  \n",
       "2963          0       6753          0                           1  \n",
       "2964          0          0          0                           0  "
      ]
     },
     "execution_count": 6,
     "metadata": {},
     "output_type": "execute_result"
    }
   ],
   "source": [
    "# Memastikan dataset berhasil diload dengan baik, menampilkan 5 baris akhir dari dataset\n",
    "df_copy.tail(5)"
   ]
  },
  {
   "cell_type": "code",
   "execution_count": 7,
   "metadata": {},
   "outputs": [
    {
     "data": {
      "text/html": [
       "<div>\n",
       "<style scoped>\n",
       "    .dataframe tbody tr th:only-of-type {\n",
       "        vertical-align: middle;\n",
       "    }\n",
       "\n",
       "    .dataframe tbody tr th {\n",
       "        vertical-align: top;\n",
       "    }\n",
       "\n",
       "    .dataframe thead th {\n",
       "        text-align: right;\n",
       "    }\n",
       "</style>\n",
       "<table border=\"1\" class=\"dataframe\">\n",
       "  <thead>\n",
       "    <tr style=\"text-align: right;\">\n",
       "      <th></th>\n",
       "      <th>limit_balance</th>\n",
       "      <th>sex</th>\n",
       "      <th>education_level</th>\n",
       "      <th>marital_status</th>\n",
       "      <th>age</th>\n",
       "      <th>pay_0</th>\n",
       "      <th>pay_2</th>\n",
       "      <th>pay_3</th>\n",
       "      <th>pay_4</th>\n",
       "      <th>pay_5</th>\n",
       "      <th>pay_6</th>\n",
       "      <th>bill_amt_1</th>\n",
       "      <th>bill_amt_2</th>\n",
       "      <th>bill_amt_3</th>\n",
       "      <th>bill_amt_4</th>\n",
       "      <th>bill_amt_5</th>\n",
       "      <th>bill_amt_6</th>\n",
       "      <th>pay_amt_1</th>\n",
       "      <th>pay_amt_2</th>\n",
       "      <th>pay_amt_3</th>\n",
       "      <th>pay_amt_4</th>\n",
       "      <th>pay_amt_5</th>\n",
       "      <th>pay_amt_6</th>\n",
       "      <th>default_payment_next_month</th>\n",
       "    </tr>\n",
       "  </thead>\n",
       "  <tbody>\n",
       "    <tr>\n",
       "      <th>1720</th>\n",
       "      <td>70000</td>\n",
       "      <td>2</td>\n",
       "      <td>2</td>\n",
       "      <td>2</td>\n",
       "      <td>22</td>\n",
       "      <td>2</td>\n",
       "      <td>2</td>\n",
       "      <td>2</td>\n",
       "      <td>2</td>\n",
       "      <td>0</td>\n",
       "      <td>0</td>\n",
       "      <td>69242</td>\n",
       "      <td>71007</td>\n",
       "      <td>72596</td>\n",
       "      <td>70467</td>\n",
       "      <td>48129</td>\n",
       "      <td>47751</td>\n",
       "      <td>3500</td>\n",
       "      <td>3300</td>\n",
       "      <td>0</td>\n",
       "      <td>2000</td>\n",
       "      <td>2000</td>\n",
       "      <td>2000</td>\n",
       "      <td>0</td>\n",
       "    </tr>\n",
       "    <tr>\n",
       "      <th>1880</th>\n",
       "      <td>50000</td>\n",
       "      <td>2</td>\n",
       "      <td>3</td>\n",
       "      <td>2</td>\n",
       "      <td>26</td>\n",
       "      <td>1</td>\n",
       "      <td>2</td>\n",
       "      <td>2</td>\n",
       "      <td>2</td>\n",
       "      <td>2</td>\n",
       "      <td>2</td>\n",
       "      <td>31336</td>\n",
       "      <td>32320</td>\n",
       "      <td>33408</td>\n",
       "      <td>32577</td>\n",
       "      <td>34329</td>\n",
       "      <td>33643</td>\n",
       "      <td>1800</td>\n",
       "      <td>1900</td>\n",
       "      <td>0</td>\n",
       "      <td>2600</td>\n",
       "      <td>0</td>\n",
       "      <td>1700</td>\n",
       "      <td>1</td>\n",
       "    </tr>\n",
       "    <tr>\n",
       "      <th>1440</th>\n",
       "      <td>100000</td>\n",
       "      <td>1</td>\n",
       "      <td>2</td>\n",
       "      <td>1</td>\n",
       "      <td>40</td>\n",
       "      <td>0</td>\n",
       "      <td>0</td>\n",
       "      <td>0</td>\n",
       "      <td>-1</td>\n",
       "      <td>-1</td>\n",
       "      <td>-1</td>\n",
       "      <td>99958</td>\n",
       "      <td>76554</td>\n",
       "      <td>58610</td>\n",
       "      <td>9779</td>\n",
       "      <td>12273</td>\n",
       "      <td>2701</td>\n",
       "      <td>2975</td>\n",
       "      <td>2789</td>\n",
       "      <td>9779</td>\n",
       "      <td>12273</td>\n",
       "      <td>3105</td>\n",
       "      <td>16828</td>\n",
       "      <td>0</td>\n",
       "    </tr>\n",
       "    <tr>\n",
       "      <th>93</th>\n",
       "      <td>30000</td>\n",
       "      <td>2</td>\n",
       "      <td>2</td>\n",
       "      <td>2</td>\n",
       "      <td>50</td>\n",
       "      <td>0</td>\n",
       "      <td>0</td>\n",
       "      <td>0</td>\n",
       "      <td>0</td>\n",
       "      <td>0</td>\n",
       "      <td>0</td>\n",
       "      <td>25416</td>\n",
       "      <td>26260</td>\n",
       "      <td>24084</td>\n",
       "      <td>23631</td>\n",
       "      <td>29863</td>\n",
       "      <td>29369</td>\n",
       "      <td>1389</td>\n",
       "      <td>1602</td>\n",
       "      <td>1563</td>\n",
       "      <td>8500</td>\n",
       "      <td>1100</td>\n",
       "      <td>500</td>\n",
       "      <td>0</td>\n",
       "    </tr>\n",
       "    <tr>\n",
       "      <th>2159</th>\n",
       "      <td>280000</td>\n",
       "      <td>2</td>\n",
       "      <td>1</td>\n",
       "      <td>2</td>\n",
       "      <td>25</td>\n",
       "      <td>-2</td>\n",
       "      <td>-2</td>\n",
       "      <td>-2</td>\n",
       "      <td>-2</td>\n",
       "      <td>-2</td>\n",
       "      <td>-2</td>\n",
       "      <td>985</td>\n",
       "      <td>500</td>\n",
       "      <td>500</td>\n",
       "      <td>0</td>\n",
       "      <td>500</td>\n",
       "      <td>4778</td>\n",
       "      <td>505</td>\n",
       "      <td>500</td>\n",
       "      <td>0</td>\n",
       "      <td>500</td>\n",
       "      <td>4778</td>\n",
       "      <td>4898</td>\n",
       "      <td>0</td>\n",
       "    </tr>\n",
       "  </tbody>\n",
       "</table>\n",
       "</div>"
      ],
      "text/plain": [
       "      limit_balance  sex  education_level  marital_status  age  pay_0  pay_2  \\\n",
       "1720          70000    2                2               2   22      2      2   \n",
       "1880          50000    2                3               2   26      1      2   \n",
       "1440         100000    1                2               1   40      0      0   \n",
       "93            30000    2                2               2   50      0      0   \n",
       "2159         280000    2                1               2   25     -2     -2   \n",
       "\n",
       "      pay_3  pay_4  pay_5  pay_6  bill_amt_1  bill_amt_2  bill_amt_3  \\\n",
       "1720      2      2      0      0       69242       71007       72596   \n",
       "1880      2      2      2      2       31336       32320       33408   \n",
       "1440      0     -1     -1     -1       99958       76554       58610   \n",
       "93        0      0      0      0       25416       26260       24084   \n",
       "2159     -2     -2     -2     -2         985         500         500   \n",
       "\n",
       "      bill_amt_4  bill_amt_5  bill_amt_6  pay_amt_1  pay_amt_2  pay_amt_3  \\\n",
       "1720       70467       48129       47751       3500       3300          0   \n",
       "1880       32577       34329       33643       1800       1900          0   \n",
       "1440        9779       12273        2701       2975       2789       9779   \n",
       "93         23631       29863       29369       1389       1602       1563   \n",
       "2159           0         500        4778        505        500          0   \n",
       "\n",
       "      pay_amt_4  pay_amt_5  pay_amt_6  default_payment_next_month  \n",
       "1720       2000       2000       2000                           0  \n",
       "1880       2600          0       1700                           1  \n",
       "1440      12273       3105      16828                           0  \n",
       "93         8500       1100        500                           0  \n",
       "2159        500       4778       4898                           0  "
      ]
     },
     "execution_count": 7,
     "metadata": {},
     "output_type": "execute_result"
    }
   ],
   "source": [
    "# Memastikan dataset berhasil diload dengan baik, menampilkan 5 baris secara acak dari dataset\n",
    "df_copy.sample(5)"
   ]
  },
  {
   "cell_type": "markdown",
   "metadata": {},
   "source": [
    "# Preview dataset, memastikan jumlah baris, kolom, tipe data, dan memeriksa entry dengan value null"
   ]
  },
  {
   "cell_type": "code",
   "execution_count": 8,
   "metadata": {},
   "outputs": [
    {
     "data": {
      "text/plain": [
       "(2965, 24)"
      ]
     },
     "execution_count": 8,
     "metadata": {},
     "output_type": "execute_result"
    }
   ],
   "source": [
    "# Memastikan total jumlah baris dan kolom dari dataset\n",
    "df_copy.shape"
   ]
  },
  {
   "cell_type": "markdown",
   "metadata": {},
   "source": [
    "Dataset ini terdiri dari:\n",
    "\n",
    "- 2965 baris\n",
    "\n",
    "- 24 kolom"
   ]
  },
  {
   "cell_type": "code",
   "execution_count": 9,
   "metadata": {},
   "outputs": [
    {
     "name": "stdout",
     "output_type": "stream",
     "text": [
      "<class 'pandas.core.frame.DataFrame'>\n",
      "RangeIndex: 2965 entries, 0 to 2964\n",
      "Data columns (total 24 columns):\n",
      " #   Column                      Non-Null Count  Dtype\n",
      "---  ------                      --------------  -----\n",
      " 0   limit_balance               2965 non-null   int64\n",
      " 1   sex                         2965 non-null   int64\n",
      " 2   education_level             2965 non-null   int64\n",
      " 3   marital_status              2965 non-null   int64\n",
      " 4   age                         2965 non-null   int64\n",
      " 5   pay_0                       2965 non-null   int64\n",
      " 6   pay_2                       2965 non-null   int64\n",
      " 7   pay_3                       2965 non-null   int64\n",
      " 8   pay_4                       2965 non-null   int64\n",
      " 9   pay_5                       2965 non-null   int64\n",
      " 10  pay_6                       2965 non-null   int64\n",
      " 11  bill_amt_1                  2965 non-null   int64\n",
      " 12  bill_amt_2                  2965 non-null   int64\n",
      " 13  bill_amt_3                  2965 non-null   int64\n",
      " 14  bill_amt_4                  2965 non-null   int64\n",
      " 15  bill_amt_5                  2965 non-null   int64\n",
      " 16  bill_amt_6                  2965 non-null   int64\n",
      " 17  pay_amt_1                   2965 non-null   int64\n",
      " 18  pay_amt_2                   2965 non-null   int64\n",
      " 19  pay_amt_3                   2965 non-null   int64\n",
      " 20  pay_amt_4                   2965 non-null   int64\n",
      " 21  pay_amt_5                   2965 non-null   int64\n",
      " 22  pay_amt_6                   2965 non-null   int64\n",
      " 23  default_payment_next_month  2965 non-null   int64\n",
      "dtypes: int64(24)\n",
      "memory usage: 556.1 KB\n"
     ]
    }
   ],
   "source": [
    "# Memeriksa tipe data\n",
    "df_copy.info()"
   ]
  },
  {
   "cell_type": "markdown",
   "metadata": {},
   "source": [
    "Secara singkat singkat dapat kita lihat bahwa:\n",
    "\n",
    "- Terdapat 24 kolom dengan tipe integer\n",
    "\n",
    "- Berdasarkan pengamatan singkat, tidak terdapat entry dengan value null. Namun nantinya akan diteliti lebih lanjut apakah ada entry dengan value anomali."
   ]
  },
  {
   "cell_type": "code",
   "execution_count": 10,
   "metadata": {},
   "outputs": [
    {
     "data": {
      "text/plain": [
       "limit_balance                 0\n",
       "sex                           0\n",
       "education_level               0\n",
       "marital_status                0\n",
       "age                           0\n",
       "pay_0                         0\n",
       "pay_2                         0\n",
       "pay_3                         0\n",
       "pay_4                         0\n",
       "pay_5                         0\n",
       "pay_6                         0\n",
       "bill_amt_1                    0\n",
       "bill_amt_2                    0\n",
       "bill_amt_3                    0\n",
       "bill_amt_4                    0\n",
       "bill_amt_5                    0\n",
       "bill_amt_6                    0\n",
       "pay_amt_1                     0\n",
       "pay_amt_2                     0\n",
       "pay_amt_3                     0\n",
       "pay_amt_4                     0\n",
       "pay_amt_5                     0\n",
       "pay_amt_6                     0\n",
       "default_payment_next_month    0\n",
       "dtype: int64"
      ]
     },
     "execution_count": 10,
     "metadata": {},
     "output_type": "execute_result"
    }
   ],
   "source": [
    "# Memastikan kolom yang memiliki entry null\n",
    "df_copy.isnull().sum()"
   ]
  },
  {
   "cell_type": "markdown",
   "metadata": {},
   "source": [
    "Dataset ini memang sepertinya tidak memiliki entry dengan value null. Namun nantinya akan diteliti lebih lanjut apakah ada entry dengan value anomali."
   ]
  },
  {
   "cell_type": "code",
   "execution_count": 11,
   "metadata": {},
   "outputs": [
    {
     "data": {
      "text/html": [
       "<div>\n",
       "<style scoped>\n",
       "    .dataframe tbody tr th:only-of-type {\n",
       "        vertical-align: middle;\n",
       "    }\n",
       "\n",
       "    .dataframe tbody tr th {\n",
       "        vertical-align: top;\n",
       "    }\n",
       "\n",
       "    .dataframe thead th {\n",
       "        text-align: right;\n",
       "    }\n",
       "</style>\n",
       "<table border=\"1\" class=\"dataframe\">\n",
       "  <thead>\n",
       "    <tr style=\"text-align: right;\">\n",
       "      <th></th>\n",
       "      <th>count</th>\n",
       "      <th>mean</th>\n",
       "      <th>std</th>\n",
       "      <th>min</th>\n",
       "      <th>25%</th>\n",
       "      <th>50%</th>\n",
       "      <th>75%</th>\n",
       "      <th>max</th>\n",
       "    </tr>\n",
       "  </thead>\n",
       "  <tbody>\n",
       "    <tr>\n",
       "      <th>limit_balance</th>\n",
       "      <td>2965.0</td>\n",
       "      <td>163369.308600</td>\n",
       "      <td>125030.415472</td>\n",
       "      <td>10000.0</td>\n",
       "      <td>50000.0</td>\n",
       "      <td>140000.0</td>\n",
       "      <td>230000.0</td>\n",
       "      <td>800000.0</td>\n",
       "    </tr>\n",
       "    <tr>\n",
       "      <th>sex</th>\n",
       "      <td>2965.0</td>\n",
       "      <td>1.607757</td>\n",
       "      <td>0.488333</td>\n",
       "      <td>1.0</td>\n",
       "      <td>1.0</td>\n",
       "      <td>2.0</td>\n",
       "      <td>2.0</td>\n",
       "      <td>2.0</td>\n",
       "    </tr>\n",
       "    <tr>\n",
       "      <th>education_level</th>\n",
       "      <td>2965.0</td>\n",
       "      <td>1.849578</td>\n",
       "      <td>0.778184</td>\n",
       "      <td>0.0</td>\n",
       "      <td>1.0</td>\n",
       "      <td>2.0</td>\n",
       "      <td>2.0</td>\n",
       "      <td>6.0</td>\n",
       "    </tr>\n",
       "    <tr>\n",
       "      <th>marital_status</th>\n",
       "      <td>2965.0</td>\n",
       "      <td>1.559865</td>\n",
       "      <td>0.522317</td>\n",
       "      <td>0.0</td>\n",
       "      <td>1.0</td>\n",
       "      <td>2.0</td>\n",
       "      <td>2.0</td>\n",
       "      <td>3.0</td>\n",
       "    </tr>\n",
       "    <tr>\n",
       "      <th>age</th>\n",
       "      <td>2965.0</td>\n",
       "      <td>35.193255</td>\n",
       "      <td>9.109439</td>\n",
       "      <td>21.0</td>\n",
       "      <td>28.0</td>\n",
       "      <td>34.0</td>\n",
       "      <td>41.0</td>\n",
       "      <td>69.0</td>\n",
       "    </tr>\n",
       "    <tr>\n",
       "      <th>pay_0</th>\n",
       "      <td>2965.0</td>\n",
       "      <td>0.005059</td>\n",
       "      <td>1.114395</td>\n",
       "      <td>-2.0</td>\n",
       "      <td>-1.0</td>\n",
       "      <td>0.0</td>\n",
       "      <td>0.0</td>\n",
       "      <td>8.0</td>\n",
       "    </tr>\n",
       "    <tr>\n",
       "      <th>pay_2</th>\n",
       "      <td>2965.0</td>\n",
       "      <td>-0.122428</td>\n",
       "      <td>1.180784</td>\n",
       "      <td>-2.0</td>\n",
       "      <td>-1.0</td>\n",
       "      <td>0.0</td>\n",
       "      <td>0.0</td>\n",
       "      <td>7.0</td>\n",
       "    </tr>\n",
       "    <tr>\n",
       "      <th>pay_3</th>\n",
       "      <td>2965.0</td>\n",
       "      <td>-0.141653</td>\n",
       "      <td>1.183630</td>\n",
       "      <td>-2.0</td>\n",
       "      <td>-1.0</td>\n",
       "      <td>0.0</td>\n",
       "      <td>0.0</td>\n",
       "      <td>7.0</td>\n",
       "    </tr>\n",
       "    <tr>\n",
       "      <th>pay_4</th>\n",
       "      <td>2965.0</td>\n",
       "      <td>-0.185160</td>\n",
       "      <td>1.178322</td>\n",
       "      <td>-2.0</td>\n",
       "      <td>-1.0</td>\n",
       "      <td>0.0</td>\n",
       "      <td>0.0</td>\n",
       "      <td>8.0</td>\n",
       "    </tr>\n",
       "    <tr>\n",
       "      <th>pay_5</th>\n",
       "      <td>2965.0</td>\n",
       "      <td>-0.225295</td>\n",
       "      <td>1.159003</td>\n",
       "      <td>-2.0</td>\n",
       "      <td>-1.0</td>\n",
       "      <td>0.0</td>\n",
       "      <td>0.0</td>\n",
       "      <td>7.0</td>\n",
       "    </tr>\n",
       "    <tr>\n",
       "      <th>pay_6</th>\n",
       "      <td>2965.0</td>\n",
       "      <td>-0.254637</td>\n",
       "      <td>1.167305</td>\n",
       "      <td>-2.0</td>\n",
       "      <td>-1.0</td>\n",
       "      <td>0.0</td>\n",
       "      <td>0.0</td>\n",
       "      <td>7.0</td>\n",
       "    </tr>\n",
       "    <tr>\n",
       "      <th>bill_amt_1</th>\n",
       "      <td>2965.0</td>\n",
       "      <td>52118.305228</td>\n",
       "      <td>72328.670541</td>\n",
       "      <td>-11545.0</td>\n",
       "      <td>3958.0</td>\n",
       "      <td>24257.0</td>\n",
       "      <td>69852.0</td>\n",
       "      <td>613860.0</td>\n",
       "    </tr>\n",
       "    <tr>\n",
       "      <th>bill_amt_2</th>\n",
       "      <td>2965.0</td>\n",
       "      <td>50649.153120</td>\n",
       "      <td>70785.001588</td>\n",
       "      <td>-67526.0</td>\n",
       "      <td>3390.0</td>\n",
       "      <td>23111.0</td>\n",
       "      <td>67827.0</td>\n",
       "      <td>512650.0</td>\n",
       "    </tr>\n",
       "    <tr>\n",
       "      <th>bill_amt_3</th>\n",
       "      <td>2965.0</td>\n",
       "      <td>48239.757504</td>\n",
       "      <td>68145.710745</td>\n",
       "      <td>-25443.0</td>\n",
       "      <td>3302.0</td>\n",
       "      <td>21520.0</td>\n",
       "      <td>63023.0</td>\n",
       "      <td>578971.0</td>\n",
       "    </tr>\n",
       "    <tr>\n",
       "      <th>bill_amt_4</th>\n",
       "      <td>2965.0</td>\n",
       "      <td>44089.683305</td>\n",
       "      <td>61907.454056</td>\n",
       "      <td>-46627.0</td>\n",
       "      <td>2582.0</td>\n",
       "      <td>19894.0</td>\n",
       "      <td>58622.0</td>\n",
       "      <td>488808.0</td>\n",
       "    </tr>\n",
       "    <tr>\n",
       "      <th>bill_amt_5</th>\n",
       "      <td>2965.0</td>\n",
       "      <td>40956.080607</td>\n",
       "      <td>58271.904751</td>\n",
       "      <td>-46627.0</td>\n",
       "      <td>1958.0</td>\n",
       "      <td>18814.0</td>\n",
       "      <td>53373.0</td>\n",
       "      <td>441981.0</td>\n",
       "    </tr>\n",
       "    <tr>\n",
       "      <th>bill_amt_6</th>\n",
       "      <td>2965.0</td>\n",
       "      <td>39773.072513</td>\n",
       "      <td>57303.488981</td>\n",
       "      <td>-73895.0</td>\n",
       "      <td>1430.0</td>\n",
       "      <td>18508.0</td>\n",
       "      <td>52287.0</td>\n",
       "      <td>436172.0</td>\n",
       "    </tr>\n",
       "    <tr>\n",
       "      <th>pay_amt_1</th>\n",
       "      <td>2965.0</td>\n",
       "      <td>6348.902867</td>\n",
       "      <td>20885.735336</td>\n",
       "      <td>0.0</td>\n",
       "      <td>1013.0</td>\n",
       "      <td>2234.0</td>\n",
       "      <td>5087.0</td>\n",
       "      <td>493358.0</td>\n",
       "    </tr>\n",
       "    <tr>\n",
       "      <th>pay_amt_2</th>\n",
       "      <td>2965.0</td>\n",
       "      <td>6272.494435</td>\n",
       "      <td>28879.674534</td>\n",
       "      <td>0.0</td>\n",
       "      <td>990.0</td>\n",
       "      <td>2175.0</td>\n",
       "      <td>5000.0</td>\n",
       "      <td>1227082.0</td>\n",
       "    </tr>\n",
       "    <tr>\n",
       "      <th>pay_amt_3</th>\n",
       "      <td>2965.0</td>\n",
       "      <td>5150.497133</td>\n",
       "      <td>14287.079982</td>\n",
       "      <td>0.0</td>\n",
       "      <td>477.0</td>\n",
       "      <td>1994.0</td>\n",
       "      <td>4500.0</td>\n",
       "      <td>199209.0</td>\n",
       "    </tr>\n",
       "    <tr>\n",
       "      <th>pay_amt_4</th>\n",
       "      <td>2965.0</td>\n",
       "      <td>4561.376054</td>\n",
       "      <td>13281.499599</td>\n",
       "      <td>0.0</td>\n",
       "      <td>313.0</td>\n",
       "      <td>1600.0</td>\n",
       "      <td>4000.0</td>\n",
       "      <td>202076.0</td>\n",
       "    </tr>\n",
       "    <tr>\n",
       "      <th>pay_amt_5</th>\n",
       "      <td>2965.0</td>\n",
       "      <td>4913.286678</td>\n",
       "      <td>16734.340778</td>\n",
       "      <td>0.0</td>\n",
       "      <td>323.0</td>\n",
       "      <td>1646.0</td>\n",
       "      <td>4021.0</td>\n",
       "      <td>388071.0</td>\n",
       "    </tr>\n",
       "    <tr>\n",
       "      <th>pay_amt_6</th>\n",
       "      <td>2965.0</td>\n",
       "      <td>5382.701518</td>\n",
       "      <td>17275.953029</td>\n",
       "      <td>0.0</td>\n",
       "      <td>173.0</td>\n",
       "      <td>1615.0</td>\n",
       "      <td>4081.0</td>\n",
       "      <td>403500.0</td>\n",
       "    </tr>\n",
       "    <tr>\n",
       "      <th>default_payment_next_month</th>\n",
       "      <td>2965.0</td>\n",
       "      <td>0.214165</td>\n",
       "      <td>0.410311</td>\n",
       "      <td>0.0</td>\n",
       "      <td>0.0</td>\n",
       "      <td>0.0</td>\n",
       "      <td>0.0</td>\n",
       "      <td>1.0</td>\n",
       "    </tr>\n",
       "  </tbody>\n",
       "</table>\n",
       "</div>"
      ],
      "text/plain": [
       "                             count           mean            std      min  \\\n",
       "limit_balance               2965.0  163369.308600  125030.415472  10000.0   \n",
       "sex                         2965.0       1.607757       0.488333      1.0   \n",
       "education_level             2965.0       1.849578       0.778184      0.0   \n",
       "marital_status              2965.0       1.559865       0.522317      0.0   \n",
       "age                         2965.0      35.193255       9.109439     21.0   \n",
       "pay_0                       2965.0       0.005059       1.114395     -2.0   \n",
       "pay_2                       2965.0      -0.122428       1.180784     -2.0   \n",
       "pay_3                       2965.0      -0.141653       1.183630     -2.0   \n",
       "pay_4                       2965.0      -0.185160       1.178322     -2.0   \n",
       "pay_5                       2965.0      -0.225295       1.159003     -2.0   \n",
       "pay_6                       2965.0      -0.254637       1.167305     -2.0   \n",
       "bill_amt_1                  2965.0   52118.305228   72328.670541 -11545.0   \n",
       "bill_amt_2                  2965.0   50649.153120   70785.001588 -67526.0   \n",
       "bill_amt_3                  2965.0   48239.757504   68145.710745 -25443.0   \n",
       "bill_amt_4                  2965.0   44089.683305   61907.454056 -46627.0   \n",
       "bill_amt_5                  2965.0   40956.080607   58271.904751 -46627.0   \n",
       "bill_amt_6                  2965.0   39773.072513   57303.488981 -73895.0   \n",
       "pay_amt_1                   2965.0    6348.902867   20885.735336      0.0   \n",
       "pay_amt_2                   2965.0    6272.494435   28879.674534      0.0   \n",
       "pay_amt_3                   2965.0    5150.497133   14287.079982      0.0   \n",
       "pay_amt_4                   2965.0    4561.376054   13281.499599      0.0   \n",
       "pay_amt_5                   2965.0    4913.286678   16734.340778      0.0   \n",
       "pay_amt_6                   2965.0    5382.701518   17275.953029      0.0   \n",
       "default_payment_next_month  2965.0       0.214165       0.410311      0.0   \n",
       "\n",
       "                                25%       50%       75%        max  \n",
       "limit_balance               50000.0  140000.0  230000.0   800000.0  \n",
       "sex                             1.0       2.0       2.0        2.0  \n",
       "education_level                 1.0       2.0       2.0        6.0  \n",
       "marital_status                  1.0       2.0       2.0        3.0  \n",
       "age                            28.0      34.0      41.0       69.0  \n",
       "pay_0                          -1.0       0.0       0.0        8.0  \n",
       "pay_2                          -1.0       0.0       0.0        7.0  \n",
       "pay_3                          -1.0       0.0       0.0        7.0  \n",
       "pay_4                          -1.0       0.0       0.0        8.0  \n",
       "pay_5                          -1.0       0.0       0.0        7.0  \n",
       "pay_6                          -1.0       0.0       0.0        7.0  \n",
       "bill_amt_1                   3958.0   24257.0   69852.0   613860.0  \n",
       "bill_amt_2                   3390.0   23111.0   67827.0   512650.0  \n",
       "bill_amt_3                   3302.0   21520.0   63023.0   578971.0  \n",
       "bill_amt_4                   2582.0   19894.0   58622.0   488808.0  \n",
       "bill_amt_5                   1958.0   18814.0   53373.0   441981.0  \n",
       "bill_amt_6                   1430.0   18508.0   52287.0   436172.0  \n",
       "pay_amt_1                    1013.0    2234.0    5087.0   493358.0  \n",
       "pay_amt_2                     990.0    2175.0    5000.0  1227082.0  \n",
       "pay_amt_3                     477.0    1994.0    4500.0   199209.0  \n",
       "pay_amt_4                     313.0    1600.0    4000.0   202076.0  \n",
       "pay_amt_5                     323.0    1646.0    4021.0   388071.0  \n",
       "pay_amt_6                     173.0    1615.0    4081.0   403500.0  \n",
       "default_payment_next_month      0.0       0.0       0.0        1.0  "
      ]
     },
     "execution_count": 11,
     "metadata": {},
     "output_type": "execute_result"
    }
   ],
   "source": [
    "df_copy.describe().T"
   ]
  },
  {
   "cell_type": "markdown",
   "metadata": {},
   "source": [
    "Berdasarkan observasi singkat, dalam kolom 'education_level' dan 'marital_status' sepertinya terdapat entry dengan value anomali yaitu 0.0. kedua kolom tersebut seharusnya tidak memiliki entry 0.0.\n",
    "\n",
    "Entry yang benar seharusnya:\n",
    "- education_level    : (1 = graduate school, 2 = university, 3 = high school, 4 = others)\n",
    "\n",
    "- marital_status     : Marital status (1 = married, 2 = single, 3 = others)\n",
    "\n",
    "Sumber: https://towardsdatascience.com/catching-a-welcher-classifying-a-credit-card-defaulter-f4b21547a618"
   ]
  },
  {
   "cell_type": "markdown",
   "metadata": {},
   "source": [
    "# Exploratory Data Analysis (EDA)"
   ]
  },
  {
   "cell_type": "code",
   "execution_count": 12,
   "metadata": {},
   "outputs": [
    {
     "data": {
      "text/plain": [
       "Text(0.5, 1.0, 'Credit Card Limit Balance')"
      ]
     },
     "execution_count": 12,
     "metadata": {},
     "output_type": "execute_result"
    },
    {
     "data": {
      "image/png": "[encoded data removed]",
      "text/plain": [
       "<Figure size 1080x360 with 1 Axes>"
      ]
     },
     "metadata": {
      "needs_background": "light"
     },
     "output_type": "display_data"
    }
   ],
   "source": [
    "plt.figure(figsize=(15,5))\n",
    "sns.countplot(y='limit_balance', data=df_copy, order=df_copy.limit_balance.value_counts().iloc[:20].index)\n",
    "plt.title('Credit Card Limit Balance')"
   ]
  },
  {
   "cell_type": "markdown",
   "metadata": {},
   "source": [
    "Berdasarkan diagram batang diatas, jumlah limit kartu kredit yang paling banyak digunakan oleh nasabah adalah 50k NT dollars. Sedangkan urutan kedua terbanyakan adalah 20k NT dollars. Limit ini sebenarnya tidak terlalu tinggi, artinya sebagian besar nasabah pengguna kartu kredit kemungkinan besar merupakan kelas menengah dan menengah kebawah.\n",
    "\n",
    "*NT dollar atau New Taiwan dollar adalah mata uang negara Taiwan."
   ]
  },
  {
   "cell_type": "code",
   "execution_count": 13,
   "metadata": {},
   "outputs": [
    {
     "data": {
      "text/plain": [
       "Text(0.5, 1.0, 'Credit Card User by Sex')"
      ]
     },
     "execution_count": 13,
     "metadata": {},
     "output_type": "execute_result"
    },
    {
     "data": {
      "image/png": "[encoded data removed]",
      "text/plain": [
       "<Figure size 1080x360 with 1 Axes>"
      ]
     },
     "metadata": {
      "needs_background": "light"
     },
     "output_type": "display_data"
    }
   ],
   "source": [
    "plt.figure(figsize=(15,5))\n",
    "sns.countplot(x='sex', data=df_copy)\n",
    "plt.title('Credit Card User by Sex')"
   ]
  },
  {
   "cell_type": "markdown",
   "metadata": {},
   "source": [
    "Berdasarkan diagram batang diatas, pengguna kartu kredit didominasi oleh perempuan, jumlahnya cukup jauh diatas pengguna kartu kredit laki-laki. \n",
    "\n",
    "Interpretasi dari kolom sex: 1 = male, 2 = female\n",
    "\n",
    "Sumber: https://towardsdatascience.com/catching-a-welcher-classifying-a-credit-card-defaulter-f4b21547a618"
   ]
  },
  {
   "cell_type": "code",
   "execution_count": 14,
   "metadata": {},
   "outputs": [
    {
     "data": {
      "text/plain": [
       "Text(0.5, 1.0, 'Credit Card User by Education Level')"
      ]
     },
     "execution_count": 14,
     "metadata": {},
     "output_type": "execute_result"
    },
    {
     "data": {
      "image/png": "[encoded data removed]",
      "text/plain": [
       "<Figure size 1080x360 with 1 Axes>"
      ]
     },
     "metadata": {
      "needs_background": "light"
     },
     "output_type": "display_data"
    }
   ],
   "source": [
    "plt.figure(figsize=(15,5))\n",
    "sns.countplot(x='education_level', data=df_copy)\n",
    "plt.title('Credit Card User by Education Level')"
   ]
  },
  {
   "cell_type": "markdown",
   "metadata": {},
   "source": [
    "Berdasarkan tingkat pendidikan, pengguna kartu kredit di Taiwan didominasi oleh orang-orang yang berpendidikan tinggi. Dalam hal ini, orang dengan level pendidikan university merupakan yang tertinggi, diikuti oleh graduate school, dan high school.\n",
    "\n",
    "Interpretasi dari kolom education_level: 1 = graduate school, 2 = university, 3 = high school, 4 = others\n",
    "\n",
    "Sumber: https://towardsdatascience.com/catching-a-welcher-classifying-a-credit-card-defaulter-f4b21547a618"
   ]
  },
  {
   "cell_type": "code",
   "execution_count": 15,
   "metadata": {},
   "outputs": [
    {
     "data": {
      "text/plain": [
       "Text(0.5, 1.0, 'Credit Card User by Marital Status')"
      ]
     },
     "execution_count": 15,
     "metadata": {},
     "output_type": "execute_result"
    },
    {
     "data": {
      "image/png": "[encoded data removed]",
      "text/plain": [
       "<Figure size 1080x360 with 1 Axes>"
      ]
     },
     "metadata": {
      "needs_background": "light"
     },
     "output_type": "display_data"
    }
   ],
   "source": [
    "plt.figure(figsize=(15,5))\n",
    "sns.countplot(x='marital_status', data=df_copy)\n",
    "plt.title('Credit Card User by Marital Status')"
   ]
  },
  {
   "cell_type": "markdown",
   "metadata": {},
   "source": [
    "Tidak ada perbedaan signifikan antara pengguna kartu kredit yang sudah berkeluarga atau yang berlum berkeluarga, jumlahnya cukup berimbang. Tadinya saya berasumsi bahwa penggunaan kartu kredit akan didominasi oleh orang yang berlum berkeluarga. Karena orang yang sudah berkeluarga sepertinya harus lebih bijak dalam mengelola keuangan. Karena penggunaan kartu kredit itu sebenarnya sama saja dengan berhutang kepada bank, maka kemungkinan orang-orang yang sudah berkeluarga lebih melimit penggunaan kartu kredit.\n",
    "\n",
    "Ternyata di Taiwan hal ini tidak begitu berpengaruh. Website theglobaleconomy.com merilis data bahwa pengunaan kartu kredit cenderung sangat tinggi di negara-negara maju. Dalam hal penggunaan kartu kredit, Taiwan menduduki peringkat 15 teratas secara global. Untuk perbandingan, Indonesia menduduki menduduki peringkat 118.\n",
    "\n",
    "Interpretasi dari kolom marital_status: 1 = married, 2 = single, 3 = others\n",
    "\n",
    "Sumber: https://towardsdatascience.com/catching-a-welcher-classifying-a-credit-card-defaulter-f4b21547a618, https://www.theglobaleconomy.com/rankings/people_with_credit_cards/"
   ]
  },
  {
   "cell_type": "code",
   "execution_count": 16,
   "metadata": {},
   "outputs": [
    {
     "data": {
      "text/plain": [
       "Text(0.5, 1.0, 'Credit Card User by Age')"
      ]
     },
     "execution_count": 16,
     "metadata": {},
     "output_type": "execute_result"
    },
    {
     "data": {
      "image/png": "[encoded data removed]",
      "text/plain": [
       "<Figure size 1080x360 with 1 Axes>"
      ]
     },
     "metadata": {
      "needs_background": "light"
     },
     "output_type": "display_data"
    }
   ],
   "source": [
    "plt.figure(figsize=(15,5))\n",
    "sns.countplot(x='age', data=df_copy)\n",
    "plt.title('Credit Card User by Age')"
   ]
  },
  {
   "cell_type": "markdown",
   "metadata": {},
   "source": [
    "Saya menduga bahwa pengguna kartu kredit akan didominasi oleh kaum muda. Bedasarkan diagram batang diatas, asumsi tersebut sepertinya terbukti. Kebanyakan pengguna kartu kredit adalah orang yang berusia 20-30 tahunan. Sedangkan orang-orang yang berusia lanjut sangat sedikit sekali yang menggunakan kartu kredit. Memang ada anggapan bahwa \"cash is king\" terutama untuk orang-orang tua dan sepertinya terbukti dalam dataset ini.\n",
    "\n",
    "Kemungkinan besar orang tua memilih tidak menggunakan kartu kredit karena mereka menganggap menggunakan kartu kredit itu sama saja dengan berutang, belum lagi sistem penggunaan dan pembayarannya yang mungkin cukup rumit untuk dipahami oleh mereka. Selain itu kemungkinan mereka tidak merasa aman untuk menggunakan kartu kredit. Hal ini tidak salah, mengingat memang cukup marak penipuan kartu kredit yang terjadi. Jadi sepertinya ungkapan \"cash is king\" memang belum mati."
   ]
  },
  {
   "cell_type": "code",
   "execution_count": 17,
   "metadata": {},
   "outputs": [
    {
     "data": {
      "image/png": "[encoded data removed]",
      "text/plain": [
       "<Figure size 432x288 with 1 Axes>"
      ]
     },
     "metadata": {},
     "output_type": "display_data"
    }
   ],
   "source": [
    "plt.pie(df_copy.groupby('default_payment_next_month').size(), labels=df_copy.groupby('default_payment_next_month').size().index, autopct='%1.1f%%')\n",
    "plt.title('Default Payment Next Month')\n",
    "plt.show()"
   ]
  },
  {
   "cell_type": "markdown",
   "metadata": {},
   "source": [
    "Istilah \"default_payment_next_month\" berarti bank memperkirakan bahwa nasabah pengguna kartu kredit akan mengalami gagal bayar ketika tagihan jatuh tempo di bulan yang akan datang. Berdasarkan diagram lingkaran diatas, presentase orang yang diperkirakan gagal bayar cukup tinggi, presentasenya mencapai 21.4%.\n",
    "\n",
    "Dataset pengguna kartu kredit ini berasal dari bulan April - September 2005. Berdasarkan riset yang saya lakukan, Ternyata pada tahun 2005-2006 Taiwan sedang mengalami krisis utang kartu kredit. Krisis tersebut memuncak pada Februari 2006, dimana total utang kartu kredit mencapai 268 miliar USD. Saat itu, sekitar 500.000 orang mengalami gagal bayar. Dari Fakta ini, dapat kita tarik benang merah bahwa pada bulan April - September 2005, tanda-tanda krisis sudah mulai terlihat, dibuktikan dengan 21.4% pengguna kartu kredit mengalami gagal bayar. Jumlah ini sangat tinggi, mengingat populasi Taiwan secara keseluruhan hanya sekitar 20jt jiwa.\n",
    "\n",
    "Interpretasi dari kolom default_payment_next_week: 0 = yes, 1 = no\n",
    "\n",
    "Sumber: https://sevenpillarsinstitute.org/case-studies/taiwans-credit-card-crisis/, https://towardsdatascience.com/catching-a-welcher-classifying-a-credit-card-defaulter-f4b21547a618\n"
   ]
  },
  {
   "cell_type": "code",
   "execution_count": 18,
   "metadata": {},
   "outputs": [
    {
     "data": {
      "text/plain": [
       "Text(0.5, 1.0, 'Chance of Default Payment by Level of Education')"
      ]
     },
     "execution_count": 18,
     "metadata": {},
     "output_type": "execute_result"
    },
    {
     "data": {
      "image/png": "[encoded data removed]",
      "text/plain": [
       "<Figure size 1080x360 with 1 Axes>"
      ]
     },
     "metadata": {
      "needs_background": "light"
     },
     "output_type": "display_data"
    }
   ],
   "source": [
    "plt.figure(figsize=(15,5))\n",
    "sns.barplot(x='education_level', y='default_payment_next_month', data=df_copy)\n",
    "plt.xticks(rotation=45)\n",
    "plt.title('Chance of Default Payment by Level of Education')"
   ]
  },
  {
   "cell_type": "markdown",
   "metadata": {},
   "source": [
    "Tadinya saya ingin melihat apakah tingkat pendidikan seseorang memiliki korelasi dengan kemungkinan seseorang mengalami gagal bayar. Karena berdasarkan asumsi, seseorang dengan tingkat pendidikan yang tinggi seharusnya lebih well-informed dan lebih bijak dalam menggunakan kartu kredit. Namun karena ternyata pada periode ini Taiwan sedang mengalami krisis, jadi asumsi ini sepertinya tidak terbukti. Orang yang mengalami gagal bayar latar belakangnya berbeda-beda.\n",
    "\n",
    "Interpretasi dari kolom education_level: 1 = graduate school, 2 = university, 3 = high school, 4 = others\n",
    "\n",
    "Sumber: https://towardsdatascience.com/catching-a-welcher-classifying-a-credit-card-defaulter-f4b21547a618"
   ]
  },
  {
   "cell_type": "code",
   "execution_count": 19,
   "metadata": {},
   "outputs": [
    {
     "data": {
      "text/plain": [
       "Text(0.5, 1.0, 'Chance of Default Payment by Limit Balance')"
      ]
     },
     "execution_count": 19,
     "metadata": {},
     "output_type": "execute_result"
    },
    {
     "data": {
      "image/png": "[encoded data removed]",
      "text/plain": [
       "<Figure size 1080x360 with 1 Axes>"
      ]
     },
     "metadata": {
      "needs_background": "light"
     },
     "output_type": "display_data"
    }
   ],
   "source": [
    "plt.figure(figsize=(15,5))\n",
    "sns.barplot(x='limit_balance', y='default_payment_next_month', data=df_copy, order=df_copy.limit_balance.value_counts().iloc[:20].index)\n",
    "plt.xticks(rotation=45)\n",
    "plt.title('Chance of Default Payment by Limit Balance')"
   ]
  },
  {
   "cell_type": "markdown",
   "metadata": {},
   "source": [
    "Berdasarkan diagram batang diatas, nasabah kartu kredit yang cenderung mengalami gagal bayar adalah nasabah yang limit kartu kreditnya tidak terlalu tinggi. Sehingga dapat kita asumsikan bahwa kelompok yang paling terdampak oleh krisis kartu kredit di Taiwan adalah kelas menengan dan menengah kebawah."
   ]
  },
  {
   "cell_type": "code",
   "execution_count": 20,
   "metadata": {},
   "outputs": [
    {
     "data": {
      "text/plain": [
       "Text(0.5, 1.0, 'Repayment Status in September 2005')"
      ]
     },
     "execution_count": 20,
     "metadata": {},
     "output_type": "execute_result"
    },
    {
     "data": {
      "image/png": "[encoded data removed]",
      "text/plain": [
       "<Figure size 1080x360 with 1 Axes>"
      ]
     },
     "metadata": {
      "needs_background": "light"
     },
     "output_type": "display_data"
    }
   ],
   "source": [
    "plt.figure(figsize=(15,5))\n",
    "sns.barplot(x='pay_0', y='default_payment_next_month', data=df_copy)\n",
    "plt.xticks(rotation=45)\n",
    "plt.title('Repayment Status in September 2005')"
   ]
  },
  {
   "cell_type": "markdown",
   "metadata": {},
   "source": [
    "Pada bulan September 2005, terlihat bahwa semakin banyak orang pemegang kartu kredit yang tunggakannya sudah berbulan-bulan, bahkan ada yang sudah menunggak sampai 7 atau 8 bulan. Hal ini menunjukkan bahwa pada periode ini, Taiwan semakin mendekati puncak krisis yang terjadi pada Februari 2006."
   ]
  },
  {
   "cell_type": "markdown",
   "metadata": {},
   "source": [
    "# Data Preprocessing"
   ]
  },
  {
   "cell_type": "code",
   "execution_count": 21,
   "metadata": {},
   "outputs": [
    {
     "data": {
      "text/html": [
       "<div>\n",
       "<style scoped>\n",
       "    .dataframe tbody tr th:only-of-type {\n",
       "        vertical-align: middle;\n",
       "    }\n",
       "\n",
       "    .dataframe tbody tr th {\n",
       "        vertical-align: top;\n",
       "    }\n",
       "\n",
       "    .dataframe thead th {\n",
       "        text-align: right;\n",
       "    }\n",
       "</style>\n",
       "<table border=\"1\" class=\"dataframe\">\n",
       "  <thead>\n",
       "    <tr style=\"text-align: right;\">\n",
       "      <th></th>\n",
       "      <th>limit_balance</th>\n",
       "      <th>sex</th>\n",
       "      <th>education_level</th>\n",
       "      <th>marital_status</th>\n",
       "      <th>age</th>\n",
       "      <th>pay_0</th>\n",
       "      <th>pay_2</th>\n",
       "      <th>pay_3</th>\n",
       "      <th>pay_4</th>\n",
       "      <th>pay_5</th>\n",
       "      <th>pay_6</th>\n",
       "      <th>bill_amt_1</th>\n",
       "      <th>bill_amt_2</th>\n",
       "      <th>bill_amt_3</th>\n",
       "      <th>bill_amt_4</th>\n",
       "      <th>bill_amt_5</th>\n",
       "      <th>bill_amt_6</th>\n",
       "      <th>pay_amt_1</th>\n",
       "      <th>pay_amt_2</th>\n",
       "      <th>pay_amt_3</th>\n",
       "      <th>pay_amt_4</th>\n",
       "      <th>pay_amt_5</th>\n",
       "      <th>pay_amt_6</th>\n",
       "      <th>default_payment_next_month</th>\n",
       "    </tr>\n",
       "  </thead>\n",
       "  <tbody>\n",
       "    <tr>\n",
       "      <th>91</th>\n",
       "      <td>420000</td>\n",
       "      <td>2</td>\n",
       "      <td>2</td>\n",
       "      <td>2</td>\n",
       "      <td>32</td>\n",
       "      <td>0</td>\n",
       "      <td>0</td>\n",
       "      <td>0</td>\n",
       "      <td>0</td>\n",
       "      <td>0</td>\n",
       "      <td>0</td>\n",
       "      <td>211688</td>\n",
       "      <td>205003</td>\n",
       "      <td>203118</td>\n",
       "      <td>198925</td>\n",
       "      <td>175684</td>\n",
       "      <td>164037</td>\n",
       "      <td>7300</td>\n",
       "      <td>8839</td>\n",
       "      <td>8000</td>\n",
       "      <td>5900</td>\n",
       "      <td>6000</td>\n",
       "      <td>6000</td>\n",
       "      <td>0</td>\n",
       "    </tr>\n",
       "    <tr>\n",
       "      <th>325</th>\n",
       "      <td>30000</td>\n",
       "      <td>2</td>\n",
       "      <td>2</td>\n",
       "      <td>2</td>\n",
       "      <td>25</td>\n",
       "      <td>2</td>\n",
       "      <td>0</td>\n",
       "      <td>0</td>\n",
       "      <td>0</td>\n",
       "      <td>0</td>\n",
       "      <td>0</td>\n",
       "      <td>10343</td>\n",
       "      <td>11069</td>\n",
       "      <td>12082</td>\n",
       "      <td>12473</td>\n",
       "      <td>12623</td>\n",
       "      <td>27460</td>\n",
       "      <td>1200</td>\n",
       "      <td>1201</td>\n",
       "      <td>592</td>\n",
       "      <td>500</td>\n",
       "      <td>1500</td>\n",
       "      <td>0</td>\n",
       "      <td>1</td>\n",
       "    </tr>\n",
       "    <tr>\n",
       "      <th>47</th>\n",
       "      <td>40000</td>\n",
       "      <td>2</td>\n",
       "      <td>3</td>\n",
       "      <td>1</td>\n",
       "      <td>60</td>\n",
       "      <td>0</td>\n",
       "      <td>0</td>\n",
       "      <td>0</td>\n",
       "      <td>0</td>\n",
       "      <td>0</td>\n",
       "      <td>0</td>\n",
       "      <td>14019</td>\n",
       "      <td>15780</td>\n",
       "      <td>18519</td>\n",
       "      <td>21058</td>\n",
       "      <td>8204</td>\n",
       "      <td>9899</td>\n",
       "      <td>2000</td>\n",
       "      <td>3000</td>\n",
       "      <td>3000</td>\n",
       "      <td>6000</td>\n",
       "      <td>2000</td>\n",
       "      <td>2000</td>\n",
       "      <td>0</td>\n",
       "    </tr>\n",
       "    <tr>\n",
       "      <th>1488</th>\n",
       "      <td>70000</td>\n",
       "      <td>2</td>\n",
       "      <td>3</td>\n",
       "      <td>3</td>\n",
       "      <td>39</td>\n",
       "      <td>0</td>\n",
       "      <td>0</td>\n",
       "      <td>-1</td>\n",
       "      <td>0</td>\n",
       "      <td>-1</td>\n",
       "      <td>0</td>\n",
       "      <td>34244</td>\n",
       "      <td>32193</td>\n",
       "      <td>10803</td>\n",
       "      <td>15133</td>\n",
       "      <td>3148</td>\n",
       "      <td>4699</td>\n",
       "      <td>3000</td>\n",
       "      <td>11000</td>\n",
       "      <td>5000</td>\n",
       "      <td>3150</td>\n",
       "      <td>2000</td>\n",
       "      <td>4000</td>\n",
       "      <td>0</td>\n",
       "    </tr>\n",
       "    <tr>\n",
       "      <th>446</th>\n",
       "      <td>60000</td>\n",
       "      <td>2</td>\n",
       "      <td>2</td>\n",
       "      <td>2</td>\n",
       "      <td>24</td>\n",
       "      <td>-1</td>\n",
       "      <td>0</td>\n",
       "      <td>-1</td>\n",
       "      <td>0</td>\n",
       "      <td>0</td>\n",
       "      <td>0</td>\n",
       "      <td>9970</td>\n",
       "      <td>7699</td>\n",
       "      <td>9479</td>\n",
       "      <td>10213</td>\n",
       "      <td>10000</td>\n",
       "      <td>11832</td>\n",
       "      <td>1020</td>\n",
       "      <td>9479</td>\n",
       "      <td>1000</td>\n",
       "      <td>200</td>\n",
       "      <td>1832</td>\n",
       "      <td>5889</td>\n",
       "      <td>0</td>\n",
       "    </tr>\n",
       "    <tr>\n",
       "      <th>567</th>\n",
       "      <td>300000</td>\n",
       "      <td>2</td>\n",
       "      <td>1</td>\n",
       "      <td>1</td>\n",
       "      <td>30</td>\n",
       "      <td>0</td>\n",
       "      <td>0</td>\n",
       "      <td>0</td>\n",
       "      <td>0</td>\n",
       "      <td>0</td>\n",
       "      <td>0</td>\n",
       "      <td>93738</td>\n",
       "      <td>84636</td>\n",
       "      <td>88446</td>\n",
       "      <td>76244</td>\n",
       "      <td>67747</td>\n",
       "      <td>70389</td>\n",
       "      <td>3000</td>\n",
       "      <td>5000</td>\n",
       "      <td>2500</td>\n",
       "      <td>2500</td>\n",
       "      <td>3500</td>\n",
       "      <td>87000</td>\n",
       "      <td>1</td>\n",
       "    </tr>\n",
       "    <tr>\n",
       "      <th>1473</th>\n",
       "      <td>500000</td>\n",
       "      <td>1</td>\n",
       "      <td>1</td>\n",
       "      <td>2</td>\n",
       "      <td>43</td>\n",
       "      <td>0</td>\n",
       "      <td>0</td>\n",
       "      <td>0</td>\n",
       "      <td>-1</td>\n",
       "      <td>-1</td>\n",
       "      <td>-1</td>\n",
       "      <td>504644</td>\n",
       "      <td>512650</td>\n",
       "      <td>0</td>\n",
       "      <td>3887</td>\n",
       "      <td>0</td>\n",
       "      <td>7413</td>\n",
       "      <td>22650</td>\n",
       "      <td>0</td>\n",
       "      <td>3887</td>\n",
       "      <td>0</td>\n",
       "      <td>7413</td>\n",
       "      <td>0</td>\n",
       "      <td>1</td>\n",
       "    </tr>\n",
       "    <tr>\n",
       "      <th>548</th>\n",
       "      <td>490000</td>\n",
       "      <td>2</td>\n",
       "      <td>2</td>\n",
       "      <td>1</td>\n",
       "      <td>30</td>\n",
       "      <td>0</td>\n",
       "      <td>0</td>\n",
       "      <td>0</td>\n",
       "      <td>0</td>\n",
       "      <td>0</td>\n",
       "      <td>-1</td>\n",
       "      <td>26088</td>\n",
       "      <td>24092</td>\n",
       "      <td>24488</td>\n",
       "      <td>16995</td>\n",
       "      <td>-1527</td>\n",
       "      <td>62491</td>\n",
       "      <td>2003</td>\n",
       "      <td>2041</td>\n",
       "      <td>1092</td>\n",
       "      <td>4</td>\n",
       "      <td>64895</td>\n",
       "      <td>3003</td>\n",
       "      <td>0</td>\n",
       "    </tr>\n",
       "    <tr>\n",
       "      <th>1768</th>\n",
       "      <td>80000</td>\n",
       "      <td>1</td>\n",
       "      <td>1</td>\n",
       "      <td>2</td>\n",
       "      <td>26</td>\n",
       "      <td>1</td>\n",
       "      <td>2</td>\n",
       "      <td>2</td>\n",
       "      <td>0</td>\n",
       "      <td>0</td>\n",
       "      <td>0</td>\n",
       "      <td>40029</td>\n",
       "      <td>41095</td>\n",
       "      <td>40137</td>\n",
       "      <td>40793</td>\n",
       "      <td>42990</td>\n",
       "      <td>42854</td>\n",
       "      <td>2000</td>\n",
       "      <td>0</td>\n",
       "      <td>1603</td>\n",
       "      <td>3000</td>\n",
       "      <td>2000</td>\n",
       "      <td>1056</td>\n",
       "      <td>0</td>\n",
       "    </tr>\n",
       "    <tr>\n",
       "      <th>1781</th>\n",
       "      <td>130000</td>\n",
       "      <td>2</td>\n",
       "      <td>2</td>\n",
       "      <td>1</td>\n",
       "      <td>34</td>\n",
       "      <td>2</td>\n",
       "      <td>2</td>\n",
       "      <td>2</td>\n",
       "      <td>2</td>\n",
       "      <td>2</td>\n",
       "      <td>2</td>\n",
       "      <td>28967</td>\n",
       "      <td>30776</td>\n",
       "      <td>33071</td>\n",
       "      <td>32336</td>\n",
       "      <td>34186</td>\n",
       "      <td>34588</td>\n",
       "      <td>2500</td>\n",
       "      <td>3000</td>\n",
       "      <td>0</td>\n",
       "      <td>2600</td>\n",
       "      <td>1000</td>\n",
       "      <td>1500</td>\n",
       "      <td>1</td>\n",
       "    </tr>\n",
       "  </tbody>\n",
       "</table>\n",
       "</div>"
      ],
      "text/plain": [
       "      limit_balance  sex  education_level  marital_status  age  pay_0  pay_2  \\\n",
       "91           420000    2                2               2   32      0      0   \n",
       "325           30000    2                2               2   25      2      0   \n",
       "47            40000    2                3               1   60      0      0   \n",
       "1488          70000    2                3               3   39      0      0   \n",
       "446           60000    2                2               2   24     -1      0   \n",
       "567          300000    2                1               1   30      0      0   \n",
       "1473         500000    1                1               2   43      0      0   \n",
       "548          490000    2                2               1   30      0      0   \n",
       "1768          80000    1                1               2   26      1      2   \n",
       "1781         130000    2                2               1   34      2      2   \n",
       "\n",
       "      pay_3  pay_4  pay_5  pay_6  bill_amt_1  bill_amt_2  bill_amt_3  \\\n",
       "91        0      0      0      0      211688      205003      203118   \n",
       "325       0      0      0      0       10343       11069       12082   \n",
       "47        0      0      0      0       14019       15780       18519   \n",
       "1488     -1      0     -1      0       34244       32193       10803   \n",
       "446      -1      0      0      0        9970        7699        9479   \n",
       "567       0      0      0      0       93738       84636       88446   \n",
       "1473      0     -1     -1     -1      504644      512650           0   \n",
       "548       0      0      0     -1       26088       24092       24488   \n",
       "1768      2      0      0      0       40029       41095       40137   \n",
       "1781      2      2      2      2       28967       30776       33071   \n",
       "\n",
       "      bill_amt_4  bill_amt_5  bill_amt_6  pay_amt_1  pay_amt_2  pay_amt_3  \\\n",
       "91        198925      175684      164037       7300       8839       8000   \n",
       "325        12473       12623       27460       1200       1201        592   \n",
       "47         21058        8204        9899       2000       3000       3000   \n",
       "1488       15133        3148        4699       3000      11000       5000   \n",
       "446        10213       10000       11832       1020       9479       1000   \n",
       "567        76244       67747       70389       3000       5000       2500   \n",
       "1473        3887           0        7413      22650          0       3887   \n",
       "548        16995       -1527       62491       2003       2041       1092   \n",
       "1768       40793       42990       42854       2000          0       1603   \n",
       "1781       32336       34186       34588       2500       3000          0   \n",
       "\n",
       "      pay_amt_4  pay_amt_5  pay_amt_6  default_payment_next_month  \n",
       "91         5900       6000       6000                           0  \n",
       "325         500       1500          0                           1  \n",
       "47         6000       2000       2000                           0  \n",
       "1488       3150       2000       4000                           0  \n",
       "446         200       1832       5889                           0  \n",
       "567        2500       3500      87000                           1  \n",
       "1473          0       7413          0                           1  \n",
       "548           4      64895       3003                           0  \n",
       "1768       3000       2000       1056                           0  \n",
       "1781       2600       1000       1500                           1  "
      ]
     },
     "execution_count": 21,
     "metadata": {},
     "output_type": "execute_result"
    }
   ],
   "source": [
    "# Membuat dataframe inference, mengambil 10 entry yang nantinya digunakan untuk menguji model yang dibuat\n",
    "df_inf = df_copy.sample(10, random_state=17)\n",
    "df_inf"
   ]
  },
  {
   "cell_type": "code",
   "execution_count": 22,
   "metadata": {},
   "outputs": [
    {
     "data": {
      "text/html": [
       "<div>\n",
       "<style scoped>\n",
       "    .dataframe tbody tr th:only-of-type {\n",
       "        vertical-align: middle;\n",
       "    }\n",
       "\n",
       "    .dataframe tbody tr th {\n",
       "        vertical-align: top;\n",
       "    }\n",
       "\n",
       "    .dataframe thead th {\n",
       "        text-align: right;\n",
       "    }\n",
       "</style>\n",
       "<table border=\"1\" class=\"dataframe\">\n",
       "  <thead>\n",
       "    <tr style=\"text-align: right;\">\n",
       "      <th></th>\n",
       "      <th>limit_balance</th>\n",
       "      <th>sex</th>\n",
       "      <th>education_level</th>\n",
       "      <th>marital_status</th>\n",
       "      <th>age</th>\n",
       "      <th>pay_0</th>\n",
       "      <th>pay_2</th>\n",
       "      <th>pay_3</th>\n",
       "      <th>pay_4</th>\n",
       "      <th>pay_5</th>\n",
       "      <th>pay_6</th>\n",
       "      <th>bill_amt_1</th>\n",
       "      <th>bill_amt_2</th>\n",
       "      <th>bill_amt_3</th>\n",
       "      <th>bill_amt_4</th>\n",
       "      <th>bill_amt_5</th>\n",
       "      <th>bill_amt_6</th>\n",
       "      <th>pay_amt_1</th>\n",
       "      <th>pay_amt_2</th>\n",
       "      <th>pay_amt_3</th>\n",
       "      <th>pay_amt_4</th>\n",
       "      <th>pay_amt_5</th>\n",
       "      <th>pay_amt_6</th>\n",
       "      <th>default_payment_next_month</th>\n",
       "    </tr>\n",
       "  </thead>\n",
       "  <tbody>\n",
       "    <tr>\n",
       "      <th>0</th>\n",
       "      <td>50000</td>\n",
       "      <td>1</td>\n",
       "      <td>1</td>\n",
       "      <td>2</td>\n",
       "      <td>39</td>\n",
       "      <td>0</td>\n",
       "      <td>0</td>\n",
       "      <td>0</td>\n",
       "      <td>0</td>\n",
       "      <td>0</td>\n",
       "      <td>0</td>\n",
       "      <td>47174</td>\n",
       "      <td>47974</td>\n",
       "      <td>48630</td>\n",
       "      <td>50803</td>\n",
       "      <td>30789</td>\n",
       "      <td>15874</td>\n",
       "      <td>1800</td>\n",
       "      <td>2000</td>\n",
       "      <td>3000</td>\n",
       "      <td>2000</td>\n",
       "      <td>2000</td>\n",
       "      <td>2000</td>\n",
       "      <td>0</td>\n",
       "    </tr>\n",
       "    <tr>\n",
       "      <th>1</th>\n",
       "      <td>110000</td>\n",
       "      <td>2</td>\n",
       "      <td>1</td>\n",
       "      <td>2</td>\n",
       "      <td>29</td>\n",
       "      <td>0</td>\n",
       "      <td>0</td>\n",
       "      <td>0</td>\n",
       "      <td>0</td>\n",
       "      <td>0</td>\n",
       "      <td>0</td>\n",
       "      <td>48088</td>\n",
       "      <td>45980</td>\n",
       "      <td>44231</td>\n",
       "      <td>32489</td>\n",
       "      <td>26354</td>\n",
       "      <td>20221</td>\n",
       "      <td>2000</td>\n",
       "      <td>2010</td>\n",
       "      <td>3000</td>\n",
       "      <td>3000</td>\n",
       "      <td>3000</td>\n",
       "      <td>1000</td>\n",
       "      <td>0</td>\n",
       "    </tr>\n",
       "    <tr>\n",
       "      <th>2</th>\n",
       "      <td>270000</td>\n",
       "      <td>1</td>\n",
       "      <td>1</td>\n",
       "      <td>2</td>\n",
       "      <td>36</td>\n",
       "      <td>0</td>\n",
       "      <td>0</td>\n",
       "      <td>0</td>\n",
       "      <td>2</td>\n",
       "      <td>0</td>\n",
       "      <td>0</td>\n",
       "      <td>78630</td>\n",
       "      <td>68921</td>\n",
       "      <td>46512</td>\n",
       "      <td>40335</td>\n",
       "      <td>37165</td>\n",
       "      <td>22156</td>\n",
       "      <td>10076</td>\n",
       "      <td>4018</td>\n",
       "      <td>14</td>\n",
       "      <td>2051</td>\n",
       "      <td>2000</td>\n",
       "      <td>0</td>\n",
       "      <td>0</td>\n",
       "    </tr>\n",
       "    <tr>\n",
       "      <th>3</th>\n",
       "      <td>130000</td>\n",
       "      <td>1</td>\n",
       "      <td>1</td>\n",
       "      <td>1</td>\n",
       "      <td>45</td>\n",
       "      <td>0</td>\n",
       "      <td>0</td>\n",
       "      <td>0</td>\n",
       "      <td>0</td>\n",
       "      <td>0</td>\n",
       "      <td>0</td>\n",
       "      <td>58180</td>\n",
       "      <td>59134</td>\n",
       "      <td>61156</td>\n",
       "      <td>62377</td>\n",
       "      <td>63832</td>\n",
       "      <td>65099</td>\n",
       "      <td>2886</td>\n",
       "      <td>2908</td>\n",
       "      <td>2129</td>\n",
       "      <td>2354</td>\n",
       "      <td>2366</td>\n",
       "      <td>2291</td>\n",
       "      <td>0</td>\n",
       "    </tr>\n",
       "    <tr>\n",
       "      <th>4</th>\n",
       "      <td>50000</td>\n",
       "      <td>1</td>\n",
       "      <td>1</td>\n",
       "      <td>2</td>\n",
       "      <td>24</td>\n",
       "      <td>0</td>\n",
       "      <td>0</td>\n",
       "      <td>0</td>\n",
       "      <td>0</td>\n",
       "      <td>0</td>\n",
       "      <td>0</td>\n",
       "      <td>42058</td>\n",
       "      <td>35340</td>\n",
       "      <td>22110</td>\n",
       "      <td>19837</td>\n",
       "      <td>19855</td>\n",
       "      <td>20151</td>\n",
       "      <td>1367</td>\n",
       "      <td>1606</td>\n",
       "      <td>692</td>\n",
       "      <td>709</td>\n",
       "      <td>721</td>\n",
       "      <td>692</td>\n",
       "      <td>0</td>\n",
       "    </tr>\n",
       "    <tr>\n",
       "      <th>...</th>\n",
       "      <td>...</td>\n",
       "      <td>...</td>\n",
       "      <td>...</td>\n",
       "      <td>...</td>\n",
       "      <td>...</td>\n",
       "      <td>...</td>\n",
       "      <td>...</td>\n",
       "      <td>...</td>\n",
       "      <td>...</td>\n",
       "      <td>...</td>\n",
       "      <td>...</td>\n",
       "      <td>...</td>\n",
       "      <td>...</td>\n",
       "      <td>...</td>\n",
       "      <td>...</td>\n",
       "      <td>...</td>\n",
       "      <td>...</td>\n",
       "      <td>...</td>\n",
       "      <td>...</td>\n",
       "      <td>...</td>\n",
       "      <td>...</td>\n",
       "      <td>...</td>\n",
       "      <td>...</td>\n",
       "      <td>...</td>\n",
       "    </tr>\n",
       "    <tr>\n",
       "      <th>2960</th>\n",
       "      <td>210000</td>\n",
       "      <td>2</td>\n",
       "      <td>2</td>\n",
       "      <td>1</td>\n",
       "      <td>39</td>\n",
       "      <td>-1</td>\n",
       "      <td>-1</td>\n",
       "      <td>-1</td>\n",
       "      <td>-1</td>\n",
       "      <td>-2</td>\n",
       "      <td>-1</td>\n",
       "      <td>44100</td>\n",
       "      <td>0</td>\n",
       "      <td>28428</td>\n",
       "      <td>0</td>\n",
       "      <td>0</td>\n",
       "      <td>12000</td>\n",
       "      <td>0</td>\n",
       "      <td>28428</td>\n",
       "      <td>0</td>\n",
       "      <td>0</td>\n",
       "      <td>12000</td>\n",
       "      <td>33664</td>\n",
       "      <td>0</td>\n",
       "    </tr>\n",
       "    <tr>\n",
       "      <th>2961</th>\n",
       "      <td>280000</td>\n",
       "      <td>2</td>\n",
       "      <td>1</td>\n",
       "      <td>1</td>\n",
       "      <td>41</td>\n",
       "      <td>2</td>\n",
       "      <td>-1</td>\n",
       "      <td>-1</td>\n",
       "      <td>-1</td>\n",
       "      <td>-2</td>\n",
       "      <td>-1</td>\n",
       "      <td>280</td>\n",
       "      <td>6852</td>\n",
       "      <td>486</td>\n",
       "      <td>0</td>\n",
       "      <td>0</td>\n",
       "      <td>244</td>\n",
       "      <td>6859</td>\n",
       "      <td>486</td>\n",
       "      <td>0</td>\n",
       "      <td>0</td>\n",
       "      <td>244</td>\n",
       "      <td>0</td>\n",
       "      <td>0</td>\n",
       "    </tr>\n",
       "    <tr>\n",
       "      <th>2962</th>\n",
       "      <td>80000</td>\n",
       "      <td>1</td>\n",
       "      <td>1</td>\n",
       "      <td>2</td>\n",
       "      <td>28</td>\n",
       "      <td>1</td>\n",
       "      <td>-1</td>\n",
       "      <td>-1</td>\n",
       "      <td>-1</td>\n",
       "      <td>-2</td>\n",
       "      <td>-2</td>\n",
       "      <td>0</td>\n",
       "      <td>47</td>\n",
       "      <td>207</td>\n",
       "      <td>0</td>\n",
       "      <td>0</td>\n",
       "      <td>0</td>\n",
       "      <td>47</td>\n",
       "      <td>207</td>\n",
       "      <td>0</td>\n",
       "      <td>0</td>\n",
       "      <td>0</td>\n",
       "      <td>0</td>\n",
       "      <td>0</td>\n",
       "    </tr>\n",
       "    <tr>\n",
       "      <th>2963</th>\n",
       "      <td>200000</td>\n",
       "      <td>1</td>\n",
       "      <td>2</td>\n",
       "      <td>1</td>\n",
       "      <td>53</td>\n",
       "      <td>1</td>\n",
       "      <td>-1</td>\n",
       "      <td>-1</td>\n",
       "      <td>-2</td>\n",
       "      <td>-2</td>\n",
       "      <td>-1</td>\n",
       "      <td>0</td>\n",
       "      <td>2920</td>\n",
       "      <td>0</td>\n",
       "      <td>0</td>\n",
       "      <td>0</td>\n",
       "      <td>6753</td>\n",
       "      <td>2920</td>\n",
       "      <td>0</td>\n",
       "      <td>0</td>\n",
       "      <td>0</td>\n",
       "      <td>6753</td>\n",
       "      <td>0</td>\n",
       "      <td>1</td>\n",
       "    </tr>\n",
       "    <tr>\n",
       "      <th>2964</th>\n",
       "      <td>20000</td>\n",
       "      <td>2</td>\n",
       "      <td>1</td>\n",
       "      <td>2</td>\n",
       "      <td>24</td>\n",
       "      <td>-1</td>\n",
       "      <td>-1</td>\n",
       "      <td>-2</td>\n",
       "      <td>-2</td>\n",
       "      <td>-2</td>\n",
       "      <td>-2</td>\n",
       "      <td>379</td>\n",
       "      <td>0</td>\n",
       "      <td>0</td>\n",
       "      <td>0</td>\n",
       "      <td>0</td>\n",
       "      <td>0</td>\n",
       "      <td>0</td>\n",
       "      <td>0</td>\n",
       "      <td>0</td>\n",
       "      <td>0</td>\n",
       "      <td>0</td>\n",
       "      <td>0</td>\n",
       "      <td>0</td>\n",
       "    </tr>\n",
       "  </tbody>\n",
       "</table>\n",
       "<p>2955 rows × 24 columns</p>\n",
       "</div>"
      ],
      "text/plain": [
       "      limit_balance  sex  education_level  marital_status  age  pay_0  pay_2  \\\n",
       "0             50000    1                1               2   39      0      0   \n",
       "1            110000    2                1               2   29      0      0   \n",
       "2            270000    1                1               2   36      0      0   \n",
       "3            130000    1                1               1   45      0      0   \n",
       "4             50000    1                1               2   24      0      0   \n",
       "...             ...  ...              ...             ...  ...    ...    ...   \n",
       "2960         210000    2                2               1   39     -1     -1   \n",
       "2961         280000    2                1               1   41      2     -1   \n",
       "2962          80000    1                1               2   28      1     -1   \n",
       "2963         200000    1                2               1   53      1     -1   \n",
       "2964          20000    2                1               2   24     -1     -1   \n",
       "\n",
       "      pay_3  pay_4  pay_5  pay_6  bill_amt_1  bill_amt_2  bill_amt_3  \\\n",
       "0         0      0      0      0       47174       47974       48630   \n",
       "1         0      0      0      0       48088       45980       44231   \n",
       "2         0      2      0      0       78630       68921       46512   \n",
       "3         0      0      0      0       58180       59134       61156   \n",
       "4         0      0      0      0       42058       35340       22110   \n",
       "...     ...    ...    ...    ...         ...         ...         ...   \n",
       "2960     -1     -1     -2     -1       44100           0       28428   \n",
       "2961     -1     -1     -2     -1         280        6852         486   \n",
       "2962     -1     -1     -2     -2           0          47         207   \n",
       "2963     -1     -2     -2     -1           0        2920           0   \n",
       "2964     -2     -2     -2     -2         379           0           0   \n",
       "\n",
       "      bill_amt_4  bill_amt_5  bill_amt_6  pay_amt_1  pay_amt_2  pay_amt_3  \\\n",
       "0          50803       30789       15874       1800       2000       3000   \n",
       "1          32489       26354       20221       2000       2010       3000   \n",
       "2          40335       37165       22156      10076       4018         14   \n",
       "3          62377       63832       65099       2886       2908       2129   \n",
       "4          19837       19855       20151       1367       1606        692   \n",
       "...          ...         ...         ...        ...        ...        ...   \n",
       "2960           0           0       12000          0      28428          0   \n",
       "2961           0           0         244       6859        486          0   \n",
       "2962           0           0           0         47        207          0   \n",
       "2963           0           0        6753       2920          0          0   \n",
       "2964           0           0           0          0          0          0   \n",
       "\n",
       "      pay_amt_4  pay_amt_5  pay_amt_6  default_payment_next_month  \n",
       "0          2000       2000       2000                           0  \n",
       "1          3000       3000       1000                           0  \n",
       "2          2051       2000          0                           0  \n",
       "3          2354       2366       2291                           0  \n",
       "4           709        721        692                           0  \n",
       "...         ...        ...        ...                         ...  \n",
       "2960          0      12000      33664                           0  \n",
       "2961          0        244          0                           0  \n",
       "2962          0          0          0                           0  \n",
       "2963          0       6753          0                           1  \n",
       "2964          0          0          0                           0  \n",
       "\n",
       "[2955 rows x 24 columns]"
      ]
     },
     "execution_count": 22,
     "metadata": {},
     "output_type": "execute_result"
    }
   ],
   "source": [
    "# Mendrop data yang telah dipilih menjadi inference dari dataset\n",
    "df_train = df_copy.drop(df_inf.index)\n",
    "df_train"
   ]
  },
  {
   "cell_type": "code",
   "execution_count": 23,
   "metadata": {},
   "outputs": [],
   "source": [
    "# Mereset index agar tidak terjadi kesalahan yang disebabkan oleh index yang belum direset\n",
    "df_train.reset_index(drop=True, inplace=True)\n",
    "df_inf.reset_index(drop=True, inplace=True)"
   ]
  },
  {
   "cell_type": "markdown",
   "metadata": {},
   "source": [
    "# Membagi Dataset menjadi X (feature) dan y (target)\n",
    "\n",
    "Dalam project ini yang menjadi target adalah kolom 'default_payment_next_month' maka kolom 'default_payment_next_month' harus didrop dari X (feature). Kolom 'default_payment_next_month' hanya boleh ada di y (target)."
   ]
  },
  {
   "cell_type": "code",
   "execution_count": 24,
   "metadata": {},
   "outputs": [
    {
     "data": {
      "text/html": [
       "<div>\n",
       "<style scoped>\n",
       "    .dataframe tbody tr th:only-of-type {\n",
       "        vertical-align: middle;\n",
       "    }\n",
       "\n",
       "    .dataframe tbody tr th {\n",
       "        vertical-align: top;\n",
       "    }\n",
       "\n",
       "    .dataframe thead th {\n",
       "        text-align: right;\n",
       "    }\n",
       "</style>\n",
       "<table border=\"1\" class=\"dataframe\">\n",
       "  <thead>\n",
       "    <tr style=\"text-align: right;\">\n",
       "      <th></th>\n",
       "      <th>limit_balance</th>\n",
       "      <th>sex</th>\n",
       "      <th>education_level</th>\n",
       "      <th>marital_status</th>\n",
       "      <th>age</th>\n",
       "      <th>pay_0</th>\n",
       "      <th>pay_2</th>\n",
       "      <th>pay_3</th>\n",
       "      <th>pay_4</th>\n",
       "      <th>pay_5</th>\n",
       "      <th>pay_6</th>\n",
       "      <th>bill_amt_1</th>\n",
       "      <th>bill_amt_2</th>\n",
       "      <th>bill_amt_3</th>\n",
       "      <th>bill_amt_4</th>\n",
       "      <th>bill_amt_5</th>\n",
       "      <th>bill_amt_6</th>\n",
       "      <th>pay_amt_1</th>\n",
       "      <th>pay_amt_2</th>\n",
       "      <th>pay_amt_3</th>\n",
       "      <th>pay_amt_4</th>\n",
       "      <th>pay_amt_5</th>\n",
       "      <th>pay_amt_6</th>\n",
       "    </tr>\n",
       "  </thead>\n",
       "  <tbody>\n",
       "    <tr>\n",
       "      <th>0</th>\n",
       "      <td>50000</td>\n",
       "      <td>1</td>\n",
       "      <td>1</td>\n",
       "      <td>2</td>\n",
       "      <td>39</td>\n",
       "      <td>0</td>\n",
       "      <td>0</td>\n",
       "      <td>0</td>\n",
       "      <td>0</td>\n",
       "      <td>0</td>\n",
       "      <td>0</td>\n",
       "      <td>47174</td>\n",
       "      <td>47974</td>\n",
       "      <td>48630</td>\n",
       "      <td>50803</td>\n",
       "      <td>30789</td>\n",
       "      <td>15874</td>\n",
       "      <td>1800</td>\n",
       "      <td>2000</td>\n",
       "      <td>3000</td>\n",
       "      <td>2000</td>\n",
       "      <td>2000</td>\n",
       "      <td>2000</td>\n",
       "    </tr>\n",
       "    <tr>\n",
       "      <th>1</th>\n",
       "      <td>110000</td>\n",
       "      <td>2</td>\n",
       "      <td>1</td>\n",
       "      <td>2</td>\n",
       "      <td>29</td>\n",
       "      <td>0</td>\n",
       "      <td>0</td>\n",
       "      <td>0</td>\n",
       "      <td>0</td>\n",
       "      <td>0</td>\n",
       "      <td>0</td>\n",
       "      <td>48088</td>\n",
       "      <td>45980</td>\n",
       "      <td>44231</td>\n",
       "      <td>32489</td>\n",
       "      <td>26354</td>\n",
       "      <td>20221</td>\n",
       "      <td>2000</td>\n",
       "      <td>2010</td>\n",
       "      <td>3000</td>\n",
       "      <td>3000</td>\n",
       "      <td>3000</td>\n",
       "      <td>1000</td>\n",
       "    </tr>\n",
       "    <tr>\n",
       "      <th>2</th>\n",
       "      <td>270000</td>\n",
       "      <td>1</td>\n",
       "      <td>1</td>\n",
       "      <td>2</td>\n",
       "      <td>36</td>\n",
       "      <td>0</td>\n",
       "      <td>0</td>\n",
       "      <td>0</td>\n",
       "      <td>2</td>\n",
       "      <td>0</td>\n",
       "      <td>0</td>\n",
       "      <td>78630</td>\n",
       "      <td>68921</td>\n",
       "      <td>46512</td>\n",
       "      <td>40335</td>\n",
       "      <td>37165</td>\n",
       "      <td>22156</td>\n",
       "      <td>10076</td>\n",
       "      <td>4018</td>\n",
       "      <td>14</td>\n",
       "      <td>2051</td>\n",
       "      <td>2000</td>\n",
       "      <td>0</td>\n",
       "    </tr>\n",
       "    <tr>\n",
       "      <th>3</th>\n",
       "      <td>130000</td>\n",
       "      <td>1</td>\n",
       "      <td>1</td>\n",
       "      <td>1</td>\n",
       "      <td>45</td>\n",
       "      <td>0</td>\n",
       "      <td>0</td>\n",
       "      <td>0</td>\n",
       "      <td>0</td>\n",
       "      <td>0</td>\n",
       "      <td>0</td>\n",
       "      <td>58180</td>\n",
       "      <td>59134</td>\n",
       "      <td>61156</td>\n",
       "      <td>62377</td>\n",
       "      <td>63832</td>\n",
       "      <td>65099</td>\n",
       "      <td>2886</td>\n",
       "      <td>2908</td>\n",
       "      <td>2129</td>\n",
       "      <td>2354</td>\n",
       "      <td>2366</td>\n",
       "      <td>2291</td>\n",
       "    </tr>\n",
       "    <tr>\n",
       "      <th>4</th>\n",
       "      <td>50000</td>\n",
       "      <td>1</td>\n",
       "      <td>1</td>\n",
       "      <td>2</td>\n",
       "      <td>24</td>\n",
       "      <td>0</td>\n",
       "      <td>0</td>\n",
       "      <td>0</td>\n",
       "      <td>0</td>\n",
       "      <td>0</td>\n",
       "      <td>0</td>\n",
       "      <td>42058</td>\n",
       "      <td>35340</td>\n",
       "      <td>22110</td>\n",
       "      <td>19837</td>\n",
       "      <td>19855</td>\n",
       "      <td>20151</td>\n",
       "      <td>1367</td>\n",
       "      <td>1606</td>\n",
       "      <td>692</td>\n",
       "      <td>709</td>\n",
       "      <td>721</td>\n",
       "      <td>692</td>\n",
       "    </tr>\n",
       "    <tr>\n",
       "      <th>...</th>\n",
       "      <td>...</td>\n",
       "      <td>...</td>\n",
       "      <td>...</td>\n",
       "      <td>...</td>\n",
       "      <td>...</td>\n",
       "      <td>...</td>\n",
       "      <td>...</td>\n",
       "      <td>...</td>\n",
       "      <td>...</td>\n",
       "      <td>...</td>\n",
       "      <td>...</td>\n",
       "      <td>...</td>\n",
       "      <td>...</td>\n",
       "      <td>...</td>\n",
       "      <td>...</td>\n",
       "      <td>...</td>\n",
       "      <td>...</td>\n",
       "      <td>...</td>\n",
       "      <td>...</td>\n",
       "      <td>...</td>\n",
       "      <td>...</td>\n",
       "      <td>...</td>\n",
       "      <td>...</td>\n",
       "    </tr>\n",
       "    <tr>\n",
       "      <th>2950</th>\n",
       "      <td>210000</td>\n",
       "      <td>2</td>\n",
       "      <td>2</td>\n",
       "      <td>1</td>\n",
       "      <td>39</td>\n",
       "      <td>-1</td>\n",
       "      <td>-1</td>\n",
       "      <td>-1</td>\n",
       "      <td>-1</td>\n",
       "      <td>-2</td>\n",
       "      <td>-1</td>\n",
       "      <td>44100</td>\n",
       "      <td>0</td>\n",
       "      <td>28428</td>\n",
       "      <td>0</td>\n",
       "      <td>0</td>\n",
       "      <td>12000</td>\n",
       "      <td>0</td>\n",
       "      <td>28428</td>\n",
       "      <td>0</td>\n",
       "      <td>0</td>\n",
       "      <td>12000</td>\n",
       "      <td>33664</td>\n",
       "    </tr>\n",
       "    <tr>\n",
       "      <th>2951</th>\n",
       "      <td>280000</td>\n",
       "      <td>2</td>\n",
       "      <td>1</td>\n",
       "      <td>1</td>\n",
       "      <td>41</td>\n",
       "      <td>2</td>\n",
       "      <td>-1</td>\n",
       "      <td>-1</td>\n",
       "      <td>-1</td>\n",
       "      <td>-2</td>\n",
       "      <td>-1</td>\n",
       "      <td>280</td>\n",
       "      <td>6852</td>\n",
       "      <td>486</td>\n",
       "      <td>0</td>\n",
       "      <td>0</td>\n",
       "      <td>244</td>\n",
       "      <td>6859</td>\n",
       "      <td>486</td>\n",
       "      <td>0</td>\n",
       "      <td>0</td>\n",
       "      <td>244</td>\n",
       "      <td>0</td>\n",
       "    </tr>\n",
       "    <tr>\n",
       "      <th>2952</th>\n",
       "      <td>80000</td>\n",
       "      <td>1</td>\n",
       "      <td>1</td>\n",
       "      <td>2</td>\n",
       "      <td>28</td>\n",
       "      <td>1</td>\n",
       "      <td>-1</td>\n",
       "      <td>-1</td>\n",
       "      <td>-1</td>\n",
       "      <td>-2</td>\n",
       "      <td>-2</td>\n",
       "      <td>0</td>\n",
       "      <td>47</td>\n",
       "      <td>207</td>\n",
       "      <td>0</td>\n",
       "      <td>0</td>\n",
       "      <td>0</td>\n",
       "      <td>47</td>\n",
       "      <td>207</td>\n",
       "      <td>0</td>\n",
       "      <td>0</td>\n",
       "      <td>0</td>\n",
       "      <td>0</td>\n",
       "    </tr>\n",
       "    <tr>\n",
       "      <th>2953</th>\n",
       "      <td>200000</td>\n",
       "      <td>1</td>\n",
       "      <td>2</td>\n",
       "      <td>1</td>\n",
       "      <td>53</td>\n",
       "      <td>1</td>\n",
       "      <td>-1</td>\n",
       "      <td>-1</td>\n",
       "      <td>-2</td>\n",
       "      <td>-2</td>\n",
       "      <td>-1</td>\n",
       "      <td>0</td>\n",
       "      <td>2920</td>\n",
       "      <td>0</td>\n",
       "      <td>0</td>\n",
       "      <td>0</td>\n",
       "      <td>6753</td>\n",
       "      <td>2920</td>\n",
       "      <td>0</td>\n",
       "      <td>0</td>\n",
       "      <td>0</td>\n",
       "      <td>6753</td>\n",
       "      <td>0</td>\n",
       "    </tr>\n",
       "    <tr>\n",
       "      <th>2954</th>\n",
       "      <td>20000</td>\n",
       "      <td>2</td>\n",
       "      <td>1</td>\n",
       "      <td>2</td>\n",
       "      <td>24</td>\n",
       "      <td>-1</td>\n",
       "      <td>-1</td>\n",
       "      <td>-2</td>\n",
       "      <td>-2</td>\n",
       "      <td>-2</td>\n",
       "      <td>-2</td>\n",
       "      <td>379</td>\n",
       "      <td>0</td>\n",
       "      <td>0</td>\n",
       "      <td>0</td>\n",
       "      <td>0</td>\n",
       "      <td>0</td>\n",
       "      <td>0</td>\n",
       "      <td>0</td>\n",
       "      <td>0</td>\n",
       "      <td>0</td>\n",
       "      <td>0</td>\n",
       "      <td>0</td>\n",
       "    </tr>\n",
       "  </tbody>\n",
       "</table>\n",
       "<p>2955 rows × 23 columns</p>\n",
       "</div>"
      ],
      "text/plain": [
       "      limit_balance  sex  education_level  marital_status  age  pay_0  pay_2  \\\n",
       "0             50000    1                1               2   39      0      0   \n",
       "1            110000    2                1               2   29      0      0   \n",
       "2            270000    1                1               2   36      0      0   \n",
       "3            130000    1                1               1   45      0      0   \n",
       "4             50000    1                1               2   24      0      0   \n",
       "...             ...  ...              ...             ...  ...    ...    ...   \n",
       "2950         210000    2                2               1   39     -1     -1   \n",
       "2951         280000    2                1               1   41      2     -1   \n",
       "2952          80000    1                1               2   28      1     -1   \n",
       "2953         200000    1                2               1   53      1     -1   \n",
       "2954          20000    2                1               2   24     -1     -1   \n",
       "\n",
       "      pay_3  pay_4  pay_5  pay_6  bill_amt_1  bill_amt_2  bill_amt_3  \\\n",
       "0         0      0      0      0       47174       47974       48630   \n",
       "1         0      0      0      0       48088       45980       44231   \n",
       "2         0      2      0      0       78630       68921       46512   \n",
       "3         0      0      0      0       58180       59134       61156   \n",
       "4         0      0      0      0       42058       35340       22110   \n",
       "...     ...    ...    ...    ...         ...         ...         ...   \n",
       "2950     -1     -1     -2     -1       44100           0       28428   \n",
       "2951     -1     -1     -2     -1         280        6852         486   \n",
       "2952     -1     -1     -2     -2           0          47         207   \n",
       "2953     -1     -2     -2     -1           0        2920           0   \n",
       "2954     -2     -2     -2     -2         379           0           0   \n",
       "\n",
       "      bill_amt_4  bill_amt_5  bill_amt_6  pay_amt_1  pay_amt_2  pay_amt_3  \\\n",
       "0          50803       30789       15874       1800       2000       3000   \n",
       "1          32489       26354       20221       2000       2010       3000   \n",
       "2          40335       37165       22156      10076       4018         14   \n",
       "3          62377       63832       65099       2886       2908       2129   \n",
       "4          19837       19855       20151       1367       1606        692   \n",
       "...          ...         ...         ...        ...        ...        ...   \n",
       "2950           0           0       12000          0      28428          0   \n",
       "2951           0           0         244       6859        486          0   \n",
       "2952           0           0           0         47        207          0   \n",
       "2953           0           0        6753       2920          0          0   \n",
       "2954           0           0           0          0          0          0   \n",
       "\n",
       "      pay_amt_4  pay_amt_5  pay_amt_6  \n",
       "0          2000       2000       2000  \n",
       "1          3000       3000       1000  \n",
       "2          2051       2000          0  \n",
       "3          2354       2366       2291  \n",
       "4           709        721        692  \n",
       "...         ...        ...        ...  \n",
       "2950          0      12000      33664  \n",
       "2951          0        244          0  \n",
       "2952          0          0          0  \n",
       "2953          0       6753          0  \n",
       "2954          0          0          0  \n",
       "\n",
       "[2955 rows x 23 columns]"
      ]
     },
     "execution_count": 24,
     "metadata": {},
     "output_type": "execute_result"
    }
   ],
   "source": [
    "# Membagi antara X(feature) dengan y(target)\n",
    "X = df_train.drop('default_payment_next_month', axis=1)\n",
    "y = df_train['default_payment_next_month']\n",
    "X"
   ]
  },
  {
   "cell_type": "code",
   "execution_count": 25,
   "metadata": {},
   "outputs": [
    {
     "name": "stdout",
     "output_type": "stream",
     "text": [
      "Train size: (2364, 23)\n",
      "Test size: (591, 23)\n"
     ]
    }
   ],
   "source": [
    "# Membagi antara train dan test set, train set presentasenya adalah 80% dan test set presentasenya adalah 20%\n",
    "X_train, X_test, y_train, y_test = train_test_split(X, y, test_size=0.2, random_state=17)\n",
    "\n",
    "print('Train size:' , X_train.shape)\n",
    "print('Test size:', X_test.shape)"
   ]
  },
  {
   "cell_type": "markdown",
   "metadata": {},
   "source": [
    "# Feature Selection"
   ]
  },
  {
   "cell_type": "code",
   "execution_count": 26,
   "metadata": {},
   "outputs": [
    {
     "data": {
      "text/plain": [
       "<AxesSubplot:>"
      ]
     },
     "execution_count": 26,
     "metadata": {},
     "output_type": "execute_result"
    },
    {
     "data": {
      "image/png": "[encoded data removed]",
      "text/plain": [
       "<Figure size 2160x2160 with 2 Axes>"
      ]
     },
     "metadata": {
      "needs_background": "light"
     },
     "output_type": "display_data"
    }
   ],
   "source": [
    "# Cek korelasi antara target dengan feature menggunakan heatmap\n",
    "plt.figure(figsize=(30,30))\n",
    "sns.heatmap(df_copy.corr(), annot=True, cmap='RdYlGn')"
   ]
  },
  {
   "cell_type": "markdown",
   "metadata": {},
   "source": [
    "Berdasarkan heatmap, sepertinya hampir semua kolom numerikal harus dijadikan feature. kolom limit balance, pay, bill amount, dan pay amount dipilih menjadi feature karena berkorelasi dengan feature. Untuk sex, education, dan marital status tidak saya pilih menjadi feature karena menurut saya ketiga kolom ini tidak memiliki korelasi secara langsung dengan feature.\n",
    "\n",
    "Untuk project ini, kolom yang saya jadikan feature adalah 'limit_balance', 'pay_0', 'pay_2', 'pay_3', 'pay_4', 'pay_5', 'pay_6', 'bill_amt_1', 'bill_amt_2', 'bill_amt_3', 'bill_amt_4', 'bill_amt_5', 'bill_amt_6', 'pay_amt_1', 'pay_amt_2', 'pay_amt_3', 'pay_amt_4', 'pay_amt_5',\n",
    "'pay_amt_6'"
   ]
  },
  {
   "cell_type": "code",
   "execution_count": 27,
   "metadata": {},
   "outputs": [
    {
     "data": {
      "text/html": [
       "<div>\n",
       "<style scoped>\n",
       "    .dataframe tbody tr th:only-of-type {\n",
       "        vertical-align: middle;\n",
       "    }\n",
       "\n",
       "    .dataframe tbody tr th {\n",
       "        vertical-align: top;\n",
       "    }\n",
       "\n",
       "    .dataframe thead th {\n",
       "        text-align: right;\n",
       "    }\n",
       "</style>\n",
       "<table border=\"1\" class=\"dataframe\">\n",
       "  <thead>\n",
       "    <tr style=\"text-align: right;\">\n",
       "      <th></th>\n",
       "      <th>limit_balance</th>\n",
       "      <th>pay_0</th>\n",
       "      <th>pay_2</th>\n",
       "      <th>pay_3</th>\n",
       "      <th>pay_4</th>\n",
       "      <th>pay_5</th>\n",
       "      <th>pay_6</th>\n",
       "      <th>bill_amt_1</th>\n",
       "      <th>bill_amt_2</th>\n",
       "      <th>bill_amt_3</th>\n",
       "      <th>bill_amt_4</th>\n",
       "      <th>bill_amt_5</th>\n",
       "      <th>bill_amt_6</th>\n",
       "      <th>pay_amt_1</th>\n",
       "      <th>pay_amt_2</th>\n",
       "      <th>pay_amt_3</th>\n",
       "      <th>pay_amt_4</th>\n",
       "      <th>pay_amt_5</th>\n",
       "      <th>pay_amt_6</th>\n",
       "    </tr>\n",
       "  </thead>\n",
       "  <tbody>\n",
       "    <tr>\n",
       "      <th>810</th>\n",
       "      <td>120000</td>\n",
       "      <td>-1</td>\n",
       "      <td>0</td>\n",
       "      <td>0</td>\n",
       "      <td>0</td>\n",
       "      <td>0</td>\n",
       "      <td>0</td>\n",
       "      <td>8922</td>\n",
       "      <td>43070</td>\n",
       "      <td>47023</td>\n",
       "      <td>53576</td>\n",
       "      <td>57529</td>\n",
       "      <td>61392</td>\n",
       "      <td>35000</td>\n",
       "      <td>5000</td>\n",
       "      <td>8000</td>\n",
       "      <td>5000</td>\n",
       "      <td>5000</td>\n",
       "      <td>4000</td>\n",
       "    </tr>\n",
       "    <tr>\n",
       "      <th>2575</th>\n",
       "      <td>160000</td>\n",
       "      <td>1</td>\n",
       "      <td>-1</td>\n",
       "      <td>-1</td>\n",
       "      <td>-1</td>\n",
       "      <td>-1</td>\n",
       "      <td>-1</td>\n",
       "      <td>0</td>\n",
       "      <td>1496</td>\n",
       "      <td>1496</td>\n",
       "      <td>1496</td>\n",
       "      <td>1496</td>\n",
       "      <td>1496</td>\n",
       "      <td>1496</td>\n",
       "      <td>1496</td>\n",
       "      <td>1496</td>\n",
       "      <td>1496</td>\n",
       "      <td>1496</td>\n",
       "      <td>1496</td>\n",
       "    </tr>\n",
       "    <tr>\n",
       "      <th>366</th>\n",
       "      <td>100000</td>\n",
       "      <td>0</td>\n",
       "      <td>0</td>\n",
       "      <td>0</td>\n",
       "      <td>0</td>\n",
       "      <td>0</td>\n",
       "      <td>0</td>\n",
       "      <td>62300</td>\n",
       "      <td>63759</td>\n",
       "      <td>64448</td>\n",
       "      <td>38500</td>\n",
       "      <td>39469</td>\n",
       "      <td>40653</td>\n",
       "      <td>2464</td>\n",
       "      <td>1902</td>\n",
       "      <td>1378</td>\n",
       "      <td>1589</td>\n",
       "      <td>2000</td>\n",
       "      <td>1506</td>\n",
       "    </tr>\n",
       "    <tr>\n",
       "      <th>2622</th>\n",
       "      <td>170000</td>\n",
       "      <td>-1</td>\n",
       "      <td>-1</td>\n",
       "      <td>-1</td>\n",
       "      <td>-1</td>\n",
       "      <td>-1</td>\n",
       "      <td>-1</td>\n",
       "      <td>3105</td>\n",
       "      <td>1599</td>\n",
       "      <td>1122</td>\n",
       "      <td>1692</td>\n",
       "      <td>648</td>\n",
       "      <td>0</td>\n",
       "      <td>1599</td>\n",
       "      <td>1122</td>\n",
       "      <td>1692</td>\n",
       "      <td>648</td>\n",
       "      <td>0</td>\n",
       "      <td>631</td>\n",
       "    </tr>\n",
       "    <tr>\n",
       "      <th>2891</th>\n",
       "      <td>110000</td>\n",
       "      <td>1</td>\n",
       "      <td>-1</td>\n",
       "      <td>-1</td>\n",
       "      <td>-2</td>\n",
       "      <td>-2</td>\n",
       "      <td>-2</td>\n",
       "      <td>0</td>\n",
       "      <td>780</td>\n",
       "      <td>0</td>\n",
       "      <td>0</td>\n",
       "      <td>0</td>\n",
       "      <td>0</td>\n",
       "      <td>780</td>\n",
       "      <td>0</td>\n",
       "      <td>0</td>\n",
       "      <td>0</td>\n",
       "      <td>0</td>\n",
       "      <td>0</td>\n",
       "    </tr>\n",
       "    <tr>\n",
       "      <th>...</th>\n",
       "      <td>...</td>\n",
       "      <td>...</td>\n",
       "      <td>...</td>\n",
       "      <td>...</td>\n",
       "      <td>...</td>\n",
       "      <td>...</td>\n",
       "      <td>...</td>\n",
       "      <td>...</td>\n",
       "      <td>...</td>\n",
       "      <td>...</td>\n",
       "      <td>...</td>\n",
       "      <td>...</td>\n",
       "      <td>...</td>\n",
       "      <td>...</td>\n",
       "      <td>...</td>\n",
       "      <td>...</td>\n",
       "      <td>...</td>\n",
       "      <td>...</td>\n",
       "      <td>...</td>\n",
       "    </tr>\n",
       "    <tr>\n",
       "      <th>1337</th>\n",
       "      <td>60000</td>\n",
       "      <td>0</td>\n",
       "      <td>0</td>\n",
       "      <td>0</td>\n",
       "      <td>2</td>\n",
       "      <td>2</td>\n",
       "      <td>2</td>\n",
       "      <td>24066</td>\n",
       "      <td>24786</td>\n",
       "      <td>27050</td>\n",
       "      <td>26317</td>\n",
       "      <td>28200</td>\n",
       "      <td>28762</td>\n",
       "      <td>1414</td>\n",
       "      <td>2678</td>\n",
       "      <td>0</td>\n",
       "      <td>2310</td>\n",
       "      <td>1173</td>\n",
       "      <td>0</td>\n",
       "    </tr>\n",
       "    <tr>\n",
       "      <th>406</th>\n",
       "      <td>150000</td>\n",
       "      <td>0</td>\n",
       "      <td>0</td>\n",
       "      <td>0</td>\n",
       "      <td>0</td>\n",
       "      <td>0</td>\n",
       "      <td>0</td>\n",
       "      <td>146018</td>\n",
       "      <td>147598</td>\n",
       "      <td>148393</td>\n",
       "      <td>149709</td>\n",
       "      <td>107862</td>\n",
       "      <td>108623</td>\n",
       "      <td>7000</td>\n",
       "      <td>7600</td>\n",
       "      <td>6000</td>\n",
       "      <td>4000</td>\n",
       "      <td>4100</td>\n",
       "      <td>4300</td>\n",
       "    </tr>\n",
       "    <tr>\n",
       "      <th>1414</th>\n",
       "      <td>20000</td>\n",
       "      <td>0</td>\n",
       "      <td>0</td>\n",
       "      <td>0</td>\n",
       "      <td>0</td>\n",
       "      <td>2</td>\n",
       "      <td>2</td>\n",
       "      <td>4338</td>\n",
       "      <td>5355</td>\n",
       "      <td>6369</td>\n",
       "      <td>6891</td>\n",
       "      <td>6635</td>\n",
       "      <td>7287</td>\n",
       "      <td>1092</td>\n",
       "      <td>1106</td>\n",
       "      <td>628</td>\n",
       "      <td>0</td>\n",
       "      <td>762</td>\n",
       "      <td>0</td>\n",
       "    </tr>\n",
       "    <tr>\n",
       "      <th>2191</th>\n",
       "      <td>350000</td>\n",
       "      <td>1</td>\n",
       "      <td>-2</td>\n",
       "      <td>-2</td>\n",
       "      <td>-2</td>\n",
       "      <td>-2</td>\n",
       "      <td>-2</td>\n",
       "      <td>0</td>\n",
       "      <td>0</td>\n",
       "      <td>0</td>\n",
       "      <td>0</td>\n",
       "      <td>0</td>\n",
       "      <td>0</td>\n",
       "      <td>0</td>\n",
       "      <td>0</td>\n",
       "      <td>0</td>\n",
       "      <td>0</td>\n",
       "      <td>0</td>\n",
       "      <td>0</td>\n",
       "    </tr>\n",
       "    <tr>\n",
       "      <th>2671</th>\n",
       "      <td>180000</td>\n",
       "      <td>-1</td>\n",
       "      <td>-1</td>\n",
       "      <td>-1</td>\n",
       "      <td>-1</td>\n",
       "      <td>-1</td>\n",
       "      <td>-1</td>\n",
       "      <td>1000</td>\n",
       "      <td>92</td>\n",
       "      <td>92</td>\n",
       "      <td>603</td>\n",
       "      <td>1760</td>\n",
       "      <td>826</td>\n",
       "      <td>92</td>\n",
       "      <td>92</td>\n",
       "      <td>603</td>\n",
       "      <td>1760</td>\n",
       "      <td>826</td>\n",
       "      <td>826</td>\n",
       "    </tr>\n",
       "  </tbody>\n",
       "</table>\n",
       "<p>2364 rows × 19 columns</p>\n",
       "</div>"
      ],
      "text/plain": [
       "      limit_balance  pay_0  pay_2  pay_3  pay_4  pay_5  pay_6  bill_amt_1  \\\n",
       "810          120000     -1      0      0      0      0      0        8922   \n",
       "2575         160000      1     -1     -1     -1     -1     -1           0   \n",
       "366          100000      0      0      0      0      0      0       62300   \n",
       "2622         170000     -1     -1     -1     -1     -1     -1        3105   \n",
       "2891         110000      1     -1     -1     -2     -2     -2           0   \n",
       "...             ...    ...    ...    ...    ...    ...    ...         ...   \n",
       "1337          60000      0      0      0      2      2      2       24066   \n",
       "406          150000      0      0      0      0      0      0      146018   \n",
       "1414          20000      0      0      0      0      2      2        4338   \n",
       "2191         350000      1     -2     -2     -2     -2     -2           0   \n",
       "2671         180000     -1     -1     -1     -1     -1     -1        1000   \n",
       "\n",
       "      bill_amt_2  bill_amt_3  bill_amt_4  bill_amt_5  bill_amt_6  pay_amt_1  \\\n",
       "810        43070       47023       53576       57529       61392      35000   \n",
       "2575        1496        1496        1496        1496        1496       1496   \n",
       "366        63759       64448       38500       39469       40653       2464   \n",
       "2622        1599        1122        1692         648           0       1599   \n",
       "2891         780           0           0           0           0        780   \n",
       "...          ...         ...         ...         ...         ...        ...   \n",
       "1337       24786       27050       26317       28200       28762       1414   \n",
       "406       147598      148393      149709      107862      108623       7000   \n",
       "1414        5355        6369        6891        6635        7287       1092   \n",
       "2191           0           0           0           0           0          0   \n",
       "2671          92          92         603        1760         826         92   \n",
       "\n",
       "      pay_amt_2  pay_amt_3  pay_amt_4  pay_amt_5  pay_amt_6  \n",
       "810        5000       8000       5000       5000       4000  \n",
       "2575       1496       1496       1496       1496       1496  \n",
       "366        1902       1378       1589       2000       1506  \n",
       "2622       1122       1692        648          0        631  \n",
       "2891          0          0          0          0          0  \n",
       "...         ...        ...        ...        ...        ...  \n",
       "1337       2678          0       2310       1173          0  \n",
       "406        7600       6000       4000       4100       4300  \n",
       "1414       1106        628          0        762          0  \n",
       "2191          0          0          0          0          0  \n",
       "2671         92        603       1760        826        826  \n",
       "\n",
       "[2364 rows x 19 columns]"
      ]
     },
     "execution_count": 27,
     "metadata": {},
     "output_type": "execute_result"
    }
   ],
   "source": [
    "# Membuat variabel yang berisikan kolom-kolom yang dipilih menjadi feature\n",
    "X_train_feature = X_train[['limit_balance', 'pay_0', 'pay_2', 'pay_3', 'pay_4', 'pay_5', 'pay_6', 'bill_amt_1', 'bill_amt_2', 'bill_amt_3', 'bill_amt_4', 'bill_amt_5', 'bill_amt_6', 'pay_amt_1', 'pay_amt_2', 'pay_amt_3', 'pay_amt_4', 'pay_amt_5', 'pay_amt_6']]\n",
    "X_test_feature = X_test[['limit_balance', 'pay_0', 'pay_2', 'pay_3', 'pay_4', 'pay_5', 'pay_6', 'bill_amt_1', 'bill_amt_2', 'bill_amt_3', 'bill_amt_4', 'bill_amt_5', 'bill_amt_6', 'pay_amt_1', 'pay_amt_2', 'pay_amt_3', 'pay_amt_4', 'pay_amt_5', 'pay_amt_6']]\n",
    "X_train_feature"
   ]
  },
  {
   "cell_type": "markdown",
   "metadata": {},
   "source": [
    "# Handling missing values"
   ]
  },
  {
   "cell_type": "code",
   "execution_count": 28,
   "metadata": {},
   "outputs": [
    {
     "data": {
      "text/plain": [
       "limit_balance    0\n",
       "pay_0            0\n",
       "pay_2            0\n",
       "pay_3            0\n",
       "pay_4            0\n",
       "pay_5            0\n",
       "pay_6            0\n",
       "bill_amt_1       0\n",
       "bill_amt_2       0\n",
       "bill_amt_3       0\n",
       "bill_amt_4       0\n",
       "bill_amt_5       0\n",
       "bill_amt_6       0\n",
       "pay_amt_1        0\n",
       "pay_amt_2        0\n",
       "pay_amt_3        0\n",
       "pay_amt_4        0\n",
       "pay_amt_5        0\n",
       "pay_amt_6        0\n",
       "dtype: int64"
      ]
     },
     "execution_count": 28,
     "metadata": {},
     "output_type": "execute_result"
    }
   ],
   "source": [
    "# Memeriksa missing value dalam train set\n",
    "X_train_feature.isnull().sum()"
   ]
  },
  {
   "cell_type": "code",
   "execution_count": 29,
   "metadata": {},
   "outputs": [
    {
     "data": {
      "text/plain": [
       "0"
      ]
     },
     "execution_count": 29,
     "metadata": {},
     "output_type": "execute_result"
    }
   ],
   "source": [
    "# Memeriksa missing value dalam train set\n",
    "y_train.isnull().sum()"
   ]
  },
  {
   "cell_type": "code",
   "execution_count": 30,
   "metadata": {},
   "outputs": [
    {
     "data": {
      "text/plain": [
       "limit_balance    0\n",
       "pay_0            0\n",
       "pay_2            0\n",
       "pay_3            0\n",
       "pay_4            0\n",
       "pay_5            0\n",
       "pay_6            0\n",
       "bill_amt_1       0\n",
       "bill_amt_2       0\n",
       "bill_amt_3       0\n",
       "bill_amt_4       0\n",
       "bill_amt_5       0\n",
       "bill_amt_6       0\n",
       "pay_amt_1        0\n",
       "pay_amt_2        0\n",
       "pay_amt_3        0\n",
       "pay_amt_4        0\n",
       "pay_amt_5        0\n",
       "pay_amt_6        0\n",
       "dtype: int64"
      ]
     },
     "execution_count": 30,
     "metadata": {},
     "output_type": "execute_result"
    }
   ],
   "source": [
    "# Memeriksa missing value dalam test set\n",
    "X_test_feature.isnull().sum()"
   ]
  },
  {
   "cell_type": "code",
   "execution_count": 31,
   "metadata": {},
   "outputs": [
    {
     "data": {
      "text/plain": [
       "0"
      ]
     },
     "execution_count": 31,
     "metadata": {},
     "output_type": "execute_result"
    }
   ],
   "source": [
    "# Memeriksa missing value dalam test set\n",
    "y_test.isnull().sum()"
   ]
  },
  {
   "cell_type": "markdown",
   "metadata": {},
   "source": [
    "Memastikan kembali bahwa dataset tidak memiliki entry dengan value null. Pada bagian preview dataset, ditemukan entry dengan value anomali pada kolom 'marital_status' dan 'education_level' namun karena kedua kolom tersebut tidak dipilih menjadi feature, maka tidak diperlukan proses modifikasi data pada kedua kolom tersebut."
   ]
  },
  {
   "cell_type": "markdown",
   "metadata": {},
   "source": [
    "# Membagi kolom numerikal dan kategorikal"
   ]
  },
  {
   "cell_type": "code",
   "execution_count": 32,
   "metadata": {},
   "outputs": [
    {
     "name": "stdout",
     "output_type": "stream",
     "text": [
      "Kolom numerikal: ['limit_balance', 'bill_amt_1', 'bill_amt_2', 'bill_amt_3', 'bill_amt_4', 'bill_amt_5', 'bill_amt_6', 'pay_amt_1', 'pay_amt_2', 'pay_amt_3', 'pay_amt_4', 'pay_amt_5', 'pay_amt_6']\n",
      "Kolom kategorikal: ['pay_0', 'pay_2', 'pay_3', 'pay_4', 'pay_5', 'pay_6']\n"
     ]
    }
   ],
   "source": [
    "# Membuat variabel yang berdasarkan tipe kolom\n",
    "num_cols = ['limit_balance', 'bill_amt_1', 'bill_amt_2', 'bill_amt_3', 'bill_amt_4', 'bill_amt_5', 'bill_amt_6', 'pay_amt_1', 'pay_amt_2', 'pay_amt_3', 'pay_amt_4', 'pay_amt_5', 'pay_amt_6']\n",
    "cat_cols = ['pay_0', 'pay_2', 'pay_3', 'pay_4', 'pay_5', 'pay_6']\n",
    "\n",
    "print('Kolom numerikal:', num_cols)\n",
    "print('Kolom kategorikal:', cat_cols)"
   ]
  },
  {
   "cell_type": "markdown",
   "metadata": {},
   "source": [
    "Berdasarkan dtypes, seluruh kolom merupakan integer. Namun demikian, dataset ini tetap memiliki kolom kategorikal. Hanya saja kolom kategorikal tersebut sudah diubah kedalam bentuk angka. Untuk menentukan kolom mana yang numerikal atau kategorikan, saya merujuk pada page 'SCHEMA' di Google Cloud Platform (link: https://console.cloud.google.com/bigquery?referrer=search&project=bigqueryhacktiv8&ws=!1m5!1m4!4m3!1sbigquery-public-data!2sml_datasets!3scredit_card_default)."
   ]
  },
  {
   "cell_type": "code",
   "execution_count": 33,
   "metadata": {},
   "outputs": [],
   "source": [
    "# Membagi train dan test set berdasarkan tipe kolom\n",
    "X_train_num = X_train_feature[num_cols]\n",
    "X_train_cat = X_train_feature[cat_cols]\n",
    "\n",
    "X_test_num = X_test_feature[num_cols]\n",
    "X_test_cat = X_test_feature[cat_cols]"
   ]
  },
  {
   "cell_type": "markdown",
   "metadata": {},
   "source": [
    "# Handling Outliers"
   ]
  },
  {
   "cell_type": "code",
   "execution_count": 34,
   "metadata": {},
   "outputs": [
    {
     "data": {
      "image/png": "[encoded data removed]",
      "text/plain": [
       "<Figure size 720x360 with 1 Axes>"
      ]
     },
     "metadata": {
      "needs_background": "light"
     },
     "output_type": "display_data"
    },
    {
     "name": "stdout",
     "output_type": "stream",
     "text": [
      "Skewness: 1.0213265650172134\n"
     ]
    }
   ],
   "source": [
    "# Cek outliers 'limit_balance'\n",
    "plt.figure(figsize=(10,5))\n",
    "sns.boxplot(X_train_num.limit_balance)\n",
    "plt.title('Limit Balance Outliers')\n",
    "plt.show()\n",
    "\n",
    "print('Skewness:', X_train_num['limit_balance'].skew())"
   ]
  },
  {
   "cell_type": "code",
   "execution_count": 35,
   "metadata": {},
   "outputs": [
    {
     "data": {
      "image/png": "[encoded data removed]",
      "text/plain": [
       "<Figure size 720x360 with 1 Axes>"
      ]
     },
     "metadata": {
      "needs_background": "light"
     },
     "output_type": "display_data"
    },
    {
     "name": "stdout",
     "output_type": "stream",
     "text": [
      "Skewness: 2.4325066300025067\n"
     ]
    }
   ],
   "source": [
    "# Cek outliers 'bill_amt_1'\n",
    "plt.figure(figsize=(10,5))\n",
    "sns.boxplot(X_train_num.bill_amt_1)\n",
    "plt.title('Bill Amt 1 Outliers')\n",
    "plt.show()\n",
    "\n",
    "print('Skewness:', X_train_num['bill_amt_1'].skew())"
   ]
  },
  {
   "cell_type": "code",
   "execution_count": 36,
   "metadata": {},
   "outputs": [
    {
     "data": {
      "image/png": "[encoded data removed]",
      "text/plain": [
       "<Figure size 720x360 with 1 Axes>"
      ]
     },
     "metadata": {
      "needs_background": "light"
     },
     "output_type": "display_data"
    },
    {
     "name": "stdout",
     "output_type": "stream",
     "text": [
      "Skewness: 2.4182747164391194\n"
     ]
    }
   ],
   "source": [
    "# Cek outliers 'bill_amt_2'\n",
    "plt.figure(figsize=(10,5))\n",
    "sns.boxplot(X_train_num.bill_amt_2)\n",
    "plt.title('Bill Amt 2 Outliers')\n",
    "plt.show()\n",
    "\n",
    "print('Skewness:', X_train_num['bill_amt_2'].skew())"
   ]
  },
  {
   "cell_type": "code",
   "execution_count": 37,
   "metadata": {},
   "outputs": [
    {
     "data": {
      "image/png": "[encoded data removed]",
      "text/plain": [
       "<Figure size 720x360 with 1 Axes>"
      ]
     },
     "metadata": {
      "needs_background": "light"
     },
     "output_type": "display_data"
    },
    {
     "name": "stdout",
     "output_type": "stream",
     "text": [
      "Skewness: 2.472460450925005\n"
     ]
    }
   ],
   "source": [
    "# Cek outliers 'bill_amt_3'\n",
    "plt.figure(figsize=(10,5))\n",
    "sns.boxplot(X_train_num.bill_amt_3)\n",
    "plt.title('Bill Amt 3 Outliers')\n",
    "plt.show()\n",
    "\n",
    "print('Skewness:', X_train_num['bill_amt_3'].skew())"
   ]
  },
  {
   "cell_type": "code",
   "execution_count": 38,
   "metadata": {},
   "outputs": [
    {
     "data": {
      "image/png": "[encoded data removed]",
      "text/plain": [
       "<Figure size 720x360 with 1 Axes>"
      ]
     },
     "metadata": {
      "needs_background": "light"
     },
     "output_type": "display_data"
    },
    {
     "name": "stdout",
     "output_type": "stream",
     "text": [
      "Skewness: 2.4434817285658634\n"
     ]
    }
   ],
   "source": [
    "# Cek outliers 'bill_amt_4'\n",
    "plt.figure(figsize=(10,5))\n",
    "sns.boxplot(X_train_num.bill_amt_4)\n",
    "plt.title('Bill Amt 4 Outliers')\n",
    "plt.show()\n",
    "\n",
    "print('Skewness:', X_train_num['bill_amt_4'].skew())"
   ]
  },
  {
   "cell_type": "code",
   "execution_count": 39,
   "metadata": {},
   "outputs": [
    {
     "data": {
      "image/png": "[encoded data removed]",
      "text/plain": [
       "<Figure size 720x360 with 1 Axes>"
      ]
     },
     "metadata": {
      "needs_background": "light"
     },
     "output_type": "display_data"
    },
    {
     "name": "stdout",
     "output_type": "stream",
     "text": [
      "Skewness: 2.365683873243085\n"
     ]
    }
   ],
   "source": [
    "# Cek outliers 'bill_amt_5'\n",
    "plt.figure(figsize=(10,5))\n",
    "sns.boxplot(X_train_num.bill_amt_5)\n",
    "plt.title('Bill Amt 5 Outliers')\n",
    "plt.show()\n",
    "\n",
    "print('Skewness:', X_train_num['bill_amt_5'].skew())"
   ]
  },
  {
   "cell_type": "code",
   "execution_count": 40,
   "metadata": {},
   "outputs": [
    {
     "data": {
      "image/png": "[encoded data removed]",
      "text/plain": [
       "<Figure size 720x360 with 1 Axes>"
      ]
     },
     "metadata": {
      "needs_background": "light"
     },
     "output_type": "display_data"
    },
    {
     "name": "stdout",
     "output_type": "stream",
     "text": [
      "Skewness: 2.449248399054919\n"
     ]
    }
   ],
   "source": [
    "# Cek outliers 'bill_amt_6'\n",
    "plt.figure(figsize=(10,5))\n",
    "sns.boxplot(X_train_num.bill_amt_6)\n",
    "plt.title('Bill Amt 6 Outliers')\n",
    "plt.show()\n",
    "\n",
    "print('Skewness:', X_train_num['bill_amt_6'].skew())"
   ]
  },
  {
   "cell_type": "code",
   "execution_count": 41,
   "metadata": {},
   "outputs": [
    {
     "data": {
      "image/png": "[encoded data removed]",
      "text/plain": [
       "<Figure size 720x360 with 1 Axes>"
      ]
     },
     "metadata": {
      "needs_background": "light"
     },
     "output_type": "display_data"
    },
    {
     "name": "stdout",
     "output_type": "stream",
     "text": [
      "Skewness: 12.092124147008928\n"
     ]
    }
   ],
   "source": [
    "# Cek outliers 'pay_amt_1'\n",
    "plt.figure(figsize=(10,5))\n",
    "sns.boxplot(X_train_num.pay_amt_1)\n",
    "plt.title('Pay Amt 1 Outliers')\n",
    "plt.show()\n",
    "\n",
    "print('Skewness:', X_train_num['pay_amt_1'].skew())"
   ]
  },
  {
   "cell_type": "code",
   "execution_count": 42,
   "metadata": {},
   "outputs": [
    {
     "data": {
      "image/png": "[encoded data removed]",
      "text/plain": [
       "<Figure size 720x360 with 1 Axes>"
      ]
     },
     "metadata": {
      "needs_background": "light"
     },
     "output_type": "display_data"
    },
    {
     "name": "stdout",
     "output_type": "stream",
     "text": [
      "Skewness: 31.621811310584647\n"
     ]
    }
   ],
   "source": [
    "# Cek outliers 'pay_amt_2'\n",
    "plt.figure(figsize=(10,5))\n",
    "sns.boxplot(X_train_num.pay_amt_2)\n",
    "plt.title('Pay Amt 2 Outliers')\n",
    "plt.show()\n",
    "\n",
    "print('Skewness:', X_train_num['pay_amt_2'].skew())"
   ]
  },
  {
   "cell_type": "code",
   "execution_count": 43,
   "metadata": {},
   "outputs": [
    {
     "data": {
      "image/png": "[encoded data removed]",
      "text/plain": [
       "<Figure size 720x360 with 1 Axes>"
      ]
     },
     "metadata": {
      "needs_background": "light"
     },
     "output_type": "display_data"
    },
    {
     "name": "stdout",
     "output_type": "stream",
     "text": [
      "Skewness: 8.03744560085777\n"
     ]
    }
   ],
   "source": [
    "# Cek outliers 'pay_amt_3'\n",
    "plt.figure(figsize=(10,5))\n",
    "sns.boxplot(X_train_num.pay_amt_3)\n",
    "plt.title('Pay Amt 3 Outliers')\n",
    "plt.show()\n",
    "\n",
    "print('Skewness:', X_train_num['pay_amt_3'].skew())"
   ]
  },
  {
   "cell_type": "code",
   "execution_count": 44,
   "metadata": {},
   "outputs": [
    {
     "data": {
      "image/png": "[encoded data removed]",
      "text/plain": [
       "<Figure size 720x360 with 1 Axes>"
      ]
     },
     "metadata": {
      "needs_background": "light"
     },
     "output_type": "display_data"
    },
    {
     "name": "stdout",
     "output_type": "stream",
     "text": [
      "Skewness: 8.466946464009737\n"
     ]
    }
   ],
   "source": [
    "# Cek outliers 'pay_amt_4'\n",
    "plt.figure(figsize=(10,5))\n",
    "sns.boxplot(X_train_num.pay_amt_4)\n",
    "plt.title('Pay Amt 4 Outliers')\n",
    "plt.show()\n",
    "\n",
    "print('Skewness:', X_train_num['pay_amt_4'].skew())"
   ]
  },
  {
   "cell_type": "code",
   "execution_count": 45,
   "metadata": {},
   "outputs": [
    {
     "data": {
      "image/png": "[encoded data removed]",
      "text/plain": [
       "<Figure size 720x360 with 1 Axes>"
      ]
     },
     "metadata": {
      "needs_background": "light"
     },
     "output_type": "display_data"
    },
    {
     "name": "stdout",
     "output_type": "stream",
     "text": [
      "Skewness: 12.752092959348472\n"
     ]
    }
   ],
   "source": [
    "# Cek outliers 'pay_amt_5'\n",
    "plt.figure(figsize=(10,5))\n",
    "sns.boxplot(X_train_num.pay_amt_5)\n",
    "plt.title('Pay Amt 5 Outliers')\n",
    "plt.show()\n",
    "\n",
    "print('Skewness:', X_train_num['pay_amt_5'].skew())"
   ]
  },
  {
   "cell_type": "code",
   "execution_count": 46,
   "metadata": {},
   "outputs": [
    {
     "data": {
      "image/png": "[encoded data removed]",
      "text/plain": [
       "<Figure size 720x360 with 1 Axes>"
      ]
     },
     "metadata": {
      "needs_background": "light"
     },
     "output_type": "display_data"
    },
    {
     "name": "stdout",
     "output_type": "stream",
     "text": [
      "Skewness: 10.349883720284078\n"
     ]
    }
   ],
   "source": [
    "# Cek outliers 'pay_amt_6'\n",
    "plt.figure(figsize=(10,5))\n",
    "sns.boxplot(X_train_num.pay_amt_6)\n",
    "plt.title('Pay Amt 6 Outliers')\n",
    "plt.show()\n",
    "\n",
    "print('Skewness:', X_train_num['pay_amt_6'].skew())"
   ]
  },
  {
   "cell_type": "markdown",
   "metadata": {},
   "source": [
    "Bila kita mengacu pada boxplot-boxplot diatas, maka terdapat banyak sekali outliers. Namun, untuk project kali ini, saya memutuskan untuk memproses outliers. Dengan kata lain, outliers disini saya anggap outliers yang bersifat natural. Berhubung ini merupakan data penggunaan kartu kredit, tentunya beheviour setiap orang dalam menggunakan kartu kredit akan berbeda-beda. \n",
    "\n",
    "Misalnya, ada orang yang akan selalu tepat membayar tagihan, ada orang yang sering terlambat membayar tagihan, ada orang yang tunggakannya sudah berbulan-bulan, dst. Selain itu limit dari kartu kredit juga tentunya akan berbeda-beda, ada orang yang memegang kartu dengan limit tinggi, menengah, atau rendah. Sehingga saya rasa tidak pas jika kita melakukan trimming atau modifikasi outliers. Karena bila proses tersebut dilakukan, tentunya akan berpengaruh pada prediksi yang akan dikeluarkan oleh model."
   ]
  },
  {
   "cell_type": "markdown",
   "metadata": {},
   "source": [
    "# Feature Scaling"
   ]
  },
  {
   "cell_type": "code",
   "execution_count": 47,
   "metadata": {},
   "outputs": [
    {
     "data": {
      "text/plain": [
       "array([[0.13924051, 0.03272599, 0.19066566, ..., 0.02474317, 0.01288424,\n",
       "        0.00991326],\n",
       "       [0.18987342, 0.01846004, 0.11899278, ..., 0.00740316, 0.00385496,\n",
       "        0.00370756],\n",
       "       [0.11392405, 0.11807549, 0.22633316, ..., 0.00786338, 0.0051537 ,\n",
       "        0.00373234],\n",
       "       ...,\n",
       "       [0.01265823, 0.02539634, 0.12564563, ..., 0.        , 0.00196356,\n",
       "        0.        ],\n",
       "       [0.43037975, 0.01846004, 0.1164137 , ..., 0.        , 0.        ,\n",
       "        0.        ],\n",
       "       [0.21518987, 0.020059  , 0.11657231, ..., 0.00870959, 0.00212848,\n",
       "        0.00204709]])"
      ]
     },
     "execution_count": 47,
     "metadata": {},
     "output_type": "execute_result"
    }
   ],
   "source": [
    "# Normalisasi menggunakan MinMaxScaler karena datasetnya bersifat skewed\n",
    "scaler = MinMaxScaler()\n",
    "\n",
    "# Fit hanya untuk train set\n",
    "scaler.fit(X_train_num)\n",
    "\n",
    "# Transfrom train dan test set\n",
    "X_train_num_scaled = scaler.transform(X_train_num)\n",
    "X_test_num_scaled = scaler.transform(X_test_num)\n",
    "X_train_num_scaled"
   ]
  },
  {
   "cell_type": "markdown",
   "metadata": {},
   "source": [
    "# Feature Encoding\n",
    "\n",
    "Dalam project ini, tidak perlu dilakukan proses normalisasi terhadap kolom kategorikal, karena dataset yang diperoleh dari Google Cloud Platform sudah bersifat encoded. Sehingga dapat langsung digunakan."
   ]
  },
  {
   "cell_type": "code",
   "execution_count": 48,
   "metadata": {},
   "outputs": [
    {
     "data": {
      "text/html": [
       "<div>\n",
       "<style scoped>\n",
       "    .dataframe tbody tr th:only-of-type {\n",
       "        vertical-align: middle;\n",
       "    }\n",
       "\n",
       "    .dataframe tbody tr th {\n",
       "        vertical-align: top;\n",
       "    }\n",
       "\n",
       "    .dataframe thead th {\n",
       "        text-align: right;\n",
       "    }\n",
       "</style>\n",
       "<table border=\"1\" class=\"dataframe\">\n",
       "  <thead>\n",
       "    <tr style=\"text-align: right;\">\n",
       "      <th></th>\n",
       "      <th>pay_0</th>\n",
       "      <th>pay_2</th>\n",
       "      <th>pay_3</th>\n",
       "      <th>pay_4</th>\n",
       "      <th>pay_5</th>\n",
       "      <th>pay_6</th>\n",
       "    </tr>\n",
       "  </thead>\n",
       "  <tbody>\n",
       "    <tr>\n",
       "      <th>405</th>\n",
       "      <td>0</td>\n",
       "      <td>0</td>\n",
       "      <td>0</td>\n",
       "      <td>0</td>\n",
       "      <td>0</td>\n",
       "      <td>0</td>\n",
       "    </tr>\n",
       "    <tr>\n",
       "      <th>2689</th>\n",
       "      <td>-1</td>\n",
       "      <td>-1</td>\n",
       "      <td>-1</td>\n",
       "      <td>0</td>\n",
       "      <td>-1</td>\n",
       "      <td>-1</td>\n",
       "    </tr>\n",
       "    <tr>\n",
       "      <th>1517</th>\n",
       "      <td>0</td>\n",
       "      <td>0</td>\n",
       "      <td>-1</td>\n",
       "      <td>-1</td>\n",
       "      <td>-1</td>\n",
       "      <td>-2</td>\n",
       "    </tr>\n",
       "    <tr>\n",
       "      <th>39</th>\n",
       "      <td>0</td>\n",
       "      <td>0</td>\n",
       "      <td>0</td>\n",
       "      <td>0</td>\n",
       "      <td>0</td>\n",
       "      <td>0</td>\n",
       "    </tr>\n",
       "    <tr>\n",
       "      <th>2096</th>\n",
       "      <td>-2</td>\n",
       "      <td>-2</td>\n",
       "      <td>-2</td>\n",
       "      <td>-2</td>\n",
       "      <td>-2</td>\n",
       "      <td>-2</td>\n",
       "    </tr>\n",
       "    <tr>\n",
       "      <th>...</th>\n",
       "      <td>...</td>\n",
       "      <td>...</td>\n",
       "      <td>...</td>\n",
       "      <td>...</td>\n",
       "      <td>...</td>\n",
       "      <td>...</td>\n",
       "    </tr>\n",
       "    <tr>\n",
       "      <th>506</th>\n",
       "      <td>0</td>\n",
       "      <td>0</td>\n",
       "      <td>0</td>\n",
       "      <td>0</td>\n",
       "      <td>0</td>\n",
       "      <td>0</td>\n",
       "    </tr>\n",
       "    <tr>\n",
       "      <th>1944</th>\n",
       "      <td>-1</td>\n",
       "      <td>2</td>\n",
       "      <td>2</td>\n",
       "      <td>-1</td>\n",
       "      <td>-1</td>\n",
       "      <td>2</td>\n",
       "    </tr>\n",
       "    <tr>\n",
       "      <th>938</th>\n",
       "      <td>0</td>\n",
       "      <td>0</td>\n",
       "      <td>0</td>\n",
       "      <td>0</td>\n",
       "      <td>0</td>\n",
       "      <td>0</td>\n",
       "    </tr>\n",
       "    <tr>\n",
       "      <th>2934</th>\n",
       "      <td>-1</td>\n",
       "      <td>-1</td>\n",
       "      <td>-1</td>\n",
       "      <td>-2</td>\n",
       "      <td>-2</td>\n",
       "      <td>-1</td>\n",
       "    </tr>\n",
       "    <tr>\n",
       "      <th>2434</th>\n",
       "      <td>-1</td>\n",
       "      <td>-1</td>\n",
       "      <td>0</td>\n",
       "      <td>0</td>\n",
       "      <td>0</td>\n",
       "      <td>0</td>\n",
       "    </tr>\n",
       "  </tbody>\n",
       "</table>\n",
       "<p>591 rows × 6 columns</p>\n",
       "</div>"
      ],
      "text/plain": [
       "      pay_0  pay_2  pay_3  pay_4  pay_5  pay_6\n",
       "405       0      0      0      0      0      0\n",
       "2689     -1     -1     -1      0     -1     -1\n",
       "1517      0      0     -1     -1     -1     -2\n",
       "39        0      0      0      0      0      0\n",
       "2096     -2     -2     -2     -2     -2     -2\n",
       "...     ...    ...    ...    ...    ...    ...\n",
       "506       0      0      0      0      0      0\n",
       "1944     -1      2      2     -1     -1      2\n",
       "938       0      0      0      0      0      0\n",
       "2934     -1     -1     -1     -2     -2     -1\n",
       "2434     -1     -1      0      0      0      0\n",
       "\n",
       "[591 rows x 6 columns]"
      ]
     },
     "execution_count": 48,
     "metadata": {},
     "output_type": "execute_result"
    }
   ],
   "source": [
    "X_test_cat"
   ]
  },
  {
   "cell_type": "code",
   "execution_count": 49,
   "metadata": {},
   "outputs": [
    {
     "data": {
      "text/html": [
       "<div>\n",
       "<style scoped>\n",
       "    .dataframe tbody tr th:only-of-type {\n",
       "        vertical-align: middle;\n",
       "    }\n",
       "\n",
       "    .dataframe tbody tr th {\n",
       "        vertical-align: top;\n",
       "    }\n",
       "\n",
       "    .dataframe thead th {\n",
       "        text-align: right;\n",
       "    }\n",
       "</style>\n",
       "<table border=\"1\" class=\"dataframe\">\n",
       "  <thead>\n",
       "    <tr style=\"text-align: right;\">\n",
       "      <th></th>\n",
       "      <th>pay_0</th>\n",
       "      <th>pay_2</th>\n",
       "      <th>pay_3</th>\n",
       "      <th>pay_4</th>\n",
       "      <th>pay_5</th>\n",
       "      <th>pay_6</th>\n",
       "    </tr>\n",
       "  </thead>\n",
       "  <tbody>\n",
       "    <tr>\n",
       "      <th>810</th>\n",
       "      <td>-1</td>\n",
       "      <td>0</td>\n",
       "      <td>0</td>\n",
       "      <td>0</td>\n",
       "      <td>0</td>\n",
       "      <td>0</td>\n",
       "    </tr>\n",
       "    <tr>\n",
       "      <th>2575</th>\n",
       "      <td>1</td>\n",
       "      <td>-1</td>\n",
       "      <td>-1</td>\n",
       "      <td>-1</td>\n",
       "      <td>-1</td>\n",
       "      <td>-1</td>\n",
       "    </tr>\n",
       "    <tr>\n",
       "      <th>366</th>\n",
       "      <td>0</td>\n",
       "      <td>0</td>\n",
       "      <td>0</td>\n",
       "      <td>0</td>\n",
       "      <td>0</td>\n",
       "      <td>0</td>\n",
       "    </tr>\n",
       "    <tr>\n",
       "      <th>2622</th>\n",
       "      <td>-1</td>\n",
       "      <td>-1</td>\n",
       "      <td>-1</td>\n",
       "      <td>-1</td>\n",
       "      <td>-1</td>\n",
       "      <td>-1</td>\n",
       "    </tr>\n",
       "    <tr>\n",
       "      <th>2891</th>\n",
       "      <td>1</td>\n",
       "      <td>-1</td>\n",
       "      <td>-1</td>\n",
       "      <td>-2</td>\n",
       "      <td>-2</td>\n",
       "      <td>-2</td>\n",
       "    </tr>\n",
       "    <tr>\n",
       "      <th>...</th>\n",
       "      <td>...</td>\n",
       "      <td>...</td>\n",
       "      <td>...</td>\n",
       "      <td>...</td>\n",
       "      <td>...</td>\n",
       "      <td>...</td>\n",
       "    </tr>\n",
       "    <tr>\n",
       "      <th>1337</th>\n",
       "      <td>0</td>\n",
       "      <td>0</td>\n",
       "      <td>0</td>\n",
       "      <td>2</td>\n",
       "      <td>2</td>\n",
       "      <td>2</td>\n",
       "    </tr>\n",
       "    <tr>\n",
       "      <th>406</th>\n",
       "      <td>0</td>\n",
       "      <td>0</td>\n",
       "      <td>0</td>\n",
       "      <td>0</td>\n",
       "      <td>0</td>\n",
       "      <td>0</td>\n",
       "    </tr>\n",
       "    <tr>\n",
       "      <th>1414</th>\n",
       "      <td>0</td>\n",
       "      <td>0</td>\n",
       "      <td>0</td>\n",
       "      <td>0</td>\n",
       "      <td>2</td>\n",
       "      <td>2</td>\n",
       "    </tr>\n",
       "    <tr>\n",
       "      <th>2191</th>\n",
       "      <td>1</td>\n",
       "      <td>-2</td>\n",
       "      <td>-2</td>\n",
       "      <td>-2</td>\n",
       "      <td>-2</td>\n",
       "      <td>-2</td>\n",
       "    </tr>\n",
       "    <tr>\n",
       "      <th>2671</th>\n",
       "      <td>-1</td>\n",
       "      <td>-1</td>\n",
       "      <td>-1</td>\n",
       "      <td>-1</td>\n",
       "      <td>-1</td>\n",
       "      <td>-1</td>\n",
       "    </tr>\n",
       "  </tbody>\n",
       "</table>\n",
       "<p>2364 rows × 6 columns</p>\n",
       "</div>"
      ],
      "text/plain": [
       "      pay_0  pay_2  pay_3  pay_4  pay_5  pay_6\n",
       "810      -1      0      0      0      0      0\n",
       "2575      1     -1     -1     -1     -1     -1\n",
       "366       0      0      0      0      0      0\n",
       "2622     -1     -1     -1     -1     -1     -1\n",
       "2891      1     -1     -1     -2     -2     -2\n",
       "...     ...    ...    ...    ...    ...    ...\n",
       "1337      0      0      0      2      2      2\n",
       "406       0      0      0      0      0      0\n",
       "1414      0      0      0      0      2      2\n",
       "2191      1     -2     -2     -2     -2     -2\n",
       "2671     -1     -1     -1     -1     -1     -1\n",
       "\n",
       "[2364 rows x 6 columns]"
      ]
     },
     "execution_count": 49,
     "metadata": {},
     "output_type": "execute_result"
    }
   ],
   "source": [
    "X_train_cat"
   ]
  },
  {
   "cell_type": "markdown",
   "metadata": {},
   "source": [
    "# Concat kolom setelah proses scaling dan encoding"
   ]
  },
  {
   "cell_type": "code",
   "execution_count": 50,
   "metadata": {},
   "outputs": [
    {
     "data": {
      "text/plain": [
       "array([[ 0.13924051,  0.03272599,  0.19066566, ...,  0.        ,\n",
       "         0.        ,  0.        ],\n",
       "       [ 0.18987342,  0.01846004,  0.11899278, ..., -1.        ,\n",
       "        -1.        , -1.        ],\n",
       "       [ 0.11392405,  0.11807549,  0.22633316, ...,  0.        ,\n",
       "         0.        ,  0.        ],\n",
       "       ...,\n",
       "       [ 0.01265823,  0.02539634,  0.12564563, ...,  0.        ,\n",
       "         2.        ,  2.        ],\n",
       "       [ 0.43037975,  0.01846004,  0.1164137 , ..., -2.        ,\n",
       "        -2.        , -2.        ],\n",
       "       [ 0.21518987,  0.020059  ,  0.11657231, ..., -1.        ,\n",
       "        -1.        , -1.        ]])"
      ]
     },
     "execution_count": 50,
     "metadata": {},
     "output_type": "execute_result"
    }
   ],
   "source": [
    "X_train_final = np.concatenate([X_train_num_scaled, X_train_cat], axis =1)\n",
    "X_test_final = np.concatenate([X_test_num_scaled, X_test_cat], axis = 1)\n",
    "X_train_final"
   ]
  },
  {
   "cell_type": "markdown",
   "metadata": {},
   "source": [
    "# Model definition\n",
    "\n",
    "Dalam project ini, beberapa model yang merupakan algoritma supervised learning akan dibuat, yakni:\n",
    "\n",
    "- Logistic Regression\n",
    "- SVC\n",
    "- Decision Tree\n",
    "- Random Forest\n",
    "- KNN\n",
    "- Naive Bayes\n",
    "- AdaBoost\n",
    "\n",
    "Sedangkan metrics yang akan digunakan untuk mengevaluasi performa model adalah:\n",
    "\n",
    "- Classification Report\n",
    "- Accuracy Score\n",
    "- ROC-AUC Score"
   ]
  },
  {
   "cell_type": "code",
   "execution_count": 51,
   "metadata": {},
   "outputs": [],
   "source": [
    "# Membuat model\n",
    "model_Logreg = LogisticRegression()\n",
    "model_SVC = SVC()\n",
    "model_DT = DecisionTreeClassifier()\n",
    "model_RF = RandomForestClassifier()\n",
    "model_KNN = KNeighborsClassifier()\n",
    "model_NB = BernoulliNB()\n",
    "model_AB = AdaBoostClassifier()"
   ]
  },
  {
   "cell_type": "markdown",
   "metadata": {},
   "source": [
    "# Model training"
   ]
  },
  {
   "cell_type": "code",
   "execution_count": 52,
   "metadata": {},
   "outputs": [
    {
     "data": {
      "text/html": [
       "<style>#sk-container-id-1 {color: black;background-color: white;}#sk-container-id-1 pre{padding: 0;}#sk-container-id-1 div.sk-toggleable {background-color: white;}#sk-container-id-1 label.sk-toggleable__label {cursor: pointer;display: block;width: 100%;margin-bottom: 0;padding: 0.3em;box-sizing: border-box;text-align: center;}#sk-container-id-1 label.sk-toggleable__label-arrow:before {content: \"▸\";float: left;margin-right: 0.25em;color: #696969;}#sk-container-id-1 label.sk-toggleable__label-arrow:hover:before {color: black;}#sk-container-id-1 div.sk-estimator:hover label.sk-toggleable__label-arrow:before {color: black;}#sk-container-id-1 div.sk-toggleable__content {max-height: 0;max-width: 0;overflow: hidden;text-align: left;background-color: #f0f8ff;}#sk-container-id-1 div.sk-toggleable__content pre {margin: 0.2em;color: black;border-radius: 0.25em;background-color: #f0f8ff;}#sk-container-id-1 input.sk-toggleable__control:checked~div.sk-toggleable__content {max-height: 200px;max-width: 100%;overflow: auto;}#sk-container-id-1 input.sk-toggleable__control:checked~label.sk-toggleable__label-arrow:before {content: \"▾\";}#sk-container-id-1 div.sk-estimator input.sk-toggleable__control:checked~label.sk-toggleable__label {background-color: #d4ebff;}#sk-container-id-1 div.sk-label input.sk-toggleable__control:checked~label.sk-toggleable__label {background-color: #d4ebff;}#sk-container-id-1 input.sk-hidden--visually {border: 0;clip: rect(1px 1px 1px 1px);clip: rect(1px, 1px, 1px, 1px);height: 1px;margin: -1px;overflow: hidden;padding: 0;position: absolute;width: 1px;}#sk-container-id-1 div.sk-estimator {font-family: monospace;background-color: #f0f8ff;border: 1px dotted black;border-radius: 0.25em;box-sizing: border-box;margin-bottom: 0.5em;}#sk-container-id-1 div.sk-estimator:hover {background-color: #d4ebff;}#sk-container-id-1 div.sk-parallel-item::after {content: \"\";width: 100%;border-bottom: 1px solid gray;flex-grow: 1;}#sk-container-id-1 div.sk-label:hover label.sk-toggleable__label {background-color: #d4ebff;}#sk-container-id-1 div.sk-serial::before {content: \"\";position: absolute;border-left: 1px solid gray;box-sizing: border-box;top: 0;bottom: 0;left: 50%;z-index: 0;}#sk-container-id-1 div.sk-serial {display: flex;flex-direction: column;align-items: center;background-color: white;padding-right: 0.2em;padding-left: 0.2em;position: relative;}#sk-container-id-1 div.sk-item {position: relative;z-index: 1;}#sk-container-id-1 div.sk-parallel {display: flex;align-items: stretch;justify-content: center;background-color: white;position: relative;}#sk-container-id-1 div.sk-item::before, #sk-container-id-1 div.sk-parallel-item::before {content: \"\";position: absolute;border-left: 1px solid gray;box-sizing: border-box;top: 0;bottom: 0;left: 50%;z-index: -1;}#sk-container-id-1 div.sk-parallel-item {display: flex;flex-direction: column;z-index: 1;position: relative;background-color: white;}#sk-container-id-1 div.sk-parallel-item:first-child::after {align-self: flex-end;width: 50%;}#sk-container-id-1 div.sk-parallel-item:last-child::after {align-self: flex-start;width: 50%;}#sk-container-id-1 div.sk-parallel-item:only-child::after {width: 0;}#sk-container-id-1 div.sk-dashed-wrapped {border: 1px dashed gray;margin: 0 0.4em 0.5em 0.4em;box-sizing: border-box;padding-bottom: 0.4em;background-color: white;}#sk-container-id-1 div.sk-label label {font-family: monospace;font-weight: bold;display: inline-block;line-height: 1.2em;}#sk-container-id-1 div.sk-label-container {text-align: center;}#sk-container-id-1 div.sk-container {/* jupyter's `normalize.less` sets `[hidden] { display: none; }` but bootstrap.min.css set `[hidden] { display: none !important; }` so we also need the `!important` here to be able to override the default hidden behavior on the sphinx rendered scikit-learn.org. See: https://github.com/scikit-learn/scikit-learn/issues/21755 */display: inline-block !important;position: relative;}#sk-container-id-1 div.sk-text-repr-fallback {display: none;}</style><div id=\"sk-container-id-1\" class=\"sk-top-container\"><div class=\"sk-text-repr-fallback\"><pre>AdaBoostClassifier()</pre><b>In a Jupyter environment, please rerun this cell to show the HTML representation or trust the notebook. <br />On GitHub, the HTML representation is unable to render, please try loading this page with nbviewer.org.</b></div><div class=\"sk-container\" hidden><div class=\"sk-item\"><div class=\"sk-estimator sk-toggleable\"><input class=\"sk-toggleable__control sk-hidden--visually\" id=\"sk-estimator-id-1\" type=\"checkbox\" checked><label for=\"sk-estimator-id-1\" class=\"sk-toggleable__label sk-toggleable__label-arrow\">AdaBoostClassifier</label><div class=\"sk-toggleable__content\"><pre>AdaBoostClassifier()</pre></div></div></div></div></div>"
      ],
      "text/plain": [
       "AdaBoostClassifier()"
      ]
     },
     "execution_count": 52,
     "metadata": {},
     "output_type": "execute_result"
    }
   ],
   "source": [
    "# Fit hanya untuk train set\n",
    "model_Logreg.fit(X_train_final, y_train)\n",
    "model_SVC.fit(X_train_final, y_train)\n",
    "model_DT.fit(X_train_final, y_train)\n",
    "model_RF.fit(X_train_final, y_train)\n",
    "model_KNN.fit(X_train_final, y_train)\n",
    "model_NB.fit(X_train_final, y_train)\n",
    "model_AB.fit(X_train_final, y_train)"
   ]
  },
  {
   "cell_type": "markdown",
   "metadata": {},
   "source": [
    "# Model Evaluation"
   ]
  },
  {
   "cell_type": "markdown",
   "metadata": {},
   "source": [
    "# Predict"
   ]
  },
  {
   "cell_type": "code",
   "execution_count": 53,
   "metadata": {},
   "outputs": [],
   "source": [
    "# Predict train dan test set model Logreg\n",
    "y_pred_train_I = model_Logreg.predict(X_train_final)\n",
    "y_pred_test_I = model_Logreg.predict(X_test_final)\n",
    "\n",
    "# Predict train dan test set model SVC\n",
    "y_pred_train_II = model_SVC.predict(X_train_final)\n",
    "y_pred_test_II = model_SVC.predict(X_test_final)\n",
    "\n",
    "# Predict train dan test set model DT\n",
    "y_pred_train_III = model_DT.predict(X_train_final)\n",
    "y_pred_test_III = model_DT.predict(X_test_final)\n",
    "\n",
    "# Predict train dan test set model RF\n",
    "y_pred_train_IV = model_RF.predict(X_train_final)\n",
    "y_pred_test_IV = model_RF.predict(X_test_final)\n",
    "\n",
    "# Predict train dan test set model NB\n",
    "y_pred_train_V = model_NB.predict(X_train_final)\n",
    "y_pred_test_V = model_NB.predict(X_test_final)\n",
    "\n",
    "# Predict train dan test set model KNN\n",
    "y_pred_train_VI = model_KNN.predict(X_train_final)\n",
    "y_pred_test_VI = model_KNN.predict(X_test_final)\n",
    "\n",
    "# Predict train dan test set model AB\n",
    "y_pred_train_VII = model_AB.predict(X_train_final)\n",
    "y_pred_test_VII = model_AB.predict(X_test_final)"
   ]
  },
  {
   "cell_type": "markdown",
   "metadata": {},
   "source": [
    "# Classification report"
   ]
  },
  {
   "cell_type": "code",
   "execution_count": 54,
   "metadata": {},
   "outputs": [
    {
     "name": "stdout",
     "output_type": "stream",
     "text": [
      "Classification Report Logreg\n",
      "              precision    recall  f1-score   support\n",
      "\n",
      "           0       0.84      0.97      0.90      1855\n",
      "           1       0.74      0.33      0.45       509\n",
      "\n",
      "    accuracy                           0.83      2364\n",
      "   macro avg       0.79      0.65      0.68      2364\n",
      "weighted avg       0.82      0.83      0.80      2364\n",
      "\n",
      "              precision    recall  f1-score   support\n",
      "\n",
      "           0       0.84      0.97      0.90       469\n",
      "           1       0.71      0.28      0.40       122\n",
      "\n",
      "    accuracy                           0.83       591\n",
      "   macro avg       0.77      0.62      0.65       591\n",
      "weighted avg       0.81      0.83      0.80       591\n",
      "\n"
     ]
    }
   ],
   "source": [
    "# Model evaluation classification report Logreg\n",
    "print('Classification Report Logreg')\n",
    "print(classification_report(y_train, y_pred_train_I))\n",
    "print(classification_report(y_test, y_pred_test_I))"
   ]
  },
  {
   "cell_type": "code",
   "execution_count": 55,
   "metadata": {},
   "outputs": [
    {
     "name": "stdout",
     "output_type": "stream",
     "text": [
      "Classification Report SVC\n",
      "              precision    recall  f1-score   support\n",
      "\n",
      "           0       0.86      0.96      0.91      1855\n",
      "           1       0.75      0.45      0.56       509\n",
      "\n",
      "    accuracy                           0.85      2364\n",
      "   macro avg       0.81      0.71      0.74      2364\n",
      "weighted avg       0.84      0.85      0.83      2364\n",
      "\n",
      "              precision    recall  f1-score   support\n",
      "\n",
      "           0       0.85      0.95      0.90       469\n",
      "           1       0.66      0.38      0.48       122\n",
      "\n",
      "    accuracy                           0.83       591\n",
      "   macro avg       0.76      0.66      0.69       591\n",
      "weighted avg       0.81      0.83      0.81       591\n",
      "\n"
     ]
    }
   ],
   "source": [
    "# Model evaluation classification report SVC\n",
    "print('Classification Report SVC')\n",
    "print(classification_report(y_train, y_pred_train_II))\n",
    "print(classification_report(y_test, y_pred_test_II))"
   ]
  },
  {
   "cell_type": "code",
   "execution_count": 56,
   "metadata": {},
   "outputs": [
    {
     "name": "stdout",
     "output_type": "stream",
     "text": [
      "Classification Report DT\n",
      "              precision    recall  f1-score   support\n",
      "\n",
      "           0       1.00      1.00      1.00      1855\n",
      "           1       0.99      0.99      0.99       509\n",
      "\n",
      "    accuracy                           0.99      2364\n",
      "   macro avg       0.99      0.99      0.99      2364\n",
      "weighted avg       0.99      0.99      0.99      2364\n",
      "\n",
      "              precision    recall  f1-score   support\n",
      "\n",
      "           0       0.85      0.82      0.84       469\n",
      "           1       0.40      0.46      0.43       122\n",
      "\n",
      "    accuracy                           0.74       591\n",
      "   macro avg       0.63      0.64      0.63       591\n",
      "weighted avg       0.76      0.74      0.75       591\n",
      "\n"
     ]
    }
   ],
   "source": [
    "# Model evaluation classification report DT\n",
    "print('Classification Report DT')\n",
    "print(classification_report(y_train, y_pred_train_III))\n",
    "print(classification_report(y_test, y_pred_test_III))"
   ]
  },
  {
   "cell_type": "code",
   "execution_count": 57,
   "metadata": {},
   "outputs": [
    {
     "name": "stdout",
     "output_type": "stream",
     "text": [
      "Classification Report RF\n",
      "              precision    recall  f1-score   support\n",
      "\n",
      "           0       1.00      1.00      1.00      1855\n",
      "           1       0.99      0.99      0.99       509\n",
      "\n",
      "    accuracy                           0.99      2364\n",
      "   macro avg       0.99      0.99      0.99      2364\n",
      "weighted avg       0.99      0.99      0.99      2364\n",
      "\n",
      "              precision    recall  f1-score   support\n",
      "\n",
      "           0       0.86      0.92      0.89       469\n",
      "           1       0.58      0.40      0.47       122\n",
      "\n",
      "    accuracy                           0.82       591\n",
      "   macro avg       0.72      0.66      0.68       591\n",
      "weighted avg       0.80      0.82      0.80       591\n",
      "\n"
     ]
    }
   ],
   "source": [
    "# Model evaluation classification report RF\n",
    "print('Classification Report RF')\n",
    "print(classification_report(y_train, y_pred_train_IV))\n",
    "print(classification_report(y_test, y_pred_test_IV))"
   ]
  },
  {
   "cell_type": "code",
   "execution_count": 58,
   "metadata": {},
   "outputs": [
    {
     "name": "stdout",
     "output_type": "stream",
     "text": [
      "Classification Report NB\n",
      "              precision    recall  f1-score   support\n",
      "\n",
      "           0       0.87      0.87      0.87      1855\n",
      "           1       0.52      0.51      0.51       509\n",
      "\n",
      "    accuracy                           0.79      2364\n",
      "   macro avg       0.69      0.69      0.69      2364\n",
      "weighted avg       0.79      0.79      0.79      2364\n",
      "\n",
      "              precision    recall  f1-score   support\n",
      "\n",
      "           0       0.86      0.88      0.87       469\n",
      "           1       0.50      0.44      0.47       122\n",
      "\n",
      "    accuracy                           0.79       591\n",
      "   macro avg       0.68      0.66      0.67       591\n",
      "weighted avg       0.78      0.79      0.79       591\n",
      "\n"
     ]
    }
   ],
   "source": [
    "# Model evaluation classification report NB\n",
    "print('Classification Report NB')\n",
    "print(classification_report(y_train, y_pred_train_V))\n",
    "print(classification_report(y_test, y_pred_test_V))"
   ]
  },
  {
   "cell_type": "code",
   "execution_count": 59,
   "metadata": {},
   "outputs": [
    {
     "name": "stdout",
     "output_type": "stream",
     "text": [
      "Classification Report KNN\n",
      "              precision    recall  f1-score   support\n",
      "\n",
      "           0       0.88      0.95      0.91      1855\n",
      "           1       0.73      0.53      0.61       509\n",
      "\n",
      "    accuracy                           0.86      2364\n",
      "   macro avg       0.80      0.74      0.76      2364\n",
      "weighted avg       0.85      0.86      0.85      2364\n",
      "\n",
      "              precision    recall  f1-score   support\n",
      "\n",
      "           0       0.84      0.89      0.87       469\n",
      "           1       0.47      0.36      0.41       122\n",
      "\n",
      "    accuracy                           0.78       591\n",
      "   macro avg       0.66      0.63      0.64       591\n",
      "weighted avg       0.77      0.78      0.77       591\n",
      "\n"
     ]
    }
   ],
   "source": [
    "# Model evaluation classification report KNN\n",
    "print('Classification Report KNN')\n",
    "print(classification_report(y_train, y_pred_train_VI))\n",
    "print(classification_report(y_test, y_pred_test_VI))"
   ]
  },
  {
   "cell_type": "code",
   "execution_count": 60,
   "metadata": {},
   "outputs": [
    {
     "name": "stdout",
     "output_type": "stream",
     "text": [
      "Classification Report AB\n",
      "              precision    recall  f1-score   support\n",
      "\n",
      "           0       0.86      0.96      0.91      1855\n",
      "           1       0.74      0.41      0.53       509\n",
      "\n",
      "    accuracy                           0.84      2364\n",
      "   macro avg       0.80      0.69      0.72      2364\n",
      "weighted avg       0.83      0.84      0.82      2364\n",
      "\n",
      "              precision    recall  f1-score   support\n",
      "\n",
      "           0       0.86      0.95      0.90       469\n",
      "           1       0.65      0.39      0.48       122\n",
      "\n",
      "    accuracy                           0.83       591\n",
      "   macro avg       0.75      0.67      0.69       591\n",
      "weighted avg       0.81      0.83      0.81       591\n",
      "\n"
     ]
    }
   ],
   "source": [
    "# Model evaluation classification report AB\n",
    "print('Classification Report AB')\n",
    "print(classification_report(y_train, y_pred_train_VII))\n",
    "print(classification_report(y_test, y_pred_test_VII))"
   ]
  },
  {
   "cell_type": "markdown",
   "metadata": {},
   "source": [
    "Untuk project ini, model yang berperforma baik menurut saya adalah model yang good fit dan tingkat recall label 0 tinggi (berhasil memprediksi nasabah mana yang tidak mengalami gagal bayar).\n",
    "\n",
    "- Berdasarkan classiification report, model yang performanya baik adalah Logreg, SVC, Adaboost. Ketiga model ini merupakan good fit (dengan nilai berkisar 0.83-0.84) dan tingkat recall label 0 yang tinggi (dengan nilai berkisar 0.95-0.97).\n",
    "\n",
    "- Model yang performanya standard adalah Naive bayes. Model ini good fit namun nilainya hanya 0.79, dan tingkat recall label 0 hanya 0.88.\n",
    "\n",
    "- Sedangkan model yang performanya tidak baik adalah random forest, decision tree, dan KNN. Ketiga model mengalami overfitting yang cukup parah. Overfitting sebenarnya merupakan 'penyakit' yang sering dialami oleh model random forest dan decision tree. "
   ]
  },
  {
   "cell_type": "markdown",
   "metadata": {},
   "source": [
    "# Accuracy score"
   ]
  },
  {
   "cell_type": "code",
   "execution_count": 61,
   "metadata": {},
   "outputs": [
    {
     "name": "stdout",
     "output_type": "stream",
     "text": [
      "Accuracy Score Logreg\n",
      "Train set: 0.8307952622673435\n",
      "Test set: 0.8274111675126904\n"
     ]
    }
   ],
   "source": [
    "# Model evaluation accuracy score Logreg\n",
    "print('Accuracy Score Logreg')\n",
    "print('Train set:', accuracy_score(y_train, y_pred_train_I))\n",
    "print('Test set:', accuracy_score(y_test, y_pred_test_I))"
   ]
  },
  {
   "cell_type": "code",
   "execution_count": 62,
   "metadata": {},
   "outputs": [
    {
     "name": "stdout",
     "output_type": "stream",
     "text": [
      "Accuracy Score SVC\n",
      "Train set: 0.8494077834179357\n",
      "Test set: 0.8307952622673435\n"
     ]
    }
   ],
   "source": [
    "# Model evaluation accuracy score SVC\n",
    "print('Accuracy Score SVC')\n",
    "print('Train set:', accuracy_score(y_train, y_pred_train_II))\n",
    "print('Test set:', accuracy_score(y_test, y_pred_test_II))"
   ]
  },
  {
   "cell_type": "code",
   "execution_count": 63,
   "metadata": {},
   "outputs": [
    {
     "name": "stdout",
     "output_type": "stream",
     "text": [
      "Accuracy Score DT\n",
      "Train set: 0.9949238578680203\n",
      "Test set: 0.7445008460236887\n"
     ]
    }
   ],
   "source": [
    "# Model evaluation accuracy score DT\n",
    "print('Accuracy Score DT')\n",
    "print('Train set:', accuracy_score(y_train, y_pred_train_III))\n",
    "print('Test set:', accuracy_score(y_test, y_pred_test_III))"
   ]
  },
  {
   "cell_type": "code",
   "execution_count": 64,
   "metadata": {},
   "outputs": [
    {
     "name": "stdout",
     "output_type": "stream",
     "text": [
      "Accuracy Score RF\n",
      "Train set: 0.9949238578680203\n",
      "Test set: 0.8155668358714044\n"
     ]
    }
   ],
   "source": [
    "# Model evaluation accuracy score RF\n",
    "print('Accuracy Score RF')\n",
    "print('Train set:', accuracy_score(y_train, y_pred_train_IV))\n",
    "print('Test set:', accuracy_score(y_test, y_pred_test_IV))"
   ]
  },
  {
   "cell_type": "code",
   "execution_count": 65,
   "metadata": {},
   "outputs": [
    {
     "name": "stdout",
     "output_type": "stream",
     "text": [
      "Accuracy Score NB\n",
      "Train set: 0.7935702199661591\n",
      "Test set: 0.7918781725888325\n"
     ]
    }
   ],
   "source": [
    "# Model evaluation accuracy score NB\n",
    "print('Accuracy Score NB')\n",
    "print('Train set:', accuracy_score(y_train, y_pred_train_V))\n",
    "print('Test set:', accuracy_score(y_test, y_pred_test_V))"
   ]
  },
  {
   "cell_type": "code",
   "execution_count": 66,
   "metadata": {},
   "outputs": [
    {
     "name": "stdout",
     "output_type": "stream",
     "text": [
      "Accuracy Score KNN\n",
      "Train set: 0.8557529610829103\n",
      "Test set: 0.7834179357021996\n"
     ]
    }
   ],
   "source": [
    "# Model evaluation accuracy score KNN\n",
    "print('Accuracy Score KNN')\n",
    "print('Train set:', accuracy_score(y_train, y_pred_train_VI))\n",
    "print('Test set:', accuracy_score(y_test, y_pred_test_VI))"
   ]
  },
  {
   "cell_type": "code",
   "execution_count": 67,
   "metadata": {},
   "outputs": [
    {
     "name": "stdout",
     "output_type": "stream",
     "text": [
      "Accuracy Score AB\n",
      "Train set: 0.8426395939086294\n",
      "Test set: 0.8307952622673435\n"
     ]
    }
   ],
   "source": [
    "# Model evaluation accuracy score AB\n",
    "print('Accuracy Score AB')\n",
    "print('Train set:', accuracy_score(y_train, y_pred_train_VII))\n",
    "print('Test set:', accuracy_score(y_test, y_pred_test_VII))"
   ]
  },
  {
   "cell_type": "markdown",
   "metadata": {},
   "source": [
    "Hasil dari accuracy score mengkonfirmasi classification report. Dimana model yang performanya baik adalah Logreg, SVC, dan Adaboost. Untuk Naive Bayes performanya cukup baik, namun nilai accuracy scorenya masih dibawah ketiga model yang performanya baik. Sedangkan model yang performanya tidak baik adalah random forest, decision tree, dan KNN. Ketiga model mengalami overfitting yang cukup parah."
   ]
  },
  {
   "cell_type": "markdown",
   "metadata": {},
   "source": [
    "# ROC-AUC"
   ]
  },
  {
   "cell_type": "code",
   "execution_count": 68,
   "metadata": {},
   "outputs": [
    {
     "name": "stdout",
     "output_type": "stream",
     "text": [
      "ROC-AUC Logreg\n",
      "Train set: 0.6477009516042767\n",
      "Test set: 0.6244188891607536\n"
     ]
    }
   ],
   "source": [
    "# Model evaluation ROC-AUC Logreg\n",
    "print('ROC-AUC Logreg')\n",
    "print('Train set:', roc_auc_score(y_train, y_pred_train_I))\n",
    "print('Test set:', roc_auc_score(y_test, y_pred_test_I))"
   ]
  },
  {
   "cell_type": "code",
   "execution_count": 69,
   "metadata": {},
   "outputs": [
    {
     "name": "stdout",
     "output_type": "stream",
     "text": [
      "ROC-AUC SVC\n",
      "Train set: 0.7051784853764318\n",
      "Test set: 0.6629382362193715\n"
     ]
    }
   ],
   "source": [
    "# Model evaluation ROC-AUC SVC\n",
    "print('ROC-AUC SVC')\n",
    "print('Train set:', roc_auc_score(y_train, y_pred_train_II))\n",
    "print('Test set:', roc_auc_score(y_test, y_pred_test_II))"
   ]
  },
  {
   "cell_type": "code",
   "execution_count": 70,
   "metadata": {},
   "outputs": [
    {
     "name": "stdout",
     "output_type": "stream",
     "text": [
      "ROC-AUC DT\n",
      "Train set: 0.9917760632072823\n",
      "Test set: 0.6388898598343179\n"
     ]
    }
   ],
   "source": [
    "# Model evaluation ROC-AUC DT\n",
    "print('ROC-AUC DT')\n",
    "print('Train set:', roc_auc_score(y_train, y_pred_train_III))\n",
    "print('Test set:', roc_auc_score(y_test, y_pred_test_III))"
   ]
  },
  {
   "cell_type": "code",
   "execution_count": 71,
   "metadata": {},
   "outputs": [
    {
     "name": "stdout",
     "output_type": "stream",
     "text": [
      "ROC-AUC RF\n",
      "Train set: 0.9917760632072823\n",
      "Test set: 0.6624401412143031\n"
     ]
    }
   ],
   "source": [
    "# Model evaluation ROC-AUC RF\n",
    "print('ROC-AUC RF')\n",
    "print('Train set:', roc_auc_score(y_train, y_pred_train_IV))\n",
    "print('Test set:', roc_auc_score(y_test, y_pred_test_IV))"
   ]
  },
  {
   "cell_type": "code",
   "execution_count": 72,
   "metadata": {},
   "outputs": [
    {
     "name": "stdout",
     "output_type": "stream",
     "text": [
      "ROC-AUC NB\n",
      "Train set: 0.6902694888238129\n",
      "Test set: 0.6626760809535461\n"
     ]
    }
   ],
   "source": [
    "# Model evaluation ROC-AUC NB\n",
    "print('ROC-AUC NB')\n",
    "print('Train set:', roc_auc_score(y_train, y_pred_train_V))\n",
    "print('Test set:', roc_auc_score(y_test, y_pred_test_V))"
   ]
  },
  {
   "cell_type": "code",
   "execution_count": 73,
   "metadata": {},
   "outputs": [
    {
     "name": "stdout",
     "output_type": "stream",
     "text": [
      "ROC-AUC KNN\n",
      "Train set: 0.7377326717468319\n",
      "Test set: 0.6270229648012863\n"
     ]
    }
   ],
   "source": [
    "# Model evaluation ROC-AUC KNN\n",
    "print('ROC-AUC KNN')\n",
    "print('Train set:', roc_auc_score(y_train, y_pred_train_VI))\n",
    "print('Test set:', roc_auc_score(y_test, y_pred_test_VI))"
   ]
  },
  {
   "cell_type": "code",
   "execution_count": 74,
   "metadata": {},
   "outputs": [
    {
     "name": "stdout",
     "output_type": "stream",
     "text": [
      "ROC-AUC AB\n",
      "Train set: 0.687323063562082\n",
      "Test set: 0.6659704987940859\n"
     ]
    }
   ],
   "source": [
    "# Model evaluation ROC-AUC AB\n",
    "print('ROC-AUC AB')\n",
    "print('Train set:', roc_auc_score(y_train, y_pred_train_VII))\n",
    "print('Test set:', roc_auc_score(y_test, y_pred_test_VII))"
   ]
  },
  {
   "cell_type": "markdown",
   "metadata": {},
   "source": [
    "Hasil dari ROC-AUC Mengkonfirmasi kedua test sebelummya, dimana model yang performanya baik adalah Logreg, SVC, dan Adaboost. Untuk Naive Bayes performanya cukup baik, namun nilainya dibawah ketiga model yang performanya baik. Sedangkan model yang performanya tidak baik adalah random forest, decision tree, dan KNN. Ketiga model mengalami overfitting yang cukup parah."
   ]
  },
  {
   "cell_type": "markdown",
   "metadata": {},
   "source": [
    "# Cross validation"
   ]
  },
  {
   "cell_type": "code",
   "execution_count": 75,
   "metadata": {},
   "outputs": [
    {
     "name": "stdout",
     "output_type": "stream",
     "text": [
      "Cross validation Logreg: 0.8307978285018096\n"
     ]
    }
   ],
   "source": [
    "cross_val_Logreg = cross_val_score(model_Logreg, X_train_final, y_train, cv=5)\n",
    "print('Cross validation Logreg:', cross_val_Logreg.mean())"
   ]
  },
  {
   "cell_type": "code",
   "execution_count": 76,
   "metadata": {},
   "outputs": [
    {
     "name": "stdout",
     "output_type": "stream",
     "text": [
      "Cross validation SVC: 0.8388343426380478\n"
     ]
    }
   ],
   "source": [
    "cross_val_SVC = cross_val_score(model_SVC, X_train_final, y_train, cv=5)\n",
    "print('Cross validation SVC:', cross_val_SVC.mean())"
   ]
  },
  {
   "cell_type": "code",
   "execution_count": 77,
   "metadata": {},
   "outputs": [
    {
     "name": "stdout",
     "output_type": "stream",
     "text": [
      "Cross validation DT: 0.7406949869208442\n"
     ]
    }
   ],
   "source": [
    "cross_val_DT = cross_val_score(model_DT, X_train_final, y_train, cv=5)\n",
    "print('Cross validation DT:', cross_val_DT.mean())"
   ]
  },
  {
   "cell_type": "code",
   "execution_count": 78,
   "metadata": {},
   "outputs": [
    {
     "name": "stdout",
     "output_type": "stream",
     "text": [
      "Cross validation RF: 0.8223295230587307\n"
     ]
    }
   ],
   "source": [
    "cross_val_RF = cross_val_score(model_RF, X_train_final, y_train, cv=5)\n",
    "print('Cross validation RF:', cross_val_RF.mean())"
   ]
  },
  {
   "cell_type": "code",
   "execution_count": 79,
   "metadata": {},
   "outputs": [
    {
     "name": "stdout",
     "output_type": "stream",
     "text": [
      "Cross validation NB: 0.7927186727344394\n"
     ]
    }
   ],
   "source": [
    "cross_val_NB = cross_val_score(model_NB, X_train_final, y_train, cv=5)\n",
    "print('Cross validation NB:', cross_val_NB.mean())"
   ]
  },
  {
   "cell_type": "code",
   "execution_count": 80,
   "metadata": {},
   "outputs": [
    {
     "name": "stdout",
     "output_type": "stream",
     "text": [
      "Cross validation KNN: 0.8016035403303832\n"
     ]
    }
   ],
   "source": [
    "cross_val_KNN = cross_val_score(model_KNN, X_train_final, y_train, cv=5)\n",
    "print('Cross validation KNN:', cross_val_KNN.mean())"
   ]
  },
  {
   "cell_type": "code",
   "execution_count": 81,
   "metadata": {},
   "outputs": [
    {
     "name": "stdout",
     "output_type": "stream",
     "text": [
      "Cross validation AB: 0.8341822840147634\n"
     ]
    }
   ],
   "source": [
    "cross_val_AB = cross_val_score(model_AB, X_train_final, y_train, cv=5)\n",
    "print('Cross validation AB:', cross_val_AB.mean())"
   ]
  },
  {
   "cell_type": "markdown",
   "metadata": {},
   "source": [
    "Setelah dilakukan cross validation dengan dibagi kedalam 5 folds. Hasilnya seluruh model kecuali decision tree mengalami peningkatan performa. Nilai tertinggi didapatkan oleh SVC dengan 0.838. Karena SVC merupakan model dengan performa terbaik, maka akan dilakukan GridSearch terhadap model ini untuk menentukan parameter mana yang paling baik untuk model ini. "
   ]
  },
  {
   "cell_type": "markdown",
   "metadata": {},
   "source": [
    "# Grid search"
   ]
  },
  {
   "cell_type": "code",
   "execution_count": 82,
   "metadata": {},
   "outputs": [],
   "source": [
    "# Hyperparameter SVC\n",
    "params_SVC = {'C': [0.25, 0.5, 0.75, 1], \n",
    "              'kernel': ['linear', 'rbf', 'poly', 'sigmoid'],\n",
    "              'gamma': ['auto', 'scale']}"
   ]
  },
  {
   "cell_type": "code",
   "execution_count": 83,
   "metadata": {},
   "outputs": [],
   "source": [
    "grid_SVC = GridSearchCV(model_SVC, params_SVC, cv = 5 )"
   ]
  },
  {
   "cell_type": "code",
   "execution_count": 84,
   "metadata": {},
   "outputs": [
    {
     "data": {
      "text/html": [
       "<style>#sk-container-id-2 {color: black;background-color: white;}#sk-container-id-2 pre{padding: 0;}#sk-container-id-2 div.sk-toggleable {background-color: white;}#sk-container-id-2 label.sk-toggleable__label {cursor: pointer;display: block;width: 100%;margin-bottom: 0;padding: 0.3em;box-sizing: border-box;text-align: center;}#sk-container-id-2 label.sk-toggleable__label-arrow:before {content: \"▸\";float: left;margin-right: 0.25em;color: #696969;}#sk-container-id-2 label.sk-toggleable__label-arrow:hover:before {color: black;}#sk-container-id-2 div.sk-estimator:hover label.sk-toggleable__label-arrow:before {color: black;}#sk-container-id-2 div.sk-toggleable__content {max-height: 0;max-width: 0;overflow: hidden;text-align: left;background-color: #f0f8ff;}#sk-container-id-2 div.sk-toggleable__content pre {margin: 0.2em;color: black;border-radius: 0.25em;background-color: #f0f8ff;}#sk-container-id-2 input.sk-toggleable__control:checked~div.sk-toggleable__content {max-height: 200px;max-width: 100%;overflow: auto;}#sk-container-id-2 input.sk-toggleable__control:checked~label.sk-toggleable__label-arrow:before {content: \"▾\";}#sk-container-id-2 div.sk-estimator input.sk-toggleable__control:checked~label.sk-toggleable__label {background-color: #d4ebff;}#sk-container-id-2 div.sk-label input.sk-toggleable__control:checked~label.sk-toggleable__label {background-color: #d4ebff;}#sk-container-id-2 input.sk-hidden--visually {border: 0;clip: rect(1px 1px 1px 1px);clip: rect(1px, 1px, 1px, 1px);height: 1px;margin: -1px;overflow: hidden;padding: 0;position: absolute;width: 1px;}#sk-container-id-2 div.sk-estimator {font-family: monospace;background-color: #f0f8ff;border: 1px dotted black;border-radius: 0.25em;box-sizing: border-box;margin-bottom: 0.5em;}#sk-container-id-2 div.sk-estimator:hover {background-color: #d4ebff;}#sk-container-id-2 div.sk-parallel-item::after {content: \"\";width: 100%;border-bottom: 1px solid gray;flex-grow: 1;}#sk-container-id-2 div.sk-label:hover label.sk-toggleable__label {background-color: #d4ebff;}#sk-container-id-2 div.sk-serial::before {content: \"\";position: absolute;border-left: 1px solid gray;box-sizing: border-box;top: 0;bottom: 0;left: 50%;z-index: 0;}#sk-container-id-2 div.sk-serial {display: flex;flex-direction: column;align-items: center;background-color: white;padding-right: 0.2em;padding-left: 0.2em;position: relative;}#sk-container-id-2 div.sk-item {position: relative;z-index: 1;}#sk-container-id-2 div.sk-parallel {display: flex;align-items: stretch;justify-content: center;background-color: white;position: relative;}#sk-container-id-2 div.sk-item::before, #sk-container-id-2 div.sk-parallel-item::before {content: \"\";position: absolute;border-left: 1px solid gray;box-sizing: border-box;top: 0;bottom: 0;left: 50%;z-index: -1;}#sk-container-id-2 div.sk-parallel-item {display: flex;flex-direction: column;z-index: 1;position: relative;background-color: white;}#sk-container-id-2 div.sk-parallel-item:first-child::after {align-self: flex-end;width: 50%;}#sk-container-id-2 div.sk-parallel-item:last-child::after {align-self: flex-start;width: 50%;}#sk-container-id-2 div.sk-parallel-item:only-child::after {width: 0;}#sk-container-id-2 div.sk-dashed-wrapped {border: 1px dashed gray;margin: 0 0.4em 0.5em 0.4em;box-sizing: border-box;padding-bottom: 0.4em;background-color: white;}#sk-container-id-2 div.sk-label label {font-family: monospace;font-weight: bold;display: inline-block;line-height: 1.2em;}#sk-container-id-2 div.sk-label-container {text-align: center;}#sk-container-id-2 div.sk-container {/* jupyter's `normalize.less` sets `[hidden] { display: none; }` but bootstrap.min.css set `[hidden] { display: none !important; }` so we also need the `!important` here to be able to override the default hidden behavior on the sphinx rendered scikit-learn.org. See: https://github.com/scikit-learn/scikit-learn/issues/21755 */display: inline-block !important;position: relative;}#sk-container-id-2 div.sk-text-repr-fallback {display: none;}</style><div id=\"sk-container-id-2\" class=\"sk-top-container\"><div class=\"sk-text-repr-fallback\"><pre>GridSearchCV(cv=5, estimator=SVC(),\n",
       "             param_grid={&#x27;C&#x27;: [0.25, 0.5, 0.75, 1], &#x27;gamma&#x27;: [&#x27;auto&#x27;, &#x27;scale&#x27;],\n",
       "                         &#x27;kernel&#x27;: [&#x27;linear&#x27;, &#x27;rbf&#x27;, &#x27;poly&#x27;, &#x27;sigmoid&#x27;]})</pre><b>In a Jupyter environment, please rerun this cell to show the HTML representation or trust the notebook. <br />On GitHub, the HTML representation is unable to render, please try loading this page with nbviewer.org.</b></div><div class=\"sk-container\" hidden><div class=\"sk-item sk-dashed-wrapped\"><div class=\"sk-label-container\"><div class=\"sk-label sk-toggleable\"><input class=\"sk-toggleable__control sk-hidden--visually\" id=\"sk-estimator-id-2\" type=\"checkbox\" ><label for=\"sk-estimator-id-2\" class=\"sk-toggleable__label sk-toggleable__label-arrow\">GridSearchCV</label><div class=\"sk-toggleable__content\"><pre>GridSearchCV(cv=5, estimator=SVC(),\n",
       "             param_grid={&#x27;C&#x27;: [0.25, 0.5, 0.75, 1], &#x27;gamma&#x27;: [&#x27;auto&#x27;, &#x27;scale&#x27;],\n",
       "                         &#x27;kernel&#x27;: [&#x27;linear&#x27;, &#x27;rbf&#x27;, &#x27;poly&#x27;, &#x27;sigmoid&#x27;]})</pre></div></div></div><div class=\"sk-parallel\"><div class=\"sk-parallel-item\"><div class=\"sk-item\"><div class=\"sk-label-container\"><div class=\"sk-label sk-toggleable\"><input class=\"sk-toggleable__control sk-hidden--visually\" id=\"sk-estimator-id-3\" type=\"checkbox\" ><label for=\"sk-estimator-id-3\" class=\"sk-toggleable__label sk-toggleable__label-arrow\">estimator: SVC</label><div class=\"sk-toggleable__content\"><pre>SVC()</pre></div></div></div><div class=\"sk-serial\"><div class=\"sk-item\"><div class=\"sk-estimator sk-toggleable\"><input class=\"sk-toggleable__control sk-hidden--visually\" id=\"sk-estimator-id-4\" type=\"checkbox\" ><label for=\"sk-estimator-id-4\" class=\"sk-toggleable__label sk-toggleable__label-arrow\">SVC</label><div class=\"sk-toggleable__content\"><pre>SVC()</pre></div></div></div></div></div></div></div></div></div></div>"
      ],
      "text/plain": [
       "GridSearchCV(cv=5, estimator=SVC(),\n",
       "             param_grid={'C': [0.25, 0.5, 0.75, 1], 'gamma': ['auto', 'scale'],\n",
       "                         'kernel': ['linear', 'rbf', 'poly', 'sigmoid']})"
      ]
     },
     "execution_count": 84,
     "metadata": {},
     "output_type": "execute_result"
    }
   ],
   "source": [
    "grid_SVC.fit(X_train_final, y_train)"
   ]
  },
  {
   "cell_type": "code",
   "execution_count": 85,
   "metadata": {},
   "outputs": [
    {
     "data": {
      "text/plain": [
       "{'C': 0.75, 'gamma': 'scale', 'kernel': 'rbf'}"
      ]
     },
     "execution_count": 85,
     "metadata": {},
     "output_type": "execute_result"
    }
   ],
   "source": [
    "grid_SVC.best_params_"
   ]
  },
  {
   "cell_type": "code",
   "execution_count": 86,
   "metadata": {},
   "outputs": [
    {
     "name": "stdout",
     "output_type": "stream",
     "text": [
      "SVC with best params: 0.8401037374135522\n"
     ]
    }
   ],
   "source": [
    "Best_Params_SVC = cross_val_score(grid_SVC.best_estimator_, X_train_final, y_train, cv=5)\n",
    "print('SVC with best params:', Best_Params_SVC.mean())"
   ]
  },
  {
   "cell_type": "markdown",
   "metadata": {},
   "source": [
    "Setelah dilakukan GridSearch terhadap model SVC, parameter terbaiknya adalah 'C': 0.75, 'gamma': 'scale', dan 'kernel': 'rbf'\n",
    "Dengan parameter ini, model SVC mengalami peningkatan menjadi 0.84."
   ]
  },
  {
   "cell_type": "markdown",
   "metadata": {},
   "source": [
    "# Inference"
   ]
  },
  {
   "cell_type": "code",
   "execution_count": 87,
   "metadata": {},
   "outputs": [
    {
     "data": {
      "text/html": [
       "<div>\n",
       "<style scoped>\n",
       "    .dataframe tbody tr th:only-of-type {\n",
       "        vertical-align: middle;\n",
       "    }\n",
       "\n",
       "    .dataframe tbody tr th {\n",
       "        vertical-align: top;\n",
       "    }\n",
       "\n",
       "    .dataframe thead th {\n",
       "        text-align: right;\n",
       "    }\n",
       "</style>\n",
       "<table border=\"1\" class=\"dataframe\">\n",
       "  <thead>\n",
       "    <tr style=\"text-align: right;\">\n",
       "      <th></th>\n",
       "      <th>limit_balance</th>\n",
       "      <th>sex</th>\n",
       "      <th>education_level</th>\n",
       "      <th>marital_status</th>\n",
       "      <th>age</th>\n",
       "      <th>pay_0</th>\n",
       "      <th>pay_2</th>\n",
       "      <th>pay_3</th>\n",
       "      <th>pay_4</th>\n",
       "      <th>pay_5</th>\n",
       "      <th>pay_6</th>\n",
       "      <th>bill_amt_1</th>\n",
       "      <th>bill_amt_2</th>\n",
       "      <th>bill_amt_3</th>\n",
       "      <th>bill_amt_4</th>\n",
       "      <th>bill_amt_5</th>\n",
       "      <th>bill_amt_6</th>\n",
       "      <th>pay_amt_1</th>\n",
       "      <th>pay_amt_2</th>\n",
       "      <th>pay_amt_3</th>\n",
       "      <th>pay_amt_4</th>\n",
       "      <th>pay_amt_5</th>\n",
       "      <th>pay_amt_6</th>\n",
       "      <th>default_payment_next_month</th>\n",
       "    </tr>\n",
       "  </thead>\n",
       "  <tbody>\n",
       "    <tr>\n",
       "      <th>0</th>\n",
       "      <td>420000</td>\n",
       "      <td>2</td>\n",
       "      <td>2</td>\n",
       "      <td>2</td>\n",
       "      <td>32</td>\n",
       "      <td>0</td>\n",
       "      <td>0</td>\n",
       "      <td>0</td>\n",
       "      <td>0</td>\n",
       "      <td>0</td>\n",
       "      <td>0</td>\n",
       "      <td>211688</td>\n",
       "      <td>205003</td>\n",
       "      <td>203118</td>\n",
       "      <td>198925</td>\n",
       "      <td>175684</td>\n",
       "      <td>164037</td>\n",
       "      <td>7300</td>\n",
       "      <td>8839</td>\n",
       "      <td>8000</td>\n",
       "      <td>5900</td>\n",
       "      <td>6000</td>\n",
       "      <td>6000</td>\n",
       "      <td>0</td>\n",
       "    </tr>\n",
       "    <tr>\n",
       "      <th>1</th>\n",
       "      <td>30000</td>\n",
       "      <td>2</td>\n",
       "      <td>2</td>\n",
       "      <td>2</td>\n",
       "      <td>25</td>\n",
       "      <td>2</td>\n",
       "      <td>0</td>\n",
       "      <td>0</td>\n",
       "      <td>0</td>\n",
       "      <td>0</td>\n",
       "      <td>0</td>\n",
       "      <td>10343</td>\n",
       "      <td>11069</td>\n",
       "      <td>12082</td>\n",
       "      <td>12473</td>\n",
       "      <td>12623</td>\n",
       "      <td>27460</td>\n",
       "      <td>1200</td>\n",
       "      <td>1201</td>\n",
       "      <td>592</td>\n",
       "      <td>500</td>\n",
       "      <td>1500</td>\n",
       "      <td>0</td>\n",
       "      <td>1</td>\n",
       "    </tr>\n",
       "    <tr>\n",
       "      <th>2</th>\n",
       "      <td>40000</td>\n",
       "      <td>2</td>\n",
       "      <td>3</td>\n",
       "      <td>1</td>\n",
       "      <td>60</td>\n",
       "      <td>0</td>\n",
       "      <td>0</td>\n",
       "      <td>0</td>\n",
       "      <td>0</td>\n",
       "      <td>0</td>\n",
       "      <td>0</td>\n",
       "      <td>14019</td>\n",
       "      <td>15780</td>\n",
       "      <td>18519</td>\n",
       "      <td>21058</td>\n",
       "      <td>8204</td>\n",
       "      <td>9899</td>\n",
       "      <td>2000</td>\n",
       "      <td>3000</td>\n",
       "      <td>3000</td>\n",
       "      <td>6000</td>\n",
       "      <td>2000</td>\n",
       "      <td>2000</td>\n",
       "      <td>0</td>\n",
       "    </tr>\n",
       "    <tr>\n",
       "      <th>3</th>\n",
       "      <td>70000</td>\n",
       "      <td>2</td>\n",
       "      <td>3</td>\n",
       "      <td>3</td>\n",
       "      <td>39</td>\n",
       "      <td>0</td>\n",
       "      <td>0</td>\n",
       "      <td>-1</td>\n",
       "      <td>0</td>\n",
       "      <td>-1</td>\n",
       "      <td>0</td>\n",
       "      <td>34244</td>\n",
       "      <td>32193</td>\n",
       "      <td>10803</td>\n",
       "      <td>15133</td>\n",
       "      <td>3148</td>\n",
       "      <td>4699</td>\n",
       "      <td>3000</td>\n",
       "      <td>11000</td>\n",
       "      <td>5000</td>\n",
       "      <td>3150</td>\n",
       "      <td>2000</td>\n",
       "      <td>4000</td>\n",
       "      <td>0</td>\n",
       "    </tr>\n",
       "    <tr>\n",
       "      <th>4</th>\n",
       "      <td>60000</td>\n",
       "      <td>2</td>\n",
       "      <td>2</td>\n",
       "      <td>2</td>\n",
       "      <td>24</td>\n",
       "      <td>-1</td>\n",
       "      <td>0</td>\n",
       "      <td>-1</td>\n",
       "      <td>0</td>\n",
       "      <td>0</td>\n",
       "      <td>0</td>\n",
       "      <td>9970</td>\n",
       "      <td>7699</td>\n",
       "      <td>9479</td>\n",
       "      <td>10213</td>\n",
       "      <td>10000</td>\n",
       "      <td>11832</td>\n",
       "      <td>1020</td>\n",
       "      <td>9479</td>\n",
       "      <td>1000</td>\n",
       "      <td>200</td>\n",
       "      <td>1832</td>\n",
       "      <td>5889</td>\n",
       "      <td>0</td>\n",
       "    </tr>\n",
       "    <tr>\n",
       "      <th>5</th>\n",
       "      <td>300000</td>\n",
       "      <td>2</td>\n",
       "      <td>1</td>\n",
       "      <td>1</td>\n",
       "      <td>30</td>\n",
       "      <td>0</td>\n",
       "      <td>0</td>\n",
       "      <td>0</td>\n",
       "      <td>0</td>\n",
       "      <td>0</td>\n",
       "      <td>0</td>\n",
       "      <td>93738</td>\n",
       "      <td>84636</td>\n",
       "      <td>88446</td>\n",
       "      <td>76244</td>\n",
       "      <td>67747</td>\n",
       "      <td>70389</td>\n",
       "      <td>3000</td>\n",
       "      <td>5000</td>\n",
       "      <td>2500</td>\n",
       "      <td>2500</td>\n",
       "      <td>3500</td>\n",
       "      <td>87000</td>\n",
       "      <td>1</td>\n",
       "    </tr>\n",
       "    <tr>\n",
       "      <th>6</th>\n",
       "      <td>500000</td>\n",
       "      <td>1</td>\n",
       "      <td>1</td>\n",
       "      <td>2</td>\n",
       "      <td>43</td>\n",
       "      <td>0</td>\n",
       "      <td>0</td>\n",
       "      <td>0</td>\n",
       "      <td>-1</td>\n",
       "      <td>-1</td>\n",
       "      <td>-1</td>\n",
       "      <td>504644</td>\n",
       "      <td>512650</td>\n",
       "      <td>0</td>\n",
       "      <td>3887</td>\n",
       "      <td>0</td>\n",
       "      <td>7413</td>\n",
       "      <td>22650</td>\n",
       "      <td>0</td>\n",
       "      <td>3887</td>\n",
       "      <td>0</td>\n",
       "      <td>7413</td>\n",
       "      <td>0</td>\n",
       "      <td>1</td>\n",
       "    </tr>\n",
       "    <tr>\n",
       "      <th>7</th>\n",
       "      <td>490000</td>\n",
       "      <td>2</td>\n",
       "      <td>2</td>\n",
       "      <td>1</td>\n",
       "      <td>30</td>\n",
       "      <td>0</td>\n",
       "      <td>0</td>\n",
       "      <td>0</td>\n",
       "      <td>0</td>\n",
       "      <td>0</td>\n",
       "      <td>-1</td>\n",
       "      <td>26088</td>\n",
       "      <td>24092</td>\n",
       "      <td>24488</td>\n",
       "      <td>16995</td>\n",
       "      <td>-1527</td>\n",
       "      <td>62491</td>\n",
       "      <td>2003</td>\n",
       "      <td>2041</td>\n",
       "      <td>1092</td>\n",
       "      <td>4</td>\n",
       "      <td>64895</td>\n",
       "      <td>3003</td>\n",
       "      <td>0</td>\n",
       "    </tr>\n",
       "    <tr>\n",
       "      <th>8</th>\n",
       "      <td>80000</td>\n",
       "      <td>1</td>\n",
       "      <td>1</td>\n",
       "      <td>2</td>\n",
       "      <td>26</td>\n",
       "      <td>1</td>\n",
       "      <td>2</td>\n",
       "      <td>2</td>\n",
       "      <td>0</td>\n",
       "      <td>0</td>\n",
       "      <td>0</td>\n",
       "      <td>40029</td>\n",
       "      <td>41095</td>\n",
       "      <td>40137</td>\n",
       "      <td>40793</td>\n",
       "      <td>42990</td>\n",
       "      <td>42854</td>\n",
       "      <td>2000</td>\n",
       "      <td>0</td>\n",
       "      <td>1603</td>\n",
       "      <td>3000</td>\n",
       "      <td>2000</td>\n",
       "      <td>1056</td>\n",
       "      <td>0</td>\n",
       "    </tr>\n",
       "    <tr>\n",
       "      <th>9</th>\n",
       "      <td>130000</td>\n",
       "      <td>2</td>\n",
       "      <td>2</td>\n",
       "      <td>1</td>\n",
       "      <td>34</td>\n",
       "      <td>2</td>\n",
       "      <td>2</td>\n",
       "      <td>2</td>\n",
       "      <td>2</td>\n",
       "      <td>2</td>\n",
       "      <td>2</td>\n",
       "      <td>28967</td>\n",
       "      <td>30776</td>\n",
       "      <td>33071</td>\n",
       "      <td>32336</td>\n",
       "      <td>34186</td>\n",
       "      <td>34588</td>\n",
       "      <td>2500</td>\n",
       "      <td>3000</td>\n",
       "      <td>0</td>\n",
       "      <td>2600</td>\n",
       "      <td>1000</td>\n",
       "      <td>1500</td>\n",
       "      <td>1</td>\n",
       "    </tr>\n",
       "  </tbody>\n",
       "</table>\n",
       "</div>"
      ],
      "text/plain": [
       "   limit_balance  sex  education_level  marital_status  age  pay_0  pay_2  \\\n",
       "0         420000    2                2               2   32      0      0   \n",
       "1          30000    2                2               2   25      2      0   \n",
       "2          40000    2                3               1   60      0      0   \n",
       "3          70000    2                3               3   39      0      0   \n",
       "4          60000    2                2               2   24     -1      0   \n",
       "5         300000    2                1               1   30      0      0   \n",
       "6         500000    1                1               2   43      0      0   \n",
       "7         490000    2                2               1   30      0      0   \n",
       "8          80000    1                1               2   26      1      2   \n",
       "9         130000    2                2               1   34      2      2   \n",
       "\n",
       "   pay_3  pay_4  pay_5  pay_6  bill_amt_1  bill_amt_2  bill_amt_3  bill_amt_4  \\\n",
       "0      0      0      0      0      211688      205003      203118      198925   \n",
       "1      0      0      0      0       10343       11069       12082       12473   \n",
       "2      0      0      0      0       14019       15780       18519       21058   \n",
       "3     -1      0     -1      0       34244       32193       10803       15133   \n",
       "4     -1      0      0      0        9970        7699        9479       10213   \n",
       "5      0      0      0      0       93738       84636       88446       76244   \n",
       "6      0     -1     -1     -1      504644      512650           0        3887   \n",
       "7      0      0      0     -1       26088       24092       24488       16995   \n",
       "8      2      0      0      0       40029       41095       40137       40793   \n",
       "9      2      2      2      2       28967       30776       33071       32336   \n",
       "\n",
       "   bill_amt_5  bill_amt_6  pay_amt_1  pay_amt_2  pay_amt_3  pay_amt_4  \\\n",
       "0      175684      164037       7300       8839       8000       5900   \n",
       "1       12623       27460       1200       1201        592        500   \n",
       "2        8204        9899       2000       3000       3000       6000   \n",
       "3        3148        4699       3000      11000       5000       3150   \n",
       "4       10000       11832       1020       9479       1000        200   \n",
       "5       67747       70389       3000       5000       2500       2500   \n",
       "6           0        7413      22650          0       3887          0   \n",
       "7       -1527       62491       2003       2041       1092          4   \n",
       "8       42990       42854       2000          0       1603       3000   \n",
       "9       34186       34588       2500       3000          0       2600   \n",
       "\n",
       "   pay_amt_5  pay_amt_6  default_payment_next_month  \n",
       "0       6000       6000                           0  \n",
       "1       1500          0                           1  \n",
       "2       2000       2000                           0  \n",
       "3       2000       4000                           0  \n",
       "4       1832       5889                           0  \n",
       "5       3500      87000                           1  \n",
       "6       7413          0                           1  \n",
       "7      64895       3003                           0  \n",
       "8       2000       1056                           0  \n",
       "9       1000       1500                           1  "
      ]
     },
     "execution_count": 87,
     "metadata": {},
     "output_type": "execute_result"
    }
   ],
   "source": [
    "df_inf"
   ]
  },
  {
   "cell_type": "code",
   "execution_count": 88,
   "metadata": {},
   "outputs": [],
   "source": [
    "# Membagi dataset inference berdasarkan kategori\n",
    "df_inf_num = df_inf[num_cols]\n",
    "df_inf_cat = df_inf[cat_cols]"
   ]
  },
  {
   "cell_type": "code",
   "execution_count": 89,
   "metadata": {},
   "outputs": [],
   "source": [
    "# Proses normalisasi dengan scaler\n",
    "df_inf_num_scaled = scaler.transform(df_inf_num)"
   ]
  },
  {
   "cell_type": "code",
   "execution_count": 90,
   "metadata": {},
   "outputs": [
    {
     "data": {
      "text/plain": [
       "array([[ 5.18987342e-01,  3.56941502e-01,  4.69835463e-01,\n",
       "         3.90599072e-01,  4.58602818e-01,  4.54988457e-01,\n",
       "         4.36338932e-01,  1.47965575e-02,  7.20326759e-03,\n",
       "         4.01588282e-02,  2.91969358e-02,  1.54610883e-02,\n",
       "         1.48698885e-02,  0.00000000e+00,  0.00000000e+00,\n",
       "         0.00000000e+00,  0.00000000e+00,  0.00000000e+00,\n",
       "         0.00000000e+00],\n",
       "       [ 2.53164557e-02,  3.49981212e-02,  1.35496473e-01,\n",
       "         6.41283079e-02,  1.10377543e-01,  1.21262853e-01,\n",
       "         1.53453093e-01,  2.43231082e-03,  9.78744697e-04,\n",
       "         2.97175328e-03,  2.47431659e-03,  3.86527208e-03,\n",
       "         0.00000000e+00,  2.00000000e+00,  0.00000000e+00,\n",
       "         0.00000000e+00,  0.00000000e+00,  0.00000000e+00,\n",
       "         0.00000000e+00],\n",
       "       [ 3.79746835e-02,  4.08759124e-02,  1.43618158e-01,\n",
       "         7.51288120e-02,  1.26411236e-01,  1.12218793e-01,\n",
       "         1.17079779e-01,  4.05385136e-03,  2.44482439e-03,\n",
       "         1.50595606e-02,  2.96917991e-02,  5.15369610e-03,\n",
       "         4.95662949e-03,  0.00000000e+00,  0.00000000e+00,\n",
       "         0.00000000e+00,  0.00000000e+00,  0.00000000e+00,\n",
       "         0.00000000e+00],\n",
       "       [ 7.59493671e-02,  7.32149567e-02,  1.71913897e-01,\n",
       "         6.19425622e-02,  1.15345467e-01,  1.01871030e-01,\n",
       "         1.06309251e-01,  6.08077704e-03,  8.96435609e-03,\n",
       "         2.50992676e-02,  1.55881945e-02,  5.15369610e-03,\n",
       "         9.91325898e-03,  0.00000000e+00,  0.00000000e+00,\n",
       "        -1.00000000e+00,  0.00000000e+00, -1.00000000e+00,\n",
       "         0.00000000e+00],\n",
       "       [ 6.32911392e-02,  3.44017077e-02,  1.29686649e-01,\n",
       "         5.96799139e-02,  1.06156676e-01,  1.15894541e-01,\n",
       "         1.21083515e-01,  2.06746419e-03,  7.72483013e-03,\n",
       "         5.01985352e-03,  9.89726638e-04,  4.72078563e-03,\n",
       "         1.45947955e-02, -1.00000000e+00,  0.00000000e+00,\n",
       "        -1.00000000e+00,  0.00000000e+00,  0.00000000e+00,\n",
       "         0.00000000e+00],\n",
       "       [ 3.67088608e-01,  1.68343713e-01,  2.62324757e-01,\n",
       "         1.94630483e-01,  2.29478835e-01,  2.34081309e-01,\n",
       "         2.42370013e-01,  6.08077704e-03,  4.07470731e-03,\n",
       "         1.25496338e-02,  1.23715830e-02,  9.01896818e-03,\n",
       "         2.15613383e-01,  0.00000000e+00,  0.00000000e+00,\n",
       "         0.00000000e+00,  0.00000000e+00,  0.00000000e+00,\n",
       "         0.00000000e+00],\n",
       "       [ 6.20253165e-01,  8.25367562e-01,  1.00021377e+00,\n",
       "         4.34807871e-02,  9.43419836e-02,  9.54282370e-02,\n",
       "         1.11930638e-01,  4.59098667e-02,  0.00000000e+00,\n",
       "         1.95121706e-02,  0.00000000e+00,  1.91021746e-02,\n",
       "         0.00000000e+00,  0.00000000e+00,  0.00000000e+00,\n",
       "         0.00000000e+00, -1.00000000e+00, -1.00000000e+00,\n",
       "        -1.00000000e+00],\n",
       "       [ 6.07594937e-01,  6.01738074e-02,  1.57947908e-01,\n",
       "         8.53295281e-02,  1.18823013e-01,  9.23030323e-02,\n",
       "         2.26011239e-01,  4.05993214e-03,  1.66329553e-03,\n",
       "         5.48168004e-03,  1.97945328e-05,  1.67224554e-01,\n",
       "         7.44237918e-03,  0.00000000e+00,  0.00000000e+00,\n",
       "         0.00000000e+00,  0.00000000e+00,  0.00000000e+00,\n",
       "        -1.00000000e+00],\n",
       "       [ 8.86075949e-02,  8.24649627e-02,  1.87260797e-01,\n",
       "         1.12072870e-01,  1.63269118e-01,  1.83412879e-01,\n",
       "         1.85337998e-01,  4.05385136e-03,  0.00000000e+00,\n",
       "         8.04682519e-03,  1.48458996e-02,  5.15369610e-03,\n",
       "         2.61710037e-03,  1.00000000e+00,  2.00000000e+00,\n",
       "         2.00000000e+00,  0.00000000e+00,  0.00000000e+00,\n",
       "         0.00000000e+00],\n",
       "       [ 1.51898734e-01,  6.47772244e-02,  1.69471013e-01,\n",
       "         9.99974366e-02,  1.47474483e-01,  1.65394345e-01,\n",
       "         1.68217001e-01,  5.06731420e-03,  2.44482439e-03,\n",
       "         0.00000000e+00,  1.28664463e-02,  2.57684805e-03,\n",
       "         3.71747212e-03,  2.00000000e+00,  2.00000000e+00,\n",
       "         2.00000000e+00,  2.00000000e+00,  2.00000000e+00,\n",
       "         2.00000000e+00]])"
      ]
     },
     "execution_count": 90,
     "metadata": {},
     "output_type": "execute_result"
    }
   ],
   "source": [
    "# Concat dataset yang sudah dinormalisasi menjadi satu\n",
    "df_inf_final = np.concatenate([df_inf_num_scaled, df_inf_cat], axis = 1)\n",
    "df_inf_final"
   ]
  },
  {
   "cell_type": "code",
   "execution_count": 91,
   "metadata": {},
   "outputs": [],
   "source": [
    "# Predict\n",
    "y_pred_inf_I = model_Logreg.predict(df_inf_final)\n",
    "y_pred_inf_II = model_SVC.predict(df_inf_final)\n",
    "y_pred_inf_III = model_DT.predict(df_inf_final)\n",
    "y_pred_inf_IV = model_RF.predict(df_inf_final)\n",
    "y_pred_inf_V = model_NB.predict(df_inf_final)\n",
    "y_pred_inf_VI = model_KNN.predict(df_inf_final)\n",
    "y_pred_inf_VII = model_AB.predict(df_inf_final)\n",
    "y_pred_inf_VIII = grid_SVC.best_estimator_.predict(df_inf_final)"
   ]
  },
  {
   "cell_type": "code",
   "execution_count": 92,
   "metadata": {},
   "outputs": [],
   "source": [
    "# Mememasukan hasil prediksi kedalam dataset\n",
    "hasil_prediksi = pd.DataFrame({'Logreg': y_pred_inf_I, 'SVC': y_pred_inf_II, 'DT': y_pred_inf_III, 'RF':y_pred_inf_IV, 'NB': y_pred_inf_V, 'KNN':y_pred_inf_VI, 'AB':y_pred_inf_VII, 'grid_SVC':y_pred_inf_VIII})"
   ]
  },
  {
   "cell_type": "code",
   "execution_count": 93,
   "metadata": {},
   "outputs": [
    {
     "data": {
      "text/html": [
       "<div>\n",
       "<style scoped>\n",
       "    .dataframe tbody tr th:only-of-type {\n",
       "        vertical-align: middle;\n",
       "    }\n",
       "\n",
       "    .dataframe tbody tr th {\n",
       "        vertical-align: top;\n",
       "    }\n",
       "\n",
       "    .dataframe thead th {\n",
       "        text-align: right;\n",
       "    }\n",
       "</style>\n",
       "<table border=\"1\" class=\"dataframe\">\n",
       "  <thead>\n",
       "    <tr style=\"text-align: right;\">\n",
       "      <th></th>\n",
       "      <th>limit_balance</th>\n",
       "      <th>sex</th>\n",
       "      <th>education_level</th>\n",
       "      <th>marital_status</th>\n",
       "      <th>age</th>\n",
       "      <th>pay_0</th>\n",
       "      <th>pay_2</th>\n",
       "      <th>pay_3</th>\n",
       "      <th>pay_4</th>\n",
       "      <th>pay_5</th>\n",
       "      <th>pay_6</th>\n",
       "      <th>bill_amt_1</th>\n",
       "      <th>bill_amt_2</th>\n",
       "      <th>bill_amt_3</th>\n",
       "      <th>bill_amt_4</th>\n",
       "      <th>bill_amt_5</th>\n",
       "      <th>bill_amt_6</th>\n",
       "      <th>pay_amt_1</th>\n",
       "      <th>pay_amt_2</th>\n",
       "      <th>pay_amt_3</th>\n",
       "      <th>pay_amt_4</th>\n",
       "      <th>pay_amt_5</th>\n",
       "      <th>pay_amt_6</th>\n",
       "      <th>default_payment_next_month</th>\n",
       "      <th>Logreg</th>\n",
       "      <th>SVC</th>\n",
       "      <th>DT</th>\n",
       "      <th>RF</th>\n",
       "      <th>NB</th>\n",
       "      <th>KNN</th>\n",
       "      <th>AB</th>\n",
       "      <th>grid_SVC</th>\n",
       "    </tr>\n",
       "  </thead>\n",
       "  <tbody>\n",
       "    <tr>\n",
       "      <th>0</th>\n",
       "      <td>420000</td>\n",
       "      <td>2</td>\n",
       "      <td>2</td>\n",
       "      <td>2</td>\n",
       "      <td>32</td>\n",
       "      <td>0</td>\n",
       "      <td>0</td>\n",
       "      <td>0</td>\n",
       "      <td>0</td>\n",
       "      <td>0</td>\n",
       "      <td>0</td>\n",
       "      <td>211688</td>\n",
       "      <td>205003</td>\n",
       "      <td>203118</td>\n",
       "      <td>198925</td>\n",
       "      <td>175684</td>\n",
       "      <td>164037</td>\n",
       "      <td>7300</td>\n",
       "      <td>8839</td>\n",
       "      <td>8000</td>\n",
       "      <td>5900</td>\n",
       "      <td>6000</td>\n",
       "      <td>6000</td>\n",
       "      <td>0</td>\n",
       "      <td>0</td>\n",
       "      <td>0</td>\n",
       "      <td>0</td>\n",
       "      <td>0</td>\n",
       "      <td>0</td>\n",
       "      <td>0</td>\n",
       "      <td>0</td>\n",
       "      <td>0</td>\n",
       "    </tr>\n",
       "    <tr>\n",
       "      <th>1</th>\n",
       "      <td>30000</td>\n",
       "      <td>2</td>\n",
       "      <td>2</td>\n",
       "      <td>2</td>\n",
       "      <td>25</td>\n",
       "      <td>2</td>\n",
       "      <td>0</td>\n",
       "      <td>0</td>\n",
       "      <td>0</td>\n",
       "      <td>0</td>\n",
       "      <td>0</td>\n",
       "      <td>10343</td>\n",
       "      <td>11069</td>\n",
       "      <td>12082</td>\n",
       "      <td>12473</td>\n",
       "      <td>12623</td>\n",
       "      <td>27460</td>\n",
       "      <td>1200</td>\n",
       "      <td>1201</td>\n",
       "      <td>592</td>\n",
       "      <td>500</td>\n",
       "      <td>1500</td>\n",
       "      <td>0</td>\n",
       "      <td>1</td>\n",
       "      <td>1</td>\n",
       "      <td>1</td>\n",
       "      <td>1</td>\n",
       "      <td>1</td>\n",
       "      <td>0</td>\n",
       "      <td>1</td>\n",
       "      <td>1</td>\n",
       "      <td>1</td>\n",
       "    </tr>\n",
       "    <tr>\n",
       "      <th>2</th>\n",
       "      <td>40000</td>\n",
       "      <td>2</td>\n",
       "      <td>3</td>\n",
       "      <td>1</td>\n",
       "      <td>60</td>\n",
       "      <td>0</td>\n",
       "      <td>0</td>\n",
       "      <td>0</td>\n",
       "      <td>0</td>\n",
       "      <td>0</td>\n",
       "      <td>0</td>\n",
       "      <td>14019</td>\n",
       "      <td>15780</td>\n",
       "      <td>18519</td>\n",
       "      <td>21058</td>\n",
       "      <td>8204</td>\n",
       "      <td>9899</td>\n",
       "      <td>2000</td>\n",
       "      <td>3000</td>\n",
       "      <td>3000</td>\n",
       "      <td>6000</td>\n",
       "      <td>2000</td>\n",
       "      <td>2000</td>\n",
       "      <td>0</td>\n",
       "      <td>0</td>\n",
       "      <td>0</td>\n",
       "      <td>0</td>\n",
       "      <td>0</td>\n",
       "      <td>0</td>\n",
       "      <td>0</td>\n",
       "      <td>0</td>\n",
       "      <td>0</td>\n",
       "    </tr>\n",
       "    <tr>\n",
       "      <th>3</th>\n",
       "      <td>70000</td>\n",
       "      <td>2</td>\n",
       "      <td>3</td>\n",
       "      <td>3</td>\n",
       "      <td>39</td>\n",
       "      <td>0</td>\n",
       "      <td>0</td>\n",
       "      <td>-1</td>\n",
       "      <td>0</td>\n",
       "      <td>-1</td>\n",
       "      <td>0</td>\n",
       "      <td>34244</td>\n",
       "      <td>32193</td>\n",
       "      <td>10803</td>\n",
       "      <td>15133</td>\n",
       "      <td>3148</td>\n",
       "      <td>4699</td>\n",
       "      <td>3000</td>\n",
       "      <td>11000</td>\n",
       "      <td>5000</td>\n",
       "      <td>3150</td>\n",
       "      <td>2000</td>\n",
       "      <td>4000</td>\n",
       "      <td>0</td>\n",
       "      <td>0</td>\n",
       "      <td>0</td>\n",
       "      <td>1</td>\n",
       "      <td>0</td>\n",
       "      <td>0</td>\n",
       "      <td>0</td>\n",
       "      <td>0</td>\n",
       "      <td>0</td>\n",
       "    </tr>\n",
       "    <tr>\n",
       "      <th>4</th>\n",
       "      <td>60000</td>\n",
       "      <td>2</td>\n",
       "      <td>2</td>\n",
       "      <td>2</td>\n",
       "      <td>24</td>\n",
       "      <td>-1</td>\n",
       "      <td>0</td>\n",
       "      <td>-1</td>\n",
       "      <td>0</td>\n",
       "      <td>0</td>\n",
       "      <td>0</td>\n",
       "      <td>9970</td>\n",
       "      <td>7699</td>\n",
       "      <td>9479</td>\n",
       "      <td>10213</td>\n",
       "      <td>10000</td>\n",
       "      <td>11832</td>\n",
       "      <td>1020</td>\n",
       "      <td>9479</td>\n",
       "      <td>1000</td>\n",
       "      <td>200</td>\n",
       "      <td>1832</td>\n",
       "      <td>5889</td>\n",
       "      <td>0</td>\n",
       "      <td>0</td>\n",
       "      <td>0</td>\n",
       "      <td>0</td>\n",
       "      <td>0</td>\n",
       "      <td>0</td>\n",
       "      <td>0</td>\n",
       "      <td>0</td>\n",
       "      <td>0</td>\n",
       "    </tr>\n",
       "    <tr>\n",
       "      <th>5</th>\n",
       "      <td>300000</td>\n",
       "      <td>2</td>\n",
       "      <td>1</td>\n",
       "      <td>1</td>\n",
       "      <td>30</td>\n",
       "      <td>0</td>\n",
       "      <td>0</td>\n",
       "      <td>0</td>\n",
       "      <td>0</td>\n",
       "      <td>0</td>\n",
       "      <td>0</td>\n",
       "      <td>93738</td>\n",
       "      <td>84636</td>\n",
       "      <td>88446</td>\n",
       "      <td>76244</td>\n",
       "      <td>67747</td>\n",
       "      <td>70389</td>\n",
       "      <td>3000</td>\n",
       "      <td>5000</td>\n",
       "      <td>2500</td>\n",
       "      <td>2500</td>\n",
       "      <td>3500</td>\n",
       "      <td>87000</td>\n",
       "      <td>1</td>\n",
       "      <td>0</td>\n",
       "      <td>0</td>\n",
       "      <td>0</td>\n",
       "      <td>0</td>\n",
       "      <td>0</td>\n",
       "      <td>0</td>\n",
       "      <td>0</td>\n",
       "      <td>0</td>\n",
       "    </tr>\n",
       "    <tr>\n",
       "      <th>6</th>\n",
       "      <td>500000</td>\n",
       "      <td>1</td>\n",
       "      <td>1</td>\n",
       "      <td>2</td>\n",
       "      <td>43</td>\n",
       "      <td>0</td>\n",
       "      <td>0</td>\n",
       "      <td>0</td>\n",
       "      <td>-1</td>\n",
       "      <td>-1</td>\n",
       "      <td>-1</td>\n",
       "      <td>504644</td>\n",
       "      <td>512650</td>\n",
       "      <td>0</td>\n",
       "      <td>3887</td>\n",
       "      <td>0</td>\n",
       "      <td>7413</td>\n",
       "      <td>22650</td>\n",
       "      <td>0</td>\n",
       "      <td>3887</td>\n",
       "      <td>0</td>\n",
       "      <td>7413</td>\n",
       "      <td>0</td>\n",
       "      <td>1</td>\n",
       "      <td>0</td>\n",
       "      <td>0</td>\n",
       "      <td>0</td>\n",
       "      <td>0</td>\n",
       "      <td>0</td>\n",
       "      <td>0</td>\n",
       "      <td>0</td>\n",
       "      <td>0</td>\n",
       "    </tr>\n",
       "    <tr>\n",
       "      <th>7</th>\n",
       "      <td>490000</td>\n",
       "      <td>2</td>\n",
       "      <td>2</td>\n",
       "      <td>1</td>\n",
       "      <td>30</td>\n",
       "      <td>0</td>\n",
       "      <td>0</td>\n",
       "      <td>0</td>\n",
       "      <td>0</td>\n",
       "      <td>0</td>\n",
       "      <td>-1</td>\n",
       "      <td>26088</td>\n",
       "      <td>24092</td>\n",
       "      <td>24488</td>\n",
       "      <td>16995</td>\n",
       "      <td>-1527</td>\n",
       "      <td>62491</td>\n",
       "      <td>2003</td>\n",
       "      <td>2041</td>\n",
       "      <td>1092</td>\n",
       "      <td>4</td>\n",
       "      <td>64895</td>\n",
       "      <td>3003</td>\n",
       "      <td>0</td>\n",
       "      <td>0</td>\n",
       "      <td>0</td>\n",
       "      <td>0</td>\n",
       "      <td>0</td>\n",
       "      <td>0</td>\n",
       "      <td>0</td>\n",
       "      <td>0</td>\n",
       "      <td>0</td>\n",
       "    </tr>\n",
       "    <tr>\n",
       "      <th>8</th>\n",
       "      <td>80000</td>\n",
       "      <td>1</td>\n",
       "      <td>1</td>\n",
       "      <td>2</td>\n",
       "      <td>26</td>\n",
       "      <td>1</td>\n",
       "      <td>2</td>\n",
       "      <td>2</td>\n",
       "      <td>0</td>\n",
       "      <td>0</td>\n",
       "      <td>0</td>\n",
       "      <td>40029</td>\n",
       "      <td>41095</td>\n",
       "      <td>40137</td>\n",
       "      <td>40793</td>\n",
       "      <td>42990</td>\n",
       "      <td>42854</td>\n",
       "      <td>2000</td>\n",
       "      <td>0</td>\n",
       "      <td>1603</td>\n",
       "      <td>3000</td>\n",
       "      <td>2000</td>\n",
       "      <td>1056</td>\n",
       "      <td>0</td>\n",
       "      <td>0</td>\n",
       "      <td>0</td>\n",
       "      <td>0</td>\n",
       "      <td>0</td>\n",
       "      <td>1</td>\n",
       "      <td>0</td>\n",
       "      <td>0</td>\n",
       "      <td>0</td>\n",
       "    </tr>\n",
       "    <tr>\n",
       "      <th>9</th>\n",
       "      <td>130000</td>\n",
       "      <td>2</td>\n",
       "      <td>2</td>\n",
       "      <td>1</td>\n",
       "      <td>34</td>\n",
       "      <td>2</td>\n",
       "      <td>2</td>\n",
       "      <td>2</td>\n",
       "      <td>2</td>\n",
       "      <td>2</td>\n",
       "      <td>2</td>\n",
       "      <td>28967</td>\n",
       "      <td>30776</td>\n",
       "      <td>33071</td>\n",
       "      <td>32336</td>\n",
       "      <td>34186</td>\n",
       "      <td>34588</td>\n",
       "      <td>2500</td>\n",
       "      <td>3000</td>\n",
       "      <td>0</td>\n",
       "      <td>2600</td>\n",
       "      <td>1000</td>\n",
       "      <td>1500</td>\n",
       "      <td>1</td>\n",
       "      <td>1</td>\n",
       "      <td>1</td>\n",
       "      <td>1</td>\n",
       "      <td>1</td>\n",
       "      <td>1</td>\n",
       "      <td>1</td>\n",
       "      <td>1</td>\n",
       "      <td>1</td>\n",
       "    </tr>\n",
       "  </tbody>\n",
       "</table>\n",
       "</div>"
      ],
      "text/plain": [
       "   limit_balance  sex  education_level  marital_status  age  pay_0  pay_2  \\\n",
       "0         420000    2                2               2   32      0      0   \n",
       "1          30000    2                2               2   25      2      0   \n",
       "2          40000    2                3               1   60      0      0   \n",
       "3          70000    2                3               3   39      0      0   \n",
       "4          60000    2                2               2   24     -1      0   \n",
       "5         300000    2                1               1   30      0      0   \n",
       "6         500000    1                1               2   43      0      0   \n",
       "7         490000    2                2               1   30      0      0   \n",
       "8          80000    1                1               2   26      1      2   \n",
       "9         130000    2                2               1   34      2      2   \n",
       "\n",
       "   pay_3  pay_4  pay_5  pay_6  bill_amt_1  bill_amt_2  bill_amt_3  bill_amt_4  \\\n",
       "0      0      0      0      0      211688      205003      203118      198925   \n",
       "1      0      0      0      0       10343       11069       12082       12473   \n",
       "2      0      0      0      0       14019       15780       18519       21058   \n",
       "3     -1      0     -1      0       34244       32193       10803       15133   \n",
       "4     -1      0      0      0        9970        7699        9479       10213   \n",
       "5      0      0      0      0       93738       84636       88446       76244   \n",
       "6      0     -1     -1     -1      504644      512650           0        3887   \n",
       "7      0      0      0     -1       26088       24092       24488       16995   \n",
       "8      2      0      0      0       40029       41095       40137       40793   \n",
       "9      2      2      2      2       28967       30776       33071       32336   \n",
       "\n",
       "   bill_amt_5  bill_amt_6  pay_amt_1  pay_amt_2  pay_amt_3  pay_amt_4  \\\n",
       "0      175684      164037       7300       8839       8000       5900   \n",
       "1       12623       27460       1200       1201        592        500   \n",
       "2        8204        9899       2000       3000       3000       6000   \n",
       "3        3148        4699       3000      11000       5000       3150   \n",
       "4       10000       11832       1020       9479       1000        200   \n",
       "5       67747       70389       3000       5000       2500       2500   \n",
       "6           0        7413      22650          0       3887          0   \n",
       "7       -1527       62491       2003       2041       1092          4   \n",
       "8       42990       42854       2000          0       1603       3000   \n",
       "9       34186       34588       2500       3000          0       2600   \n",
       "\n",
       "   pay_amt_5  pay_amt_6  default_payment_next_month  Logreg  SVC  DT  RF  NB  \\\n",
       "0       6000       6000                           0       0    0   0   0   0   \n",
       "1       1500          0                           1       1    1   1   1   0   \n",
       "2       2000       2000                           0       0    0   0   0   0   \n",
       "3       2000       4000                           0       0    0   1   0   0   \n",
       "4       1832       5889                           0       0    0   0   0   0   \n",
       "5       3500      87000                           1       0    0   0   0   0   \n",
       "6       7413          0                           1       0    0   0   0   0   \n",
       "7      64895       3003                           0       0    0   0   0   0   \n",
       "8       2000       1056                           0       0    0   0   0   1   \n",
       "9       1000       1500                           1       1    1   1   1   1   \n",
       "\n",
       "   KNN  AB  grid_SVC  \n",
       "0    0   0         0  \n",
       "1    1   1         1  \n",
       "2    0   0         0  \n",
       "3    0   0         0  \n",
       "4    0   0         0  \n",
       "5    0   0         0  \n",
       "6    0   0         0  \n",
       "7    0   0         0  \n",
       "8    0   0         0  \n",
       "9    1   1         1  "
      ]
     },
     "execution_count": 93,
     "metadata": {},
     "output_type": "execute_result"
    }
   ],
   "source": [
    "# Concat kolom\n",
    "pd.concat([df_inf, hasil_prediksi], axis=1)"
   ]
  },
  {
   "cell_type": "markdown",
   "metadata": {},
   "source": [
    "Setelah diuji dengan data inference, model yang performanya baik adalah Logreg, SVC, Adaboost, dan SVC dengan parameter terbaik berdasarkan GridSearch. \n",
    "\n",
    "Untuk decision tree, random forest, dan KNN selain mengalami overfitting, ternyata performanya juga tidak stabil. Setelah diuji dengan data inference, decision tree dan KNN mengalami peningkatan performa sedangkan random forest mengalami penurunan performa. \n",
    "\n",
    "Sedangkan Naive Bayes yang hasil train dan test setnya good fit, ternyata malah mengalami penurunan performa setelah diuji dengan data inference.\n",
    "\n",
    "Interpretasi dari kolom target:\n",
    "\n",
    "- 0 = No (tidak gagal bayar)\n",
    "- 1 = Yes (gagal bayar)\n",
    "Sumber: https://towardsdatascience.com/catching-a-welcher-classifying-a-credit-card-defaulter-f4b21547a618\n"
   ]
  },
  {
   "cell_type": "markdown",
   "metadata": {},
   "source": [
    "# Conclusion\n",
    "\n",
    "# Dataset secara umum\n",
    "\n",
    "Hal yang paling menarik perhatian saya dari dataset ini adalah tingginya presentase pemegang kartu kredit yang mengalami gagal bayar pada periode April - September 2005. Presentase tersebut cukup tinggi karena mencapai 21.4%. Ternyata setelah ditelusuri lebih lanjut, pada periode tersebut Taiwan sedang mengalami krisis utang kartu kredit. Krisis tersebut mencapai puncaknya pada bulan April 2006 dimana sekitar 500,000 orang mengalami gagal bayar. Pada periode ini total utang kartu kredit mencapai 268 miliar USD. Akibat dari krisis ini sangat buruk karena banyak orang kehilangan aset, gagal membayar uang sekolah anak, bahkan sampai meningkatkan tingkat bunuh diri di Taiwan saat itu. \n",
    "\n",
    "Akar dari krisis ini adalah penggunaan kartu kredit yang kurang bijak. Pada saat itu, diperkirakan ada 133 kartu kredit yang di-issued per 100 orang di Taiwan. Artinya satu orang di Taiwan dapat memegang hingga empat atau lebih kartu kredit. Rate penggunaan kartu kredit juga sangat tinggi, dimana saat itu Taiwan merupakan customer terbesar Visa di wilayah Asia-Pasifik dan hanya tertinggal dari AS dan Inggris secara global. \n",
    "\n",
    "Moral story dari kasus ini sebenarnya cukup sederhana. Kita harus bijak dalam menggunakan kartu kredit, gunakan kartu kredit sesuai dengan kemampuan kita, kontrol penggunaan kartu kredit, dan perlakukan kartu kredit sebagai hanya sebagai last resort. Ingat bahwa dengan menggunakan kartu kredit itu sama saja dengan kita berutang ke bank.\n",
    "\n",
    "Sumber: https://sevenpillarsinstitute.org/case-studies/taiwans-credit-card-crisis/, https://www.proquest.com/docview/198853005\n",
    "\n",
    "# Algoritma, model, dan evaluation metrics\n",
    "\n",
    "- Berdasarkan hasil uji dengan dataset inference, model yang performanya baik adalah Logreg, SVC, Adaboost, dan SVC dengan parameter terbaik berdasarkan GridSearch. Performa keempat model ini cukup seragam dimana seluruhnya hanya salah mengklasifikasikan target sebanyak dua kali.\n",
    "\n",
    "- Model decision tree, random forest, dan KNN mengalami overfitting saat diuji dengan test set. Selain itu performanya juga tidak stabil ketika diuji dengan data inference. Setelah diuji dengan data inference, decision tree dan KNN mengalami peningkatan performa sedangkan random forest mengalami penurunan performa. \n",
    "\n",
    "- Yang cukup menarik adalah hasil uji inference Naive Bayes. Pada saat proses evaluasi, model ini performanya cukup baik dan merupakan good fit, namun ketika diuji dengan data inference ternyata mengalami penurunan performa. \n",
    "\n",
    "- Menemukan model terbaik untuk sebuah dataset tidaklah mudah. Karena Dataset yang sedang kita kerjakan kadangkala cocok dengan suatu model, namun tidak cocok dengan model lainnya. Disinilah pentingnya bagi kita untuk membuat beberapa model dan membandingkan performa model-model tersebut untuk menemukan model dengan performa terbaik. \n"
   ]
  },
  {
   "cell_type": "markdown",
   "metadata": {},
   "source": [
    "# Jawab pertanyaan\n",
    "\n",
    "1. Apakah fungsi parameter `criterion` pada Decision Tree? Jelaskan salah satu criterion yang kalian pahami!\n",
    "\n",
    "Dalam decision tree, criterion berfungsi untuk menentukan parameter apa yang digunakan untuk memisahkan atribut. Tujuannya untuk mengoptimalkan nilai split dari decision tree yang dibuat.\n",
    "\n",
    "Salah satu parameter criterion dalam decision tree adalah gini index. Parameter ini mengukur ketidaksetaraan antara distribusi dan karakteristik label, lalu mengeluarkan hasil pengurangan gini index rata-rata yang nantinya menghasilkan decision tree.\n",
    "\n",
    "Sumber: https://sis.binus.ac.id/2022/02/17/mengenal-algoritma-decision-tree/\n",
    "\n",
    "2. Apakah fungsi dari `pruning` pada Tree model?\n",
    "\n",
    "Pruning dalam tree model dapat diibaratkan dengan mengidentifikasi dan memotong cabang yang tidak diperlukan dari pohon. Ketika membuat decision tree, hasil yang dikeluarkan sering kali berukuran besar. Pruning menyederhanakan hal ini dengan melakukan pemangkasan berdasarkan confidence level.\n",
    "\n",
    "Sumber: http://diyanaprilia.blog.widyatama.ac.id/2019/10/08/4-decision-tree/\n",
    "\n",
    "3. Bagaimana cara memilih `K` yang optimal pada KNN?\n",
    "\n",
    "Tidak ada cara yang pasti untuk memilih 'K' yabg paling optimal dalam KNN. Cara yang paling baik adalah dengan melakukan trial and error. Namun dalam dunia data science ada beberapa cara yang umum dilakukan. Seperti menggunakan elbow method, memilih K value ganjil ketika target kelasnya genap, dan sebaliknya, atau memasukan K value secara random.\n",
    "\n",
    "Sumber: https://www.quora.com/How-can-I-choose-the-best-K-in-KNN-K-nearest-neighbour-classification, https://discuss.analyticsvidhya.com/t/how-to-choose-the-value-of-k-in-knn-algorithm/2606, https://stackoverflow.com/questions/11568897/value-of-k-in-k-nearest-neighbor-algorithm\n",
    "\n",
    "4. Jelaskan apa yang kalian ketahui tentang `Cross Validation`!\n",
    "\n",
    "Cross validation adalah salah satu metode yang dapat digunakan untuk mengevaluasi kinerja model. Cara kerjanya adalah dengan memisahkan data menjadi dua subset yaitu data train dan data validation. Untuk menjalankan cross validation biasanya kita harus menentukan jumlah fold yang gunanya untuk mengurangi waktu penghitungan dengan tetap memperhatikan keakuratan estimasi. \n",
    "\n",
    "Sumber: https://mti.binus.ac.id/2017/11/24/10-fold-cross-validation/\n",
    "\n",
    "5. Jelaskan apa yang kalian ketahui tentang `Accuracy, Precision, Recall, F1 Score`!\n",
    "\n",
    "- Accuracy menggambarkan keakuratan model atau algoritma dalam mengklasifikasikan dengan benar.\n",
    "\n",
    "- Precision menggambarkan keakuratan antara target dengan hasil prediksi yang dikeluarkan oleh model. \n",
    "\n",
    "- Recall menggambarkan rasio prediksi true positive dibandingkan dengan hasil positive secara keseluruhan\n",
    "\n",
    "- F1 score  menggambarkan perbandingan rata-rata precision dan recall yang dibobotkan.\n",
    "\n",
    "Sumber: https://socs.binus.ac.id/2020/11/01/confusion-matrix/"
   ]
  }
 ],
 "metadata": {
  "interpreter": {
   "hash": "c656109590d48192edc5049bd821f9c22d25396e84daa2fca2c0589f5186d14f"
  },
  "kernelspec": {
   "display_name": "Python 3.9.12 ('base')",
   "language": "python",
   "name": "python3"
  },
  "language_info": {
   "codemirror_mode": {
    "name": "ipython",
    "version": 3
   },
   "file_extension": ".py",
   "mimetype": "text/x-python",
   "name": "python",
   "nbconvert_exporter": "python",
   "pygments_lexer": "ipython3",
   "version": "3.9.12"
  },
  "orig_nbformat": 4
 },
 "nbformat": 4,
 "nbformat_minor": 2
}
